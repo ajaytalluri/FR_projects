{
 "cells": [
  {
   "cell_type": "code",
   "execution_count": 1,
   "metadata": {},
   "outputs": [],
   "source": [
    "import pandas as pd\n",
    "import selenium\n",
    "from selenium import webdriver\n",
    "import time\n",
    "from selenium.common.exceptions import NoSuchElementException\n",
    "from selenium.webdriver.support.ui import WebDriverWait\n",
    "from selenium.webdriver.support import expected_conditions as EC\n",
    "from selenium.webdriver.common.by import By"
   ]
  },
  {
   "cell_type": "code",
   "execution_count": 13,
   "metadata": {},
   "outputs": [],
   "source": [
    "driver=webdriver.Chrome(\"D:\\Drivers\\chrome\\chromedriver.exe\")"
   ]
  },
  {
   "cell_type": "code",
   "execution_count": 14,
   "metadata": {},
   "outputs": [],
   "source": [
    "driver.get('https://www.deccanherald.com/sitemap/detail/year/2015-1')"
   ]
  },
  {
   "cell_type": "code",
   "execution_count": 15,
   "metadata": {},
   "outputs": [],
   "source": [
    "urls=[my_elem.get_attribute(\"href\") for my_elem in driver.find_elements_by_xpath('//div[@class=\"grid-inner clearfix\"][1]/ul/li/a')]\n"
   ]
  },
  {
   "cell_type": "code",
   "execution_count": 5,
   "metadata": {
    "collapsed": true
   },
   "outputs": [
    {
     "data": {
      "text/plain": [
       "['https://www.deccanherald.com/sitemap/detail/days/2015-01-01',\n",
       " 'https://www.deccanherald.com/sitemap/detail/days/2015-01-02',\n",
       " 'https://www.deccanherald.com/sitemap/detail/days/2015-01-03',\n",
       " 'https://www.deccanherald.com/sitemap/detail/days/2015-01-04',\n",
       " 'https://www.deccanherald.com/sitemap/detail/days/2015-01-05',\n",
       " 'https://www.deccanherald.com/sitemap/detail/days/2015-01-06',\n",
       " 'https://www.deccanherald.com/sitemap/detail/days/2015-01-07',\n",
       " 'https://www.deccanherald.com/sitemap/detail/days/2015-01-08',\n",
       " 'https://www.deccanherald.com/sitemap/detail/days/2015-01-09',\n",
       " 'https://www.deccanherald.com/sitemap/detail/days/2015-01-10',\n",
       " 'https://www.deccanherald.com/sitemap/detail/days/2015-01-11',\n",
       " 'https://www.deccanherald.com/sitemap/detail/days/2015-01-12',\n",
       " 'https://www.deccanherald.com/sitemap/detail/days/2015-01-13',\n",
       " 'https://www.deccanherald.com/sitemap/detail/days/2015-01-14',\n",
       " 'https://www.deccanherald.com/sitemap/detail/days/2015-01-15',\n",
       " 'https://www.deccanherald.com/sitemap/detail/days/2015-01-16',\n",
       " 'https://www.deccanherald.com/sitemap/detail/days/2015-01-17',\n",
       " 'https://www.deccanherald.com/sitemap/detail/days/2015-01-18',\n",
       " 'https://www.deccanherald.com/sitemap/detail/days/2015-01-19',\n",
       " 'https://www.deccanherald.com/sitemap/detail/days/2015-01-20',\n",
       " 'https://www.deccanherald.com/sitemap/detail/days/2015-01-21',\n",
       " 'https://www.deccanherald.com/sitemap/detail/days/2015-01-22',\n",
       " 'https://www.deccanherald.com/sitemap/detail/days/2015-01-23',\n",
       " 'https://www.deccanherald.com/sitemap/detail/days/2015-01-24',\n",
       " 'https://www.deccanherald.com/sitemap/detail/days/2015-01-25',\n",
       " 'https://www.deccanherald.com/sitemap/detail/days/2015-01-26',\n",
       " 'https://www.deccanherald.com/sitemap/detail/days/2015-01-27',\n",
       " 'https://www.deccanherald.com/sitemap/detail/days/2015-01-28',\n",
       " 'https://www.deccanherald.com/sitemap/detail/days/2015-01-29',\n",
       " 'https://www.deccanherald.com/sitemap/detail/days/2015-01-30',\n",
       " 'https://www.deccanherald.com/sitemap/detail/days/2015-01-31']"
      ]
     },
     "execution_count": 5,
     "metadata": {},
     "output_type": "execute_result"
    }
   ],
   "source": [
    "urls"
   ]
  },
  {
   "cell_type": "code",
   "execution_count": 6,
   "metadata": {},
   "outputs": [],
   "source": [
    "date=[]\n",
    "vertical=[]\n",
    "author=[]\n",
    "headline=[]\n",
    "description=[]\n",
    "delay = 5 # seconds"
   ]
  },
  {
   "cell_type": "code",
   "execution_count": 8,
   "metadata": {},
   "outputs": [],
   "source": [
    "for url in urls:\n",
    "    driver.get(url)\n",
    "    time.sleep(5)\n",
    "    urls_1=[my_elem.get_attribute(\"href\") for my_elem in driver.find_elements_by_xpath('//div[@class=\"grid-inner clearfix\"][1]//ul/li/a')]\n",
    "    \n",
    "    for i in urls_1:\n",
    "        try:\n",
    "            driver.get(i)\n",
    "            time.sleep(5)\n",
    "            date_tag=driver.find_elements_by_xpath('//div[@id=\"main-wrapper\"]/div/div/div[3]//div[2]/ul/li[1]')\n",
    "            for i in date_tag:\n",
    "                dates=i.text\n",
    "                date.append(dates)\n",
    "            vertical_tag=driver.find_elements_by_xpath('//div[@id=\"breadcrumb-wrapper\"]/div/div/ul/li[2]/a')\n",
    "            for i in vertical_tag:\n",
    "                verticals=i.text\n",
    "                vertical.append(verticals)\n",
    "                \n",
    "            \n",
    "            author_tag= driver.find_elements_by_xpath('//div[@id=\"main-wrapper\"]/div/div/div[3]//div[2]/span')\n",
    "            for i in author_tag:\n",
    "                authors=i.text\n",
    "                author.append(authors)\n",
    "            headline_tag=driver.find_elements_by_xpath('//div[@id=\"main-wrapper\"]/div/div/div[2]//h1')\n",
    "            for i in headline_tag:\n",
    "                headlines=i.text\n",
    "                headline.append(headlines)\n",
    "            description.append(driver.find_element_by_xpath(\"//div[@class='field field-name-body field-type-text-with-summary field-label-hidden']\").text)\n",
    "        except NoSuchElementException:\n",
    "            break"
   ]
  },
  {
   "cell_type": "code",
   "execution_count": 9,
   "metadata": {},
   "outputs": [
    {
     "data": {
      "text/plain": [
       "(5250, 5250)"
      ]
     },
     "execution_count": 9,
     "metadata": {},
     "output_type": "execute_result"
    }
   ],
   "source": [
    "len(date),len(description)"
   ]
  },
  {
   "cell_type": "code",
   "execution_count": 11,
   "metadata": {
    "scrolled": true
   },
   "outputs": [
    {
     "data": {
      "text/plain": [
       "5250"
      ]
     },
     "execution_count": 11,
     "metadata": {},
     "output_type": "execute_result"
    }
   ],
   "source": [
    "len(headline)"
   ]
  },
  {
   "cell_type": "code",
   "execution_count": 17,
   "metadata": {},
   "outputs": [],
   "source": [
    "ver=[]\n",
    "aut=[]"
   ]
  },
  {
   "cell_type": "code",
   "execution_count": 18,
   "metadata": {},
   "outputs": [],
   "source": [
    "for url in urls:\n",
    "    driver.get(url)\n",
    "    time.sleep(5)\n",
    "    urls_1=[my_elem.get_attribute(\"href\") for my_elem in driver.find_elements_by_xpath('//div[@class=\"grid-inner clearfix\"][1]//ul/li/a')]\n",
    "   \n",
    "    \n",
    "    for i in urls_1:\n",
    "        try:  \n",
    "            driver.get(i)\n",
    "            time.sleep(3)\n",
    "            aut_tag=driver.find_elements_by_xpath('//div[@class=\"group article-author relative-main\"]/div[2]/ul/li[1]')\n",
    "            for k in aut_tag:\n",
    "                auth=k.text\n",
    "                aut.append(auth)\n",
    "            vers=driver.find_elements_by_xpath('//div[@id=\"breadcrumb-wrapper\"]/div/div/ul/li[2]/a')\n",
    "            for j in vers:\n",
    "                versi=j.text\n",
    "                ver.append(versi)\n",
    "        except NoSuchElementException:\n",
    "            break"
   ]
  },
  {
   "cell_type": "code",
   "execution_count": 19,
   "metadata": {},
   "outputs": [
    {
     "data": {
      "text/plain": [
       "5250"
      ]
     },
     "execution_count": 19,
     "metadata": {},
     "output_type": "execute_result"
    }
   ],
   "source": [
    "len(aut)"
   ]
  },
  {
   "cell_type": "code",
   "execution_count": 20,
   "metadata": {},
   "outputs": [
    {
     "data": {
      "text/plain": [
       "5250"
      ]
     },
     "execution_count": 20,
     "metadata": {},
     "output_type": "execute_result"
    }
   ],
   "source": [
    "len(ver)"
   ]
  },
  {
   "cell_type": "code",
   "execution_count": 21,
   "metadata": {},
   "outputs": [],
   "source": [
    "News=pd.DataFrame({})\n",
    "News['Date']=date\n",
    "News['Vertical']=ver\n",
    "News['Author']=aut\n",
    "News['Head Line']=headline\n",
    "News['Description']=description\n",
    "News.to_csv('News_January_2015')"
   ]
  },
  {
   "cell_type": "code",
   "execution_count": 22,
   "metadata": {},
   "outputs": [
    {
     "data": {
      "text/html": [
       "<div>\n",
       "<style scoped>\n",
       "    .dataframe tbody tr th:only-of-type {\n",
       "        vertical-align: middle;\n",
       "    }\n",
       "\n",
       "    .dataframe tbody tr th {\n",
       "        vertical-align: top;\n",
       "    }\n",
       "\n",
       "    .dataframe thead th {\n",
       "        text-align: right;\n",
       "    }\n",
       "</style>\n",
       "<table border=\"1\" class=\"dataframe\">\n",
       "  <thead>\n",
       "    <tr style=\"text-align: right;\">\n",
       "      <th></th>\n",
       "      <th>Date</th>\n",
       "      <th>Vertical</th>\n",
       "      <th>Author</th>\n",
       "      <th>Head Line</th>\n",
       "      <th>Description</th>\n",
       "    </tr>\n",
       "  </thead>\n",
       "  <tbody>\n",
       "    <tr>\n",
       "      <th>0</th>\n",
       "      <td>JAN 01 2015, 07:10 IST</td>\n",
       "      <td>Business</td>\n",
       "      <td>JAN 01 2015, 07:10 IST</td>\n",
       "      <td>'Make in India' viewed as reigniting growth</td>\n",
       "      <td>Seeing opportunities in a challenging environm...</td>\n",
       "    </tr>\n",
       "    <tr>\n",
       "      <th>1</th>\n",
       "      <td>JAN 01 2015, 07:17 IST</td>\n",
       "      <td>Business</td>\n",
       "      <td>JAN 01 2015, 07:17 IST</td>\n",
       "      <td>TRAI suggests 3G base rate at Rs 2,720 cr per Mhz</td>\n",
       "      <td>The Telecom Regulatory Authority of India on W...</td>\n",
       "    </tr>\n",
       "    <tr>\n",
       "      <th>2</th>\n",
       "      <td>JAN 01 2015, 07:20 IST</td>\n",
       "      <td>Business</td>\n",
       "      <td>JAN 01 2015, 07:20 IST</td>\n",
       "      <td>Apr-Nov deficit at 99% of full-year target</td>\n",
       "      <td>Posing a serious challenge to the government’s...</td>\n",
       "    </tr>\n",
       "    <tr>\n",
       "      <th>3</th>\n",
       "      <td>JAN 01 2015, 07:25 IST</td>\n",
       "      <td>Business</td>\n",
       "      <td>JAN 01 2015, 07:25 IST</td>\n",
       "      <td>Govt separates MD, chairman posts in PSBs</td>\n",
       "      <td>In a significant departure from the earlier pr...</td>\n",
       "    </tr>\n",
       "    <tr>\n",
       "      <th>4</th>\n",
       "      <td>JAN 01 2015, 07:27 IST</td>\n",
       "      <td>Business</td>\n",
       "      <td>JAN 01 2015, 07:27 IST</td>\n",
       "      <td>JSPL, JPL pay Rs 3,089 crore additional levy t...</td>\n",
       "      <td>Jindal Steel and Power (JSPL), along with its ...</td>\n",
       "    </tr>\n",
       "    <tr>\n",
       "      <th>...</th>\n",
       "      <td>...</td>\n",
       "      <td>...</td>\n",
       "      <td>...</td>\n",
       "      <td>...</td>\n",
       "      <td>...</td>\n",
       "    </tr>\n",
       "    <tr>\n",
       "      <th>5245</th>\n",
       "      <td>JAN 31 2015, 23:17 IST</td>\n",
       "      <td>Archives</td>\n",
       "      <td>JAN 31 2015, 23:17 IST</td>\n",
       "      <td>A Bapu circuit to woo visitors</td>\n",
       "      <td>It’s widely known that Mahatma Gandhi started ...</td>\n",
       "    </tr>\n",
       "    <tr>\n",
       "      <th>5246</th>\n",
       "      <td>JAN 31 2015, 23:21 IST</td>\n",
       "      <td>Specials</td>\n",
       "      <td>JAN 31 2015, 23:21 IST</td>\n",
       "      <td>Delhi: It's Kejriwal vs Kiran Bedi</td>\n",
       "      <td>All eyes are riveted on Little Delhi, though i...</td>\n",
       "    </tr>\n",
       "    <tr>\n",
       "      <th>5247</th>\n",
       "      <td>JAN 31 2015, 23:23 IST</td>\n",
       "      <td>Specials</td>\n",
       "      <td>JAN 31 2015, 23:23 IST</td>\n",
       "      <td>AAP: Speedy revival</td>\n",
       "      <td>Having nearly lost people’s goodwill following...</td>\n",
       "    </tr>\n",
       "    <tr>\n",
       "      <th>5248</th>\n",
       "      <td>JAN 31 2015, 23:26 IST</td>\n",
       "      <td>Specials</td>\n",
       "      <td>JAN 31 2015, 23:26 IST</td>\n",
       "      <td>Congress confident</td>\n",
       "      <td>Ajay Maken is the chief of Congress’ campaign ...</td>\n",
       "    </tr>\n",
       "    <tr>\n",
       "      <th>5249</th>\n",
       "      <td>JAN 31 2015, 23:28 IST</td>\n",
       "      <td>Specials</td>\n",
       "      <td>JAN 31 2015, 23:28 IST</td>\n",
       "      <td>BJP pulls out all stops</td>\n",
       "      <td>When the BJP inducted ‘outsider’ Kiran Bedi ab...</td>\n",
       "    </tr>\n",
       "  </tbody>\n",
       "</table>\n",
       "<p>5250 rows × 5 columns</p>\n",
       "</div>"
      ],
      "text/plain": [
       "                        Date  Vertical                  Author  \\\n",
       "0     JAN 01 2015, 07:10 IST  Business  JAN 01 2015, 07:10 IST   \n",
       "1     JAN 01 2015, 07:17 IST  Business  JAN 01 2015, 07:17 IST   \n",
       "2     JAN 01 2015, 07:20 IST  Business  JAN 01 2015, 07:20 IST   \n",
       "3     JAN 01 2015, 07:25 IST  Business  JAN 01 2015, 07:25 IST   \n",
       "4     JAN 01 2015, 07:27 IST  Business  JAN 01 2015, 07:27 IST   \n",
       "...                      ...       ...                     ...   \n",
       "5245  JAN 31 2015, 23:17 IST  Archives  JAN 31 2015, 23:17 IST   \n",
       "5246  JAN 31 2015, 23:21 IST  Specials  JAN 31 2015, 23:21 IST   \n",
       "5247  JAN 31 2015, 23:23 IST  Specials  JAN 31 2015, 23:23 IST   \n",
       "5248  JAN 31 2015, 23:26 IST  Specials  JAN 31 2015, 23:26 IST   \n",
       "5249  JAN 31 2015, 23:28 IST  Specials  JAN 31 2015, 23:28 IST   \n",
       "\n",
       "                                              Head Line  \\\n",
       "0           'Make in India' viewed as reigniting growth   \n",
       "1     TRAI suggests 3G base rate at Rs 2,720 cr per Mhz   \n",
       "2            Apr-Nov deficit at 99% of full-year target   \n",
       "3             Govt separates MD, chairman posts in PSBs   \n",
       "4     JSPL, JPL pay Rs 3,089 crore additional levy t...   \n",
       "...                                                 ...   \n",
       "5245                     A Bapu circuit to woo visitors   \n",
       "5246                 Delhi: It's Kejriwal vs Kiran Bedi   \n",
       "5247                                AAP: Speedy revival   \n",
       "5248                                 Congress confident   \n",
       "5249                            BJP pulls out all stops   \n",
       "\n",
       "                                            Description  \n",
       "0     Seeing opportunities in a challenging environm...  \n",
       "1     The Telecom Regulatory Authority of India on W...  \n",
       "2     Posing a serious challenge to the government’s...  \n",
       "3     In a significant departure from the earlier pr...  \n",
       "4     Jindal Steel and Power (JSPL), along with its ...  \n",
       "...                                                 ...  \n",
       "5245  It’s widely known that Mahatma Gandhi started ...  \n",
       "5246  All eyes are riveted on Little Delhi, though i...  \n",
       "5247  Having nearly lost people’s goodwill following...  \n",
       "5248  Ajay Maken is the chief of Congress’ campaign ...  \n",
       "5249  When the BJP inducted ‘outsider’ Kiran Bedi ab...  \n",
       "\n",
       "[5250 rows x 5 columns]"
      ]
     },
     "execution_count": 22,
     "metadata": {},
     "output_type": "execute_result"
    }
   ],
   "source": [
    "News"
   ]
  },
  {
   "cell_type": "code",
   "execution_count": null,
   "metadata": {},
   "outputs": [],
   "source": []
  }
 ],
 "metadata": {
  "kernelspec": {
   "display_name": "Python 3",
   "language": "python",
   "name": "python3"
  },
  "language_info": {
   "codemirror_mode": {
    "name": "ipython",
    "version": 3
   },
   "file_extension": ".py",
   "mimetype": "text/x-python",
   "name": "python",
   "nbconvert_exporter": "python",
   "pygments_lexer": "ipython3",
   "version": "3.8.3"
  }
 },
 "nbformat": 4,
 "nbformat_minor": 4
}
