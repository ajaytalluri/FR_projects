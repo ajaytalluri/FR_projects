{
 "cells": [
  {
   "cell_type": "code",
   "execution_count": 1,
   "metadata": {},
   "outputs": [],
   "source": [
    "import pandas as pd\n",
    "import selenium\n",
    "from selenium import webdriver\n",
    "import time"
   ]
  },
  {
   "cell_type": "code",
   "execution_count": 12,
   "metadata": {},
   "outputs": [],
   "source": [
    "driver=webdriver.Chrome(\"D:\\Drivers\\chrome\\chromedriver.exe\")"
   ]
  },
  {
   "cell_type": "markdown",
   "metadata": {},
   "source": [
    "### 1. Wiki_Youtube_Top Viewed"
   ]
  },
  {
   "cell_type": "code",
   "execution_count": 7,
   "metadata": {},
   "outputs": [],
   "source": [
    "Rank=[]\n",
    "Name=[]\n",
    "Artist=[]\n",
    "Uploadate=[]\n",
    "Views=[]"
   ]
  },
  {
   "cell_type": "code",
   "execution_count": 8,
   "metadata": {},
   "outputs": [],
   "source": [
    "url=\"https://en.wikipedia.org/wiki/List_of_most-viewed_YouTube_videos\"\n",
    "driver.get(url)"
   ]
  },
  {
   "cell_type": "code",
   "execution_count": 9,
   "metadata": {},
   "outputs": [],
   "source": [
    "rank_tags=driver.find_elements_by_xpath('//table[@class=\"wikitable sortable jquery-tablesorter\"][1]//td[1]')"
   ]
  },
  {
   "cell_type": "code",
   "execution_count": 10,
   "metadata": {},
   "outputs": [
    {
     "data": {
      "text/plain": [
       "['1.', '2.', '3.', '4.']"
      ]
     },
     "execution_count": 10,
     "metadata": {},
     "output_type": "execute_result"
    }
   ],
   "source": [
    "for i in rank_tags:\n",
    "    ranks=i.text\n",
    "    Rank.append(ranks)\n",
    "Rank[0:4]"
   ]
  },
  {
   "cell_type": "code",
   "execution_count": 11,
   "metadata": {},
   "outputs": [],
   "source": [
    "name_tags=driver.find_elements_by_xpath('//table[@class=\"wikitable sortable jquery-tablesorter\"][1]//td[2]')"
   ]
  },
  {
   "cell_type": "code",
   "execution_count": 15,
   "metadata": {
    "collapsed": true
   },
   "outputs": [
    {
     "data": {
      "text/plain": [
       "['\"Baby Shark Dance\"[28]',\n",
       " '\"Despacito\"[30]',\n",
       " '\"Shape of You\"[31]',\n",
       " '\"See You Again\"[32]',\n",
       " '\"Masha and the Bear – Recipe for Disaster\"[35]',\n",
       " '\"Johny Johny Yes Papa\"[36]',\n",
       " '\"Uptown Funk\"[37]',\n",
       " '\"Gangnam Style\"[38]',\n",
       " '\"Learning Colors – Colorful Eggs on a Farm\"[40]',\n",
       " '\"Sorry\"[41]',\n",
       " '\"Bath Song\"[42]',\n",
       " '\"Sugar\"[43]',\n",
       " '\"Phonics Song with Two Words\"[44]',\n",
       " '\"Roar\"[45]',\n",
       " '\"Thinking Out Loud\"[46]',\n",
       " '\"Counting Stars\"[47]',\n",
       " '\"Shake It Off\"[48]',\n",
       " '\"Dame Tu Cosita\"[49]',\n",
       " '\"Bailando\"[50]',\n",
       " '\"Lean On\"[51]',\n",
       " '\"Faded\"[52]',\n",
       " '\"Dark Horse\"[53]',\n",
       " '\"Girls Like You\"[54]',\n",
       " '\"Let Her Go\"[55]',\n",
       " '\"Mi Gente\"[56]',\n",
       " '\"Hello\"[57]',\n",
       " '\"Blank Space\"[58]',\n",
       " '\"Waka Waka (This Time for Africa)\"[59]',\n",
       " '\"Perfect\"[60]',\n",
       " '\"Chantaje\"[61]',\n",
       " <function str.strip(chars=None, /)>,\n",
       " <function str.strip(chars=None, /)>,\n",
       " <function str.strip(chars=None, /)>,\n",
       " <function str.strip(chars=None, /)>,\n",
       " <function str.strip(chars=None, /)>,\n",
       " <function str.strip(chars=None, /)>,\n",
       " <function str.strip(chars=None, /)>,\n",
       " <function str.strip(chars=None, /)>,\n",
       " <function str.strip(chars=None, /)>,\n",
       " <function str.strip(chars=None, /)>,\n",
       " <function str.strip(chars=None, /)>,\n",
       " <function str.strip(chars=None, /)>,\n",
       " <function str.strip(chars=None, /)>,\n",
       " <function str.strip(chars=None, /)>,\n",
       " <function str.strip(chars=None, /)>,\n",
       " <function str.strip(chars=None, /)>,\n",
       " <function str.strip(chars=None, /)>,\n",
       " <function str.strip(chars=None, /)>,\n",
       " <function str.strip(chars=None, /)>,\n",
       " <function str.strip(chars=None, /)>,\n",
       " <function str.strip(chars=None, /)>,\n",
       " <function str.strip(chars=None, /)>,\n",
       " <function str.strip(chars=None, /)>,\n",
       " <function str.strip(chars=None, /)>,\n",
       " <function str.strip(chars=None, /)>,\n",
       " <function str.strip(chars=None, /)>,\n",
       " <function str.strip(chars=None, /)>,\n",
       " <function str.strip(chars=None, /)>,\n",
       " <function str.strip(chars=None, /)>,\n",
       " <function str.strip(chars=None, /)>,\n",
       " '\"Baby Shark Dance\"[28]',\n",
       " '\"Despacito\"[30]',\n",
       " '\"Shape of You\"[31]',\n",
       " '\"See You Again\"[32]',\n",
       " '\"Masha and the Bear – Recipe for Disaster\"[35]',\n",
       " '\"Johny Johny Yes Papa\"[36]',\n",
       " '\"Uptown Funk\"[37]',\n",
       " '\"Gangnam Style\"[38]',\n",
       " '\"Learning Colors – Colorful Eggs on a Farm\"[40]',\n",
       " '\"Sorry\"[41]',\n",
       " '\"Bath Song\"[42]',\n",
       " '\"Sugar\"[43]',\n",
       " '\"Phonics Song with Two Words\"[44]',\n",
       " '\"Roar\"[45]',\n",
       " '\"Thinking Out Loud\"[46]',\n",
       " '\"Counting Stars\"[47]',\n",
       " '\"Shake It Off\"[48]',\n",
       " '\"Dame Tu Cosita\"[49]',\n",
       " '\"Bailando\"[50]',\n",
       " '\"Lean On\"[51]',\n",
       " '\"Faded\"[52]',\n",
       " '\"Dark Horse\"[53]',\n",
       " '\"Girls Like You\"[54]',\n",
       " '\"Let Her Go\"[55]',\n",
       " '\"Mi Gente\"[56]',\n",
       " '\"Hello\"[57]',\n",
       " '\"Blank Space\"[58]',\n",
       " '\"Waka Waka (This Time for Africa)\"[59]',\n",
       " '\"Perfect\"[60]',\n",
       " '\"Chantaje\"[61]',\n",
       " '\"Baby Shark Dance\"[28]',\n",
       " '\"Despacito\"[30]',\n",
       " '\"Shape of You\"[31]',\n",
       " '\"See You Again\"[32]',\n",
       " '\"Masha and the Bear – Recipe for Disaster\"[35]',\n",
       " '\"Johny Johny Yes Papa\"[36]',\n",
       " '\"Uptown Funk\"[37]',\n",
       " '\"Gangnam Style\"[38]',\n",
       " '\"Learning Colors – Colorful Eggs on a Farm\"[40]',\n",
       " '\"Sorry\"[41]',\n",
       " '\"Bath Song\"[42]',\n",
       " '\"Sugar\"[43]',\n",
       " '\"Phonics Song with Two Words\"[44]',\n",
       " '\"Roar\"[45]',\n",
       " '\"Thinking Out Loud\"[46]',\n",
       " '\"Counting Stars\"[47]',\n",
       " '\"Shake It Off\"[48]',\n",
       " '\"Dame Tu Cosita\"[49]',\n",
       " '\"Bailando\"[50]',\n",
       " '\"Lean On\"[51]',\n",
       " '\"Faded\"[52]',\n",
       " '\"Dark Horse\"[53]',\n",
       " '\"Girls Like You\"[54]',\n",
       " '\"Let Her Go\"[55]',\n",
       " '\"Mi Gente\"[56]',\n",
       " '\"Hello\"[57]',\n",
       " '\"Blank Space\"[58]',\n",
       " '\"Waka Waka (This Time for Africa)\"[59]',\n",
       " '\"Perfect\"[60]',\n",
       " '\"Chantaje\"[61]']"
      ]
     },
     "execution_count": 15,
     "metadata": {},
     "output_type": "execute_result"
    }
   ],
   "source": [
    "for i in name_tags:\n",
    "    names=i.text.strip()\n",
    "    Name.append(names)\n",
    "Name"
   ]
  },
  {
   "cell_type": "code",
   "execution_count": 16,
   "metadata": {},
   "outputs": [],
   "source": [
    "artist_tags=driver.find_elements_by_xpath('//table[@class=\"wikitable sortable jquery-tablesorter\"][1]//td[3]')"
   ]
  },
  {
   "cell_type": "code",
   "execution_count": 20,
   "metadata": {},
   "outputs": [
    {
     "data": {
      "text/plain": [
       "[\"Pinkfong Kids' Songs & Stories\",\n",
       " 'Luis Fonsi featuring Daddy Yankee',\n",
       " 'Ed Sheeran',\n",
       " 'Wiz Khalifa featuring Charlie Puth']"
      ]
     },
     "execution_count": 20,
     "metadata": {},
     "output_type": "execute_result"
    }
   ],
   "source": [
    "for i in artist_tags:\n",
    "    artists=i.text\n",
    "    Artist.append(artists)\n",
    "Artist[0:4]"
   ]
  },
  {
   "cell_type": "code",
   "execution_count": 21,
   "metadata": {},
   "outputs": [],
   "source": [
    "date_tags=driver.find_elements_by_xpath('//table[@class=\"wikitable sortable jquery-tablesorter\"][1]//td[5]')"
   ]
  },
  {
   "cell_type": "code",
   "execution_count": 22,
   "metadata": {},
   "outputs": [
    {
     "data": {
      "text/plain": [
       "['June 17, 2016', 'January 12, 2017', 'January 30, 2017', 'April 6, 2015']"
      ]
     },
     "execution_count": 22,
     "metadata": {},
     "output_type": "execute_result"
    }
   ],
   "source": [
    "for i in date_tags:\n",
    "    dates=i.text\n",
    "    Uploadate.append(dates)\n",
    "Uploadate[0:4]"
   ]
  },
  {
   "cell_type": "code",
   "execution_count": 23,
   "metadata": {},
   "outputs": [],
   "source": [
    "view_tags=driver.find_elements_by_xpath('//table[@class=\"wikitable sortable jquery-tablesorter\"][1]//td[4]')"
   ]
  },
  {
   "cell_type": "code",
   "execution_count": 24,
   "metadata": {},
   "outputs": [
    {
     "data": {
      "text/plain": [
       "['7.39', '7.09', '5.10', '4.85']"
      ]
     },
     "execution_count": 24,
     "metadata": {},
     "output_type": "execute_result"
    }
   ],
   "source": [
    "for i in view_tags:\n",
    "    views=i.text\n",
    "    Views.append(views)\n",
    "Views[0:4]"
   ]
  },
  {
   "cell_type": "code",
   "execution_count": 25,
   "metadata": {},
   "outputs": [
    {
     "data": {
      "text/html": [
       "<div>\n",
       "<style scoped>\n",
       "    .dataframe tbody tr th:only-of-type {\n",
       "        vertical-align: middle;\n",
       "    }\n",
       "\n",
       "    .dataframe tbody tr th {\n",
       "        vertical-align: top;\n",
       "    }\n",
       "\n",
       "    .dataframe thead th {\n",
       "        text-align: right;\n",
       "    }\n",
       "</style>\n",
       "<table border=\"1\" class=\"dataframe\">\n",
       "  <thead>\n",
       "    <tr style=\"text-align: right;\">\n",
       "      <th></th>\n",
       "      <th>Rank</th>\n",
       "      <th>Name</th>\n",
       "      <th>Artist</th>\n",
       "      <th>Upload Date</th>\n",
       "      <th>Views in Millions</th>\n",
       "    </tr>\n",
       "  </thead>\n",
       "  <tbody>\n",
       "    <tr>\n",
       "      <th>0</th>\n",
       "      <td>1.</td>\n",
       "      <td>\"Baby Shark Dance\"[28]</td>\n",
       "      <td>Pinkfong Kids' Songs &amp; Stories</td>\n",
       "      <td>June 17, 2016</td>\n",
       "      <td>7.39</td>\n",
       "    </tr>\n",
       "    <tr>\n",
       "      <th>1</th>\n",
       "      <td>2.</td>\n",
       "      <td>\"Despacito\"[30]</td>\n",
       "      <td>Luis Fonsi featuring Daddy Yankee</td>\n",
       "      <td>January 12, 2017</td>\n",
       "      <td>7.09</td>\n",
       "    </tr>\n",
       "    <tr>\n",
       "      <th>2</th>\n",
       "      <td>3.</td>\n",
       "      <td>\"Shape of You\"[31]</td>\n",
       "      <td>Ed Sheeran</td>\n",
       "      <td>January 30, 2017</td>\n",
       "      <td>5.10</td>\n",
       "    </tr>\n",
       "    <tr>\n",
       "      <th>3</th>\n",
       "      <td>4.</td>\n",
       "      <td>\"See You Again\"[32]</td>\n",
       "      <td>Wiz Khalifa featuring Charlie Puth</td>\n",
       "      <td>April 6, 2015</td>\n",
       "      <td>4.85</td>\n",
       "    </tr>\n",
       "    <tr>\n",
       "      <th>4</th>\n",
       "      <td>5.</td>\n",
       "      <td>\"Masha and the Bear – Recipe for Disaster\"[35]</td>\n",
       "      <td>Get Movies</td>\n",
       "      <td>January 31, 2012</td>\n",
       "      <td>4.38</td>\n",
       "    </tr>\n",
       "    <tr>\n",
       "      <th>5</th>\n",
       "      <td>6.</td>\n",
       "      <td>\"Johny Johny Yes Papa\"[36]</td>\n",
       "      <td>LooLoo Kids</td>\n",
       "      <td>October 8, 2016</td>\n",
       "      <td>4.37</td>\n",
       "    </tr>\n",
       "    <tr>\n",
       "      <th>6</th>\n",
       "      <td>7.</td>\n",
       "      <td>\"Uptown Funk\"[37]</td>\n",
       "      <td>Mark Ronson featuring Bruno Mars</td>\n",
       "      <td>November 19, 2014</td>\n",
       "      <td>4.03</td>\n",
       "    </tr>\n",
       "    <tr>\n",
       "      <th>7</th>\n",
       "      <td>8.</td>\n",
       "      <td>\"Gangnam Style\"[38]</td>\n",
       "      <td>Psy</td>\n",
       "      <td>July 15, 2012</td>\n",
       "      <td>3.88</td>\n",
       "    </tr>\n",
       "    <tr>\n",
       "      <th>8</th>\n",
       "      <td>9.</td>\n",
       "      <td>\"Learning Colors – Colorful Eggs on a Farm\"[40]</td>\n",
       "      <td>Miroshka TV</td>\n",
       "      <td>February 27, 2018</td>\n",
       "      <td>3.66</td>\n",
       "    </tr>\n",
       "    <tr>\n",
       "      <th>9</th>\n",
       "      <td>10.</td>\n",
       "      <td>\"Sorry\"[41]</td>\n",
       "      <td>Justin Bieber</td>\n",
       "      <td>October 22, 2015</td>\n",
       "      <td>3.37</td>\n",
       "    </tr>\n",
       "    <tr>\n",
       "      <th>10</th>\n",
       "      <td>11.</td>\n",
       "      <td>\"Bath Song\"[42]</td>\n",
       "      <td>Cocomelon – Nursery Rhymes</td>\n",
       "      <td>May 2, 2018</td>\n",
       "      <td>3.34</td>\n",
       "    </tr>\n",
       "    <tr>\n",
       "      <th>11</th>\n",
       "      <td>12.</td>\n",
       "      <td>\"Sugar\"[43]</td>\n",
       "      <td>Maroon 5</td>\n",
       "      <td>January 14, 2015</td>\n",
       "      <td>3.34</td>\n",
       "    </tr>\n",
       "    <tr>\n",
       "      <th>12</th>\n",
       "      <td>13.</td>\n",
       "      <td>\"Phonics Song with Two Words\"[44]</td>\n",
       "      <td>ChuChu TV</td>\n",
       "      <td>March 6, 2014</td>\n",
       "      <td>3.30</td>\n",
       "    </tr>\n",
       "    <tr>\n",
       "      <th>13</th>\n",
       "      <td>14.</td>\n",
       "      <td>\"Roar\"[45]</td>\n",
       "      <td>Katy Perry</td>\n",
       "      <td>September 5, 2013</td>\n",
       "      <td>3.22</td>\n",
       "    </tr>\n",
       "    <tr>\n",
       "      <th>14</th>\n",
       "      <td>15.</td>\n",
       "      <td>\"Thinking Out Loud\"[46]</td>\n",
       "      <td>Ed Sheeran</td>\n",
       "      <td>October 7, 2014</td>\n",
       "      <td>3.13</td>\n",
       "    </tr>\n",
       "    <tr>\n",
       "      <th>15</th>\n",
       "      <td>16.</td>\n",
       "      <td>\"Counting Stars\"[47]</td>\n",
       "      <td>OneRepublic</td>\n",
       "      <td>May 31, 2013</td>\n",
       "      <td>3.13</td>\n",
       "    </tr>\n",
       "    <tr>\n",
       "      <th>16</th>\n",
       "      <td>17.</td>\n",
       "      <td>\"Shake It Off\"[48]</td>\n",
       "      <td>Taylor Swift</td>\n",
       "      <td>August 18, 2014</td>\n",
       "      <td>2.99</td>\n",
       "    </tr>\n",
       "    <tr>\n",
       "      <th>17</th>\n",
       "      <td>18.</td>\n",
       "      <td>\"Dame Tu Cosita\"[49]</td>\n",
       "      <td>El Chombo featuring Cutty Ranks</td>\n",
       "      <td>April 5, 2018</td>\n",
       "      <td>2.94</td>\n",
       "    </tr>\n",
       "    <tr>\n",
       "      <th>18</th>\n",
       "      <td>19.</td>\n",
       "      <td>\"Bailando\"[50]</td>\n",
       "      <td>Enrique Iglesias featuring Descemer Bueno and ...</td>\n",
       "      <td>April 11, 2014</td>\n",
       "      <td>2.94</td>\n",
       "    </tr>\n",
       "    <tr>\n",
       "      <th>19</th>\n",
       "      <td>20.</td>\n",
       "      <td>\"Lean On\"[51]</td>\n",
       "      <td>Major Lazer and DJ Snake featuring MØ</td>\n",
       "      <td>March 22, 2015</td>\n",
       "      <td>2.93</td>\n",
       "    </tr>\n",
       "    <tr>\n",
       "      <th>20</th>\n",
       "      <td>21.</td>\n",
       "      <td>\"Faded\"[52]</td>\n",
       "      <td>Alan Walker</td>\n",
       "      <td>December 3, 2015</td>\n",
       "      <td>2.92</td>\n",
       "    </tr>\n",
       "    <tr>\n",
       "      <th>21</th>\n",
       "      <td>22.</td>\n",
       "      <td>\"Dark Horse\"[53]</td>\n",
       "      <td>Katy Perry featuring Juicy J</td>\n",
       "      <td>February 20, 2014</td>\n",
       "      <td>2.92</td>\n",
       "    </tr>\n",
       "    <tr>\n",
       "      <th>22</th>\n",
       "      <td>23.</td>\n",
       "      <td>\"Girls Like You\"[54]</td>\n",
       "      <td>Maroon 5 featuring Cardi B</td>\n",
       "      <td>May 31, 2018</td>\n",
       "      <td>2.91</td>\n",
       "    </tr>\n",
       "    <tr>\n",
       "      <th>23</th>\n",
       "      <td>24.</td>\n",
       "      <td>\"Let Her Go\"[55]</td>\n",
       "      <td>Passenger</td>\n",
       "      <td>July 25, 2012</td>\n",
       "      <td>2.85</td>\n",
       "    </tr>\n",
       "    <tr>\n",
       "      <th>24</th>\n",
       "      <td>25.</td>\n",
       "      <td>\"Mi Gente\"[56]</td>\n",
       "      <td>J Balvin and Willy William</td>\n",
       "      <td>June 29, 2017</td>\n",
       "      <td>2.82</td>\n",
       "    </tr>\n",
       "    <tr>\n",
       "      <th>25</th>\n",
       "      <td>26.</td>\n",
       "      <td>\"Hello\"[57]</td>\n",
       "      <td>Adele</td>\n",
       "      <td>October 22, 2015</td>\n",
       "      <td>2.75</td>\n",
       "    </tr>\n",
       "    <tr>\n",
       "      <th>26</th>\n",
       "      <td>27.</td>\n",
       "      <td>\"Blank Space\"[58]</td>\n",
       "      <td>Taylor Swift</td>\n",
       "      <td>November 10, 2014</td>\n",
       "      <td>2.68</td>\n",
       "    </tr>\n",
       "    <tr>\n",
       "      <th>27</th>\n",
       "      <td>28.</td>\n",
       "      <td>\"Waka Waka (This Time for Africa)\"[59]</td>\n",
       "      <td>Shakira featuring Freshlyground</td>\n",
       "      <td>June 4, 2010</td>\n",
       "      <td>2.66</td>\n",
       "    </tr>\n",
       "    <tr>\n",
       "      <th>28</th>\n",
       "      <td>29.</td>\n",
       "      <td>\"Perfect\"[60]</td>\n",
       "      <td>Ed Sheeran</td>\n",
       "      <td>November 9, 2017</td>\n",
       "      <td>2.65</td>\n",
       "    </tr>\n",
       "    <tr>\n",
       "      <th>29</th>\n",
       "      <td>30.</td>\n",
       "      <td>\"Chantaje\"[61]</td>\n",
       "      <td>Shakira featuring Maluma</td>\n",
       "      <td>November 18, 2016</td>\n",
       "      <td>2.60</td>\n",
       "    </tr>\n",
       "  </tbody>\n",
       "</table>\n",
       "</div>"
      ],
      "text/plain": [
       "   Rank                                             Name  \\\n",
       "0    1.                           \"Baby Shark Dance\"[28]   \n",
       "1    2.                                  \"Despacito\"[30]   \n",
       "2    3.                               \"Shape of You\"[31]   \n",
       "3    4.                              \"See You Again\"[32]   \n",
       "4    5.   \"Masha and the Bear – Recipe for Disaster\"[35]   \n",
       "5    6.                       \"Johny Johny Yes Papa\"[36]   \n",
       "6    7.                                \"Uptown Funk\"[37]   \n",
       "7    8.                              \"Gangnam Style\"[38]   \n",
       "8    9.  \"Learning Colors – Colorful Eggs on a Farm\"[40]   \n",
       "9   10.                                      \"Sorry\"[41]   \n",
       "10  11.                                  \"Bath Song\"[42]   \n",
       "11  12.                                      \"Sugar\"[43]   \n",
       "12  13.                \"Phonics Song with Two Words\"[44]   \n",
       "13  14.                                       \"Roar\"[45]   \n",
       "14  15.                          \"Thinking Out Loud\"[46]   \n",
       "15  16.                             \"Counting Stars\"[47]   \n",
       "16  17.                               \"Shake It Off\"[48]   \n",
       "17  18.                             \"Dame Tu Cosita\"[49]   \n",
       "18  19.                                   \"Bailando\"[50]   \n",
       "19  20.                                    \"Lean On\"[51]   \n",
       "20  21.                                      \"Faded\"[52]   \n",
       "21  22.                                 \"Dark Horse\"[53]   \n",
       "22  23.                             \"Girls Like You\"[54]   \n",
       "23  24.                                 \"Let Her Go\"[55]   \n",
       "24  25.                                   \"Mi Gente\"[56]   \n",
       "25  26.                                      \"Hello\"[57]   \n",
       "26  27.                                \"Blank Space\"[58]   \n",
       "27  28.           \"Waka Waka (This Time for Africa)\"[59]   \n",
       "28  29.                                    \"Perfect\"[60]   \n",
       "29  30.                                   \"Chantaje\"[61]   \n",
       "\n",
       "                                               Artist        Upload Date  \\\n",
       "0                      Pinkfong Kids' Songs & Stories      June 17, 2016   \n",
       "1                   Luis Fonsi featuring Daddy Yankee   January 12, 2017   \n",
       "2                                          Ed Sheeran   January 30, 2017   \n",
       "3                  Wiz Khalifa featuring Charlie Puth      April 6, 2015   \n",
       "4                                          Get Movies   January 31, 2012   \n",
       "5                                         LooLoo Kids    October 8, 2016   \n",
       "6                    Mark Ronson featuring Bruno Mars  November 19, 2014   \n",
       "7                                                 Psy      July 15, 2012   \n",
       "8                                         Miroshka TV  February 27, 2018   \n",
       "9                                       Justin Bieber   October 22, 2015   \n",
       "10                         Cocomelon – Nursery Rhymes        May 2, 2018   \n",
       "11                                           Maroon 5   January 14, 2015   \n",
       "12                                          ChuChu TV      March 6, 2014   \n",
       "13                                         Katy Perry  September 5, 2013   \n",
       "14                                         Ed Sheeran    October 7, 2014   \n",
       "15                                        OneRepublic       May 31, 2013   \n",
       "16                                       Taylor Swift    August 18, 2014   \n",
       "17                    El Chombo featuring Cutty Ranks      April 5, 2018   \n",
       "18  Enrique Iglesias featuring Descemer Bueno and ...     April 11, 2014   \n",
       "19              Major Lazer and DJ Snake featuring MØ     March 22, 2015   \n",
       "20                                        Alan Walker   December 3, 2015   \n",
       "21                       Katy Perry featuring Juicy J  February 20, 2014   \n",
       "22                         Maroon 5 featuring Cardi B       May 31, 2018   \n",
       "23                                          Passenger      July 25, 2012   \n",
       "24                         J Balvin and Willy William      June 29, 2017   \n",
       "25                                              Adele   October 22, 2015   \n",
       "26                                       Taylor Swift  November 10, 2014   \n",
       "27                    Shakira featuring Freshlyground       June 4, 2010   \n",
       "28                                         Ed Sheeran   November 9, 2017   \n",
       "29                           Shakira featuring Maluma  November 18, 2016   \n",
       "\n",
       "   Views in Millions  \n",
       "0               7.39  \n",
       "1               7.09  \n",
       "2               5.10  \n",
       "3               4.85  \n",
       "4               4.38  \n",
       "5               4.37  \n",
       "6               4.03  \n",
       "7               3.88  \n",
       "8               3.66  \n",
       "9               3.37  \n",
       "10              3.34  \n",
       "11              3.34  \n",
       "12              3.30  \n",
       "13              3.22  \n",
       "14              3.13  \n",
       "15              3.13  \n",
       "16              2.99  \n",
       "17              2.94  \n",
       "18              2.94  \n",
       "19              2.93  \n",
       "20              2.92  \n",
       "21              2.92  \n",
       "22              2.91  \n",
       "23              2.85  \n",
       "24              2.82  \n",
       "25              2.75  \n",
       "26              2.68  \n",
       "27              2.66  \n",
       "28              2.65  \n",
       "29              2.60  "
      ]
     },
     "execution_count": 25,
     "metadata": {},
     "output_type": "execute_result"
    }
   ],
   "source": [
    "Wiki_Youtube=pd.DataFrame({})\n",
    "Wiki_Youtube['Rank']=Rank\n",
    "Wiki_Youtube['Name']=Name[0:30]\n",
    "Wiki_Youtube['Artist']=Artist\n",
    "Wiki_Youtube['Upload Date']=Uploadate\n",
    "Wiki_Youtube['Views in Millions']=Views\n",
    "Wiki_Youtube"
   ]
  },
  {
   "cell_type": "markdown",
   "metadata": {},
   "source": [
    "### 2.BCCI_Int Fixtures"
   ]
  },
  {
   "cell_type": "code",
   "execution_count": 3,
   "metadata": {},
   "outputs": [],
   "source": [
    "url=\"https://www.bcci.tv/\"\n",
    "driver.get(url)"
   ]
  },
  {
   "cell_type": "code",
   "execution_count": 5,
   "metadata": {},
   "outputs": [],
   "source": [
    "driver.find_element_by_xpath('//li[@class=\"drop-down__option  \"][1]/a').click()"
   ]
  },
  {
   "cell_type": "code",
   "execution_count": 43,
   "metadata": {},
   "outputs": [],
   "source": [
    "title=[]\n",
    "series=[]\n",
    "place=[]\n",
    "date=[]\n",
    "month=[]\n",
    "Date=[]\n",
    "time=[]"
   ]
  },
  {
   "cell_type": "code",
   "execution_count": 51,
   "metadata": {},
   "outputs": [],
   "source": [
    "title_tags=driver.find_elements_by_xpath('//div[@class=\"fixture__description u-unskewed-text\"]/p/strong')"
   ]
  },
  {
   "cell_type": "code",
   "execution_count": 52,
   "metadata": {},
   "outputs": [
    {
     "data": {
      "text/plain": [
       "['1st Test', '2nd Test', '3rd Test', '4th Test']"
      ]
     },
     "execution_count": 52,
     "metadata": {},
     "output_type": "execute_result"
    }
   ],
   "source": [
    "for i in title_tags:\n",
    "    titles=i.text\n",
    "    title.append(titles)\n",
    "title[0:4]"
   ]
  },
  {
   "cell_type": "code",
   "execution_count": 53,
   "metadata": {},
   "outputs": [],
   "source": [
    "series_tags=driver.find_elements_by_xpath('//div[@class=\"fixture__format-strip\"]/span[2]')"
   ]
  },
  {
   "cell_type": "code",
   "execution_count": 54,
   "metadata": {},
   "outputs": [
    {
     "data": {
      "text/plain": [
       "['AUSTRALIA V INDIA 2020/21',\n",
       " 'AUSTRALIA V INDIA 2020/21',\n",
       " 'AUSTRALIA V INDIA 2020/21',\n",
       " 'AUSTRALIA V INDIA 2020/21']"
      ]
     },
     "execution_count": 54,
     "metadata": {},
     "output_type": "execute_result"
    }
   ],
   "source": [
    "for i in series_tags:\n",
    "    serie=i.text\n",
    "    series.append(serie)\n",
    "series[0:4]"
   ]
  },
  {
   "cell_type": "code",
   "execution_count": 55,
   "metadata": {},
   "outputs": [],
   "source": [
    "place_tags=driver.find_elements_by_xpath('//div[@class=\"fixture__description u-unskewed-text\"]/p/span')"
   ]
  },
  {
   "cell_type": "code",
   "execution_count": 56,
   "metadata": {},
   "outputs": [
    {
     "data": {
      "text/plain": [
       "['Adelaide Oval, Adelaide',\n",
       " 'Melbourne Cricket Ground, Melbourne',\n",
       " 'Sydney Cricket Ground, Sydney',\n",
       " 'Brisbane Cricket Ground, Brisbane']"
      ]
     },
     "execution_count": 56,
     "metadata": {},
     "output_type": "execute_result"
    }
   ],
   "source": [
    "for i in place_tags:\n",
    "    places=i.text\n",
    "    place.append(places)\n",
    "place[0:4]"
   ]
  },
  {
   "cell_type": "code",
   "execution_count": 21,
   "metadata": {},
   "outputs": [],
   "source": [
    "date_tags=driver.find_elements_by_xpath('//div[@class=\"fixture__full-date\"]/span')"
   ]
  },
  {
   "cell_type": "code",
   "execution_count": 22,
   "metadata": {},
   "outputs": [],
   "source": [
    "month_tags=driver.find_elements_by_xpath('//div[@class=\"fixture__full-date\"]/div/span[1]')"
   ]
  },
  {
   "cell_type": "code",
   "execution_count": 44,
   "metadata": {},
   "outputs": [],
   "source": [
    "for i in date_tags:\n",
    "    dates=i.text\n",
    "    date.append(dates)\n",
    "for i in month_tags:\n",
    "    months=i.text\n",
    "    month.append(months)"
   ]
  },
  {
   "cell_type": "code",
   "execution_count": 45,
   "metadata": {},
   "outputs": [],
   "source": [
    "Date= lambda x,y: x + \"\" +str(y)\n",
    "Date=list(map(Date,month,date))"
   ]
  },
  {
   "cell_type": "code",
   "execution_count": 46,
   "metadata": {
    "collapsed": true
   },
   "outputs": [
    {
     "data": {
      "text/plain": [
       "['DECEMBER17',\n",
       " 'DECEMBER26',\n",
       " 'JANUARY07',\n",
       " 'JANUARY15',\n",
       " 'FEBRUARY05',\n",
       " 'FEBRUARY13',\n",
       " 'FEBRUARY24',\n",
       " 'MARCH04',\n",
       " 'MARCH12',\n",
       " 'MARCH14',\n",
       " 'MARCH16',\n",
       " 'MARCH18',\n",
       " 'MARCH20',\n",
       " 'MARCH23',\n",
       " 'MARCH26',\n",
       " 'MARCH28',\n",
       " 'AUGUST04',\n",
       " 'AUGUST12',\n",
       " 'AUGUST25',\n",
       " 'SEPTEMBER02']"
      ]
     },
     "execution_count": 46,
     "metadata": {},
     "output_type": "execute_result"
    }
   ],
   "source": [
    "Date"
   ]
  },
  {
   "cell_type": "code",
   "execution_count": 47,
   "metadata": {},
   "outputs": [],
   "source": [
    "time_tags=driver.find_elements_by_xpath('//div[@class=\"fixture__full-date\"]/div/span[2]')"
   ]
  },
  {
   "cell_type": "code",
   "execution_count": 48,
   "metadata": {},
   "outputs": [
    {
     "data": {
      "text/plain": [
       "['09:30 IST', '05:00 IST', '05:00 IST', '05:30 IST']"
      ]
     },
     "execution_count": 48,
     "metadata": {},
     "output_type": "execute_result"
    }
   ],
   "source": [
    "for i in time_tags:\n",
    "    times=i.text\n",
    "    time.append(times)\n",
    "time[0:4]"
   ]
  },
  {
   "cell_type": "code",
   "execution_count": 57,
   "metadata": {},
   "outputs": [
    {
     "data": {
      "text/html": [
       "<div>\n",
       "<style scoped>\n",
       "    .dataframe tbody tr th:only-of-type {\n",
       "        vertical-align: middle;\n",
       "    }\n",
       "\n",
       "    .dataframe tbody tr th {\n",
       "        vertical-align: top;\n",
       "    }\n",
       "\n",
       "    .dataframe thead th {\n",
       "        text-align: right;\n",
       "    }\n",
       "</style>\n",
       "<table border=\"1\" class=\"dataframe\">\n",
       "  <thead>\n",
       "    <tr style=\"text-align: right;\">\n",
       "      <th></th>\n",
       "      <th>Title</th>\n",
       "      <th>Series</th>\n",
       "      <th>Place</th>\n",
       "      <th>Date</th>\n",
       "      <th>Time</th>\n",
       "    </tr>\n",
       "  </thead>\n",
       "  <tbody>\n",
       "    <tr>\n",
       "      <th>0</th>\n",
       "      <td>1st Test</td>\n",
       "      <td>AUSTRALIA V INDIA 2020/21</td>\n",
       "      <td>Adelaide Oval, Adelaide</td>\n",
       "      <td>DECEMBER17</td>\n",
       "      <td>09:30 IST</td>\n",
       "    </tr>\n",
       "    <tr>\n",
       "      <th>1</th>\n",
       "      <td>2nd Test</td>\n",
       "      <td>AUSTRALIA V INDIA 2020/21</td>\n",
       "      <td>Melbourne Cricket Ground, Melbourne</td>\n",
       "      <td>DECEMBER26</td>\n",
       "      <td>05:00 IST</td>\n",
       "    </tr>\n",
       "    <tr>\n",
       "      <th>2</th>\n",
       "      <td>3rd Test</td>\n",
       "      <td>AUSTRALIA V INDIA 2020/21</td>\n",
       "      <td>Sydney Cricket Ground, Sydney</td>\n",
       "      <td>JANUARY07</td>\n",
       "      <td>05:00 IST</td>\n",
       "    </tr>\n",
       "    <tr>\n",
       "      <th>3</th>\n",
       "      <td>4th Test</td>\n",
       "      <td>AUSTRALIA V INDIA 2020/21</td>\n",
       "      <td>Brisbane Cricket Ground, Brisbane</td>\n",
       "      <td>JANUARY15</td>\n",
       "      <td>05:30 IST</td>\n",
       "    </tr>\n",
       "    <tr>\n",
       "      <th>4</th>\n",
       "      <td>1st Test</td>\n",
       "      <td>INDIA V ENGLAND 2021</td>\n",
       "      <td>M. A. Chidambaram Stadium, Chennai</td>\n",
       "      <td>FEBRUARY05</td>\n",
       "      <td>09:30 IST</td>\n",
       "    </tr>\n",
       "    <tr>\n",
       "      <th>5</th>\n",
       "      <td>2nd Test</td>\n",
       "      <td>INDIA V ENGLAND 2021</td>\n",
       "      <td>M. A. Chidambaram Stadium, Chennai</td>\n",
       "      <td>FEBRUARY13</td>\n",
       "      <td>09:30 IST</td>\n",
       "    </tr>\n",
       "    <tr>\n",
       "      <th>6</th>\n",
       "      <td>3rd Test</td>\n",
       "      <td>INDIA V ENGLAND 2021</td>\n",
       "      <td>Sardar Patel Stadium, Ahmedabad</td>\n",
       "      <td>FEBRUARY24</td>\n",
       "      <td>14:00 IST</td>\n",
       "    </tr>\n",
       "    <tr>\n",
       "      <th>7</th>\n",
       "      <td>4th Test</td>\n",
       "      <td>INDIA V ENGLAND 2021</td>\n",
       "      <td>Sardar Patel Stadium, Ahmedabad</td>\n",
       "      <td>MARCH04</td>\n",
       "      <td>09:30 IST</td>\n",
       "    </tr>\n",
       "    <tr>\n",
       "      <th>8</th>\n",
       "      <td>1st T20I</td>\n",
       "      <td>INDIA V ENGLAND 2021</td>\n",
       "      <td>Sardar Patel Stadium, Ahmedabad</td>\n",
       "      <td>MARCH12</td>\n",
       "      <td>18:00 IST</td>\n",
       "    </tr>\n",
       "    <tr>\n",
       "      <th>9</th>\n",
       "      <td>2nd T20I</td>\n",
       "      <td>INDIA V ENGLAND 2021</td>\n",
       "      <td>Sardar Patel Stadium, Ahmedabad</td>\n",
       "      <td>MARCH14</td>\n",
       "      <td>18:00 IST</td>\n",
       "    </tr>\n",
       "    <tr>\n",
       "      <th>10</th>\n",
       "      <td>3rd T20I</td>\n",
       "      <td>INDIA V ENGLAND 2021</td>\n",
       "      <td>Sardar Patel Stadium, Ahmedabad</td>\n",
       "      <td>MARCH16</td>\n",
       "      <td>18:00 IST</td>\n",
       "    </tr>\n",
       "    <tr>\n",
       "      <th>11</th>\n",
       "      <td>4th T20I</td>\n",
       "      <td>INDIA V ENGLAND 2021</td>\n",
       "      <td>Sardar Patel Stadium, Ahmedabad</td>\n",
       "      <td>MARCH18</td>\n",
       "      <td>18:00 IST</td>\n",
       "    </tr>\n",
       "    <tr>\n",
       "      <th>12</th>\n",
       "      <td>5th T20I</td>\n",
       "      <td>INDIA V ENGLAND 2021</td>\n",
       "      <td>Sardar Patel Stadium, Ahmedabad</td>\n",
       "      <td>MARCH20</td>\n",
       "      <td>18:00 IST</td>\n",
       "    </tr>\n",
       "    <tr>\n",
       "      <th>13</th>\n",
       "      <td>1st ODI</td>\n",
       "      <td>INDIA V ENGLAND 2021</td>\n",
       "      <td>Maharashtra Cricket Association Stadium, Pune</td>\n",
       "      <td>MARCH23</td>\n",
       "      <td>14:30 IST</td>\n",
       "    </tr>\n",
       "    <tr>\n",
       "      <th>14</th>\n",
       "      <td>2nd ODI</td>\n",
       "      <td>INDIA V ENGLAND 2021</td>\n",
       "      <td>Maharashtra Cricket Association Stadium, Pune</td>\n",
       "      <td>MARCH26</td>\n",
       "      <td>14:30 IST</td>\n",
       "    </tr>\n",
       "    <tr>\n",
       "      <th>15</th>\n",
       "      <td>3rd ODI</td>\n",
       "      <td>INDIA V ENGLAND 2021</td>\n",
       "      <td>Maharashtra Cricket Association Stadium, Pune</td>\n",
       "      <td>MARCH28</td>\n",
       "      <td>09:30 IST</td>\n",
       "    </tr>\n",
       "    <tr>\n",
       "      <th>16</th>\n",
       "      <td>1st Test</td>\n",
       "      <td>ENGLAND V INDIA 2021</td>\n",
       "      <td>Trent Bridge, Nottingham</td>\n",
       "      <td>AUGUST04</td>\n",
       "      <td>15:30 IST</td>\n",
       "    </tr>\n",
       "    <tr>\n",
       "      <th>17</th>\n",
       "      <td>2nd Test</td>\n",
       "      <td>ENGLAND V INDIA 2021</td>\n",
       "      <td>Lord's, London</td>\n",
       "      <td>AUGUST12</td>\n",
       "      <td>15:30 IST</td>\n",
       "    </tr>\n",
       "    <tr>\n",
       "      <th>18</th>\n",
       "      <td>3rd Test</td>\n",
       "      <td>ENGLAND V INDIA 2021</td>\n",
       "      <td>Headingley, Leeds</td>\n",
       "      <td>AUGUST25</td>\n",
       "      <td>15:30 IST</td>\n",
       "    </tr>\n",
       "    <tr>\n",
       "      <th>19</th>\n",
       "      <td>4th Test</td>\n",
       "      <td>ENGLAND V INDIA 2021</td>\n",
       "      <td>The Oval, London</td>\n",
       "      <td>SEPTEMBER02</td>\n",
       "      <td>15:30 IST</td>\n",
       "    </tr>\n",
       "  </tbody>\n",
       "</table>\n",
       "</div>"
      ],
      "text/plain": [
       "       Title                     Series  \\\n",
       "0   1st Test  AUSTRALIA V INDIA 2020/21   \n",
       "1   2nd Test  AUSTRALIA V INDIA 2020/21   \n",
       "2   3rd Test  AUSTRALIA V INDIA 2020/21   \n",
       "3   4th Test  AUSTRALIA V INDIA 2020/21   \n",
       "4   1st Test       INDIA V ENGLAND 2021   \n",
       "5   2nd Test       INDIA V ENGLAND 2021   \n",
       "6   3rd Test       INDIA V ENGLAND 2021   \n",
       "7   4th Test       INDIA V ENGLAND 2021   \n",
       "8   1st T20I       INDIA V ENGLAND 2021   \n",
       "9   2nd T20I       INDIA V ENGLAND 2021   \n",
       "10  3rd T20I       INDIA V ENGLAND 2021   \n",
       "11  4th T20I       INDIA V ENGLAND 2021   \n",
       "12  5th T20I       INDIA V ENGLAND 2021   \n",
       "13   1st ODI       INDIA V ENGLAND 2021   \n",
       "14   2nd ODI       INDIA V ENGLAND 2021   \n",
       "15   3rd ODI       INDIA V ENGLAND 2021   \n",
       "16  1st Test       ENGLAND V INDIA 2021   \n",
       "17  2nd Test       ENGLAND V INDIA 2021   \n",
       "18  3rd Test       ENGLAND V INDIA 2021   \n",
       "19  4th Test       ENGLAND V INDIA 2021   \n",
       "\n",
       "                                            Place         Date       Time  \n",
       "0                         Adelaide Oval, Adelaide   DECEMBER17  09:30 IST  \n",
       "1             Melbourne Cricket Ground, Melbourne   DECEMBER26  05:00 IST  \n",
       "2                   Sydney Cricket Ground, Sydney    JANUARY07  05:00 IST  \n",
       "3               Brisbane Cricket Ground, Brisbane    JANUARY15  05:30 IST  \n",
       "4              M. A. Chidambaram Stadium, Chennai   FEBRUARY05  09:30 IST  \n",
       "5              M. A. Chidambaram Stadium, Chennai   FEBRUARY13  09:30 IST  \n",
       "6                 Sardar Patel Stadium, Ahmedabad   FEBRUARY24  14:00 IST  \n",
       "7                 Sardar Patel Stadium, Ahmedabad      MARCH04  09:30 IST  \n",
       "8                 Sardar Patel Stadium, Ahmedabad      MARCH12  18:00 IST  \n",
       "9                 Sardar Patel Stadium, Ahmedabad      MARCH14  18:00 IST  \n",
       "10                Sardar Patel Stadium, Ahmedabad      MARCH16  18:00 IST  \n",
       "11                Sardar Patel Stadium, Ahmedabad      MARCH18  18:00 IST  \n",
       "12                Sardar Patel Stadium, Ahmedabad      MARCH20  18:00 IST  \n",
       "13  Maharashtra Cricket Association Stadium, Pune      MARCH23  14:30 IST  \n",
       "14  Maharashtra Cricket Association Stadium, Pune      MARCH26  14:30 IST  \n",
       "15  Maharashtra Cricket Association Stadium, Pune      MARCH28  09:30 IST  \n",
       "16                       Trent Bridge, Nottingham     AUGUST04  15:30 IST  \n",
       "17                                 Lord's, London     AUGUST12  15:30 IST  \n",
       "18                              Headingley, Leeds     AUGUST25  15:30 IST  \n",
       "19                               The Oval, London  SEPTEMBER02  15:30 IST  "
      ]
     },
     "execution_count": 57,
     "metadata": {},
     "output_type": "execute_result"
    }
   ],
   "source": [
    "BCCI_Int_Fix=pd.DataFrame({})\n",
    "BCCI_Int_Fix['Title']=title\n",
    "BCCI_Int_Fix['Series']=series\n",
    "BCCI_Int_Fix['Place']=place\n",
    "BCCI_Int_Fix['Date']=Date\n",
    "BCCI_Int_Fix['Time']=time\n",
    "BCCI_Int_Fix"
   ]
  },
  {
   "cell_type": "markdown",
   "metadata": {},
   "source": [
    "### 3. Guru99_Selenium"
   ]
  },
  {
   "cell_type": "code",
   "execution_count": 99,
   "metadata": {},
   "outputs": [],
   "source": [
    "url=\"https://www.guru99.com/\"\n",
    "driver.get(url)"
   ]
  },
  {
   "cell_type": "code",
   "execution_count": 100,
   "metadata": {},
   "outputs": [],
   "source": [
    "driver.find_element_by_xpath('//div[@class=\"g-block size-60\"]//td[1]/div//td[2]').click()"
   ]
  },
  {
   "cell_type": "code",
   "execution_count": 101,
   "metadata": {},
   "outputs": [],
   "source": [
    "driver.find_element_by_id(\"gsc-i-id2\").send_keys(\"Selenium Exception Handling\")"
   ]
  },
  {
   "cell_type": "code",
   "execution_count": 102,
   "metadata": {},
   "outputs": [],
   "source": [
    "driver.find_element_by_xpath('//div[@class=\"g-block size-60\"]//button').click()"
   ]
  },
  {
   "cell_type": "code",
   "execution_count": 103,
   "metadata": {},
   "outputs": [],
   "source": [
    "driver.find_element_by_xpath('//div[@class=\"gsc-webResult gsc-result\"][1]/div[1]/div[1]//a').click()"
   ]
  },
  {
   "cell_type": "code",
   "execution_count": 104,
   "metadata": {},
   "outputs": [],
   "source": [
    "name=[]\n",
    "desc=[]"
   ]
  },
  {
   "cell_type": "code",
   "execution_count": 63,
   "metadata": {},
   "outputs": [],
   "source": [
    "p = driver.current_window_handle"
   ]
  },
  {
   "cell_type": "code",
   "execution_count": 64,
   "metadata": {},
   "outputs": [],
   "source": [
    "chwd = driver.window_handles"
   ]
  },
  {
   "cell_type": "code",
   "execution_count": 65,
   "metadata": {},
   "outputs": [],
   "source": [
    "for w in chwd:\n",
    "\n",
    "    if(w!=p):\n",
    "        driver.switch_to.window(w)\n",
    "    break"
   ]
  },
  {
   "cell_type": "code",
   "execution_count": 117,
   "metadata": {},
   "outputs": [],
   "source": [
    "name_tags=driver.find_elements_by_xpath('//div[@class=\"span12\"]//tr/td[1]')"
   ]
  },
  {
   "cell_type": "code",
   "execution_count": 119,
   "metadata": {},
   "outputs": [
    {
     "data": {
      "text/plain": [
       "['Exception name',\n",
       " 'ElementNotVisibleException',\n",
       " 'ElementNotSelectableException',\n",
       " 'NoSuchElementException']"
      ]
     },
     "execution_count": 119,
     "metadata": {},
     "output_type": "execute_result"
    }
   ],
   "source": [
    "for i in name_tags:\n",
    "    names=i.text\n",
    "    name.append(names)\n",
    "name[0:4]"
   ]
  },
  {
   "cell_type": "code",
   "execution_count": 120,
   "metadata": {},
   "outputs": [],
   "source": [
    "desc_tags=driver.find_elements_by_xpath('//div[@class=\"span12\"]//tr/td[2]')"
   ]
  },
  {
   "cell_type": "code",
   "execution_count": 121,
   "metadata": {},
   "outputs": [
    {
     "data": {
      "text/plain": [
       "['Description',\n",
       " 'This type of Selenium exception occurs when an existing element in DOM has a feature set as hidden.',\n",
       " 'This Selenium exception occurs when an element is presented in the DOM, but you can be able to select. Therefore, it is not possible to interact.',\n",
       " 'This Exception occurs if an element could not be found.']"
      ]
     },
     "execution_count": 121,
     "metadata": {},
     "output_type": "execute_result"
    }
   ],
   "source": [
    "for i in desc_tags:\n",
    "    description=i.text\n",
    "    desc.append(description)\n",
    "desc[0:4]"
   ]
  },
  {
   "cell_type": "code",
   "execution_count": 122,
   "metadata": {},
   "outputs": [
    {
     "data": {
      "text/html": [
       "<div>\n",
       "<style scoped>\n",
       "    .dataframe tbody tr th:only-of-type {\n",
       "        vertical-align: middle;\n",
       "    }\n",
       "\n",
       "    .dataframe tbody tr th {\n",
       "        vertical-align: top;\n",
       "    }\n",
       "\n",
       "    .dataframe thead th {\n",
       "        text-align: right;\n",
       "    }\n",
       "</style>\n",
       "<table border=\"1\" class=\"dataframe\">\n",
       "  <thead>\n",
       "    <tr style=\"text-align: right;\">\n",
       "      <th></th>\n",
       "      <th>Name</th>\n",
       "      <th>Description</th>\n",
       "    </tr>\n",
       "  </thead>\n",
       "  <tbody>\n",
       "    <tr>\n",
       "      <th>0</th>\n",
       "      <td>ElementNotVisibleException</td>\n",
       "      <td>This type of Selenium exception occurs when an...</td>\n",
       "    </tr>\n",
       "    <tr>\n",
       "      <th>1</th>\n",
       "      <td>ElementNotSelectableException</td>\n",
       "      <td>This Selenium exception occurs when an element...</td>\n",
       "    </tr>\n",
       "    <tr>\n",
       "      <th>2</th>\n",
       "      <td>NoSuchElementException</td>\n",
       "      <td>This Exception occurs if an element could not ...</td>\n",
       "    </tr>\n",
       "    <tr>\n",
       "      <th>3</th>\n",
       "      <td>NoSuchFrameException</td>\n",
       "      <td>This Exception occurs if the frame target to b...</td>\n",
       "    </tr>\n",
       "    <tr>\n",
       "      <th>4</th>\n",
       "      <td>NoAlertPresentException</td>\n",
       "      <td>This Exception occurs when you switch to no pr...</td>\n",
       "    </tr>\n",
       "    <tr>\n",
       "      <th>5</th>\n",
       "      <td>NoSuchWindowException</td>\n",
       "      <td>This Exception occurs if the window target to ...</td>\n",
       "    </tr>\n",
       "    <tr>\n",
       "      <th>6</th>\n",
       "      <td>StaleElementReferenceException</td>\n",
       "      <td>This Selenium exception occurs happens when th...</td>\n",
       "    </tr>\n",
       "    <tr>\n",
       "      <th>7</th>\n",
       "      <td>SessionNotFoundException</td>\n",
       "      <td>The WebDriver is acting after you quit the bro...</td>\n",
       "    </tr>\n",
       "    <tr>\n",
       "      <th>8</th>\n",
       "      <td>TimeoutException</td>\n",
       "      <td>Thrown when there is not enough time for a com...</td>\n",
       "    </tr>\n",
       "    <tr>\n",
       "      <th>9</th>\n",
       "      <td>WebDriverException</td>\n",
       "      <td>This Exception takes place when the WebDriver ...</td>\n",
       "    </tr>\n",
       "    <tr>\n",
       "      <th>10</th>\n",
       "      <td>ConnectionClosedException</td>\n",
       "      <td>This type of Exception takes place when there ...</td>\n",
       "    </tr>\n",
       "    <tr>\n",
       "      <th>11</th>\n",
       "      <td>ElementClickInterceptedException</td>\n",
       "      <td>The command may not be completed as the elemen...</td>\n",
       "    </tr>\n",
       "    <tr>\n",
       "      <th>12</th>\n",
       "      <td>ElementNotInteractableException</td>\n",
       "      <td>This Selenium exception is thrown when any ele...</td>\n",
       "    </tr>\n",
       "    <tr>\n",
       "      <th>13</th>\n",
       "      <td>ErrorInResponseException</td>\n",
       "      <td>This happens while interacting with the Firefo...</td>\n",
       "    </tr>\n",
       "    <tr>\n",
       "      <th>14</th>\n",
       "      <td>ErrorHandler.UnknownServerException</td>\n",
       "      <td>Exception is used as a placeholder in case if ...</td>\n",
       "    </tr>\n",
       "    <tr>\n",
       "      <th>15</th>\n",
       "      <td>ImeActivationFailedException</td>\n",
       "      <td>This expectation will occur when IME engine ac...</td>\n",
       "    </tr>\n",
       "    <tr>\n",
       "      <th>16</th>\n",
       "      <td>ImeNotAvailableException</td>\n",
       "      <td>It takes place when IME support is unavailable.</td>\n",
       "    </tr>\n",
       "    <tr>\n",
       "      <th>17</th>\n",
       "      <td>InsecureCertificateException</td>\n",
       "      <td>Navigation made the user agent to hit a certif...</td>\n",
       "    </tr>\n",
       "    <tr>\n",
       "      <th>18</th>\n",
       "      <td>InvalidArgumentException</td>\n",
       "      <td>It occurs when an argument does not belong to ...</td>\n",
       "    </tr>\n",
       "    <tr>\n",
       "      <th>19</th>\n",
       "      <td>InvalidCookieDomainException</td>\n",
       "      <td>This happens when you try to add a cookie unde...</td>\n",
       "    </tr>\n",
       "    <tr>\n",
       "      <th>20</th>\n",
       "      <td>InvalidCoordinatesException</td>\n",
       "      <td>This type of Exception matches an interacting ...</td>\n",
       "    </tr>\n",
       "    <tr>\n",
       "      <th>21</th>\n",
       "      <td>InvalidElementStateExceptio</td>\n",
       "      <td>It occurs when command can't be finished when ...</td>\n",
       "    </tr>\n",
       "    <tr>\n",
       "      <th>22</th>\n",
       "      <td>InvalidSessionIdException</td>\n",
       "      <td>This Exception took place when the given sessi...</td>\n",
       "    </tr>\n",
       "    <tr>\n",
       "      <th>23</th>\n",
       "      <td>InvalidSwitchToTargetException</td>\n",
       "      <td>This occurs when the frame or window target to...</td>\n",
       "    </tr>\n",
       "    <tr>\n",
       "      <th>24</th>\n",
       "      <td>JavascriptException</td>\n",
       "      <td>This issue occurs while executing JavaScript g...</td>\n",
       "    </tr>\n",
       "    <tr>\n",
       "      <th>25</th>\n",
       "      <td>JsonException</td>\n",
       "      <td>It occurs when you afford to get the session w...</td>\n",
       "    </tr>\n",
       "    <tr>\n",
       "      <th>26</th>\n",
       "      <td>NoSuchAttributeException</td>\n",
       "      <td>This kind of Exception occurs when the attribu...</td>\n",
       "    </tr>\n",
       "    <tr>\n",
       "      <th>27</th>\n",
       "      <td>MoveTargetOutOfBoundsException</td>\n",
       "      <td>It takes place if the target provided to the A...</td>\n",
       "    </tr>\n",
       "    <tr>\n",
       "      <th>28</th>\n",
       "      <td>NoSuchContextException</td>\n",
       "      <td>ContextAware does mobile device testing.</td>\n",
       "    </tr>\n",
       "    <tr>\n",
       "      <th>29</th>\n",
       "      <td>NoSuchCookieException</td>\n",
       "      <td>This Exception occurs when no cookie matching ...</td>\n",
       "    </tr>\n",
       "    <tr>\n",
       "      <th>30</th>\n",
       "      <td>NotFoundException</td>\n",
       "      <td>This Exception is a subclass of WebDriverExcep...</td>\n",
       "    </tr>\n",
       "    <tr>\n",
       "      <th>31</th>\n",
       "      <td>RemoteDriverServerException</td>\n",
       "      <td>This Selenium exception is thrown when the ser...</td>\n",
       "    </tr>\n",
       "    <tr>\n",
       "      <th>32</th>\n",
       "      <td>ScreenshotException</td>\n",
       "      <td>It is not possible to capture a screen.</td>\n",
       "    </tr>\n",
       "    <tr>\n",
       "      <th>33</th>\n",
       "      <td>SessionNotCreatedException</td>\n",
       "      <td>It happens when a new session could not be suc...</td>\n",
       "    </tr>\n",
       "    <tr>\n",
       "      <th>34</th>\n",
       "      <td>UnableToSetCookieException</td>\n",
       "      <td>This occurs if a driver is unable to set a coo...</td>\n",
       "    </tr>\n",
       "    <tr>\n",
       "      <th>35</th>\n",
       "      <td>UnexpectedTagNameException</td>\n",
       "      <td>Happens if a support class did not get a web e...</td>\n",
       "    </tr>\n",
       "    <tr>\n",
       "      <th>36</th>\n",
       "      <td>UnhandledAlertException</td>\n",
       "      <td>This expectation occurs when there is an alert...</td>\n",
       "    </tr>\n",
       "    <tr>\n",
       "      <th>37</th>\n",
       "      <td>UnexpectedAlertPresentException</td>\n",
       "      <td>It occurs when there is the appearance of an u...</td>\n",
       "    </tr>\n",
       "    <tr>\n",
       "      <th>38</th>\n",
       "      <td>UnknownMethodException</td>\n",
       "      <td>This Exception happens when the requested comm...</td>\n",
       "    </tr>\n",
       "    <tr>\n",
       "      <th>39</th>\n",
       "      <td>UnreachableBrowserException</td>\n",
       "      <td>This Exception occurs only when the browser is...</td>\n",
       "    </tr>\n",
       "    <tr>\n",
       "      <th>40</th>\n",
       "      <td>UnsupportedCommandException</td>\n",
       "      <td>This occurs when remote WebDriver does n't sen...</td>\n",
       "    </tr>\n",
       "  </tbody>\n",
       "</table>\n",
       "</div>"
      ],
      "text/plain": [
       "                                   Name  \\\n",
       "0            ElementNotVisibleException   \n",
       "1         ElementNotSelectableException   \n",
       "2                NoSuchElementException   \n",
       "3                  NoSuchFrameException   \n",
       "4               NoAlertPresentException   \n",
       "5                 NoSuchWindowException   \n",
       "6        StaleElementReferenceException   \n",
       "7              SessionNotFoundException   \n",
       "8                      TimeoutException   \n",
       "9                    WebDriverException   \n",
       "10            ConnectionClosedException   \n",
       "11     ElementClickInterceptedException   \n",
       "12      ElementNotInteractableException   \n",
       "13             ErrorInResponseException   \n",
       "14  ErrorHandler.UnknownServerException   \n",
       "15         ImeActivationFailedException   \n",
       "16             ImeNotAvailableException   \n",
       "17         InsecureCertificateException   \n",
       "18             InvalidArgumentException   \n",
       "19         InvalidCookieDomainException   \n",
       "20          InvalidCoordinatesException   \n",
       "21          InvalidElementStateExceptio   \n",
       "22            InvalidSessionIdException   \n",
       "23       InvalidSwitchToTargetException   \n",
       "24                  JavascriptException   \n",
       "25                        JsonException   \n",
       "26             NoSuchAttributeException   \n",
       "27       MoveTargetOutOfBoundsException   \n",
       "28               NoSuchContextException   \n",
       "29                NoSuchCookieException   \n",
       "30                    NotFoundException   \n",
       "31          RemoteDriverServerException   \n",
       "32                  ScreenshotException   \n",
       "33           SessionNotCreatedException   \n",
       "34           UnableToSetCookieException   \n",
       "35           UnexpectedTagNameException   \n",
       "36              UnhandledAlertException   \n",
       "37      UnexpectedAlertPresentException   \n",
       "38               UnknownMethodException   \n",
       "39          UnreachableBrowserException   \n",
       "40          UnsupportedCommandException   \n",
       "\n",
       "                                          Description  \n",
       "0   This type of Selenium exception occurs when an...  \n",
       "1   This Selenium exception occurs when an element...  \n",
       "2   This Exception occurs if an element could not ...  \n",
       "3   This Exception occurs if the frame target to b...  \n",
       "4   This Exception occurs when you switch to no pr...  \n",
       "5   This Exception occurs if the window target to ...  \n",
       "6   This Selenium exception occurs happens when th...  \n",
       "7   The WebDriver is acting after you quit the bro...  \n",
       "8   Thrown when there is not enough time for a com...  \n",
       "9   This Exception takes place when the WebDriver ...  \n",
       "10  This type of Exception takes place when there ...  \n",
       "11  The command may not be completed as the elemen...  \n",
       "12  This Selenium exception is thrown when any ele...  \n",
       "13  This happens while interacting with the Firefo...  \n",
       "14  Exception is used as a placeholder in case if ...  \n",
       "15  This expectation will occur when IME engine ac...  \n",
       "16    It takes place when IME support is unavailable.  \n",
       "17  Navigation made the user agent to hit a certif...  \n",
       "18  It occurs when an argument does not belong to ...  \n",
       "19  This happens when you try to add a cookie unde...  \n",
       "20  This type of Exception matches an interacting ...  \n",
       "21  It occurs when command can't be finished when ...  \n",
       "22  This Exception took place when the given sessi...  \n",
       "23  This occurs when the frame or window target to...  \n",
       "24  This issue occurs while executing JavaScript g...  \n",
       "25  It occurs when you afford to get the session w...  \n",
       "26  This kind of Exception occurs when the attribu...  \n",
       "27  It takes place if the target provided to the A...  \n",
       "28           ContextAware does mobile device testing.  \n",
       "29  This Exception occurs when no cookie matching ...  \n",
       "30  This Exception is a subclass of WebDriverExcep...  \n",
       "31  This Selenium exception is thrown when the ser...  \n",
       "32            It is not possible to capture a screen.  \n",
       "33  It happens when a new session could not be suc...  \n",
       "34  This occurs if a driver is unable to set a coo...  \n",
       "35  Happens if a support class did not get a web e...  \n",
       "36  This expectation occurs when there is an alert...  \n",
       "37  It occurs when there is the appearance of an u...  \n",
       "38  This Exception happens when the requested comm...  \n",
       "39  This Exception occurs only when the browser is...  \n",
       "40  This occurs when remote WebDriver does n't sen...  "
      ]
     },
     "execution_count": 122,
     "metadata": {},
     "output_type": "execute_result"
    }
   ],
   "source": [
    "Guru_Selenium=pd.DataFrame({})\n",
    "Guru_Selenium['Name']=name[1:]\n",
    "Guru_Selenium['Description']=desc[1:]\n",
    "Guru_Selenium"
   ]
  },
  {
   "cell_type": "markdown",
   "metadata": {},
   "source": [
    "### 4. Statistics_GDP_All_Indian_States"
   ]
  },
  {
   "cell_type": "code",
   "execution_count": 124,
   "metadata": {},
   "outputs": [],
   "source": [
    "url=\"http://statisticstimes.com/\"\n",
    "driver.get(url)"
   ]
  },
  {
   "cell_type": "code",
   "execution_count": 126,
   "metadata": {},
   "outputs": [],
   "source": [
    "driver.find_element_by_xpath('//div[@class=\"navbar\"]/div[2]/button').click()"
   ]
  },
  {
   "cell_type": "code",
   "execution_count": 127,
   "metadata": {},
   "outputs": [],
   "source": [
    "driver.find_element_by_xpath('//div[@class=\"navbar\"]/div[2]/div/a[2]').click()"
   ]
  },
  {
   "cell_type": "code",
   "execution_count": 128,
   "metadata": {},
   "outputs": [],
   "source": [
    "driver.find_element_by_xpath('//ul[@style=\"list-style-type:none;margin-left:20px;\"]/li[1]/a').click()"
   ]
  },
  {
   "cell_type": "code",
   "execution_count": 129,
   "metadata": {},
   "outputs": [],
   "source": [
    "rank=[]\n",
    "state=[]\n",
    "gsdp1819=[]\n",
    "gsdp1718=[]\n",
    "share=[]\n",
    "gdp=[]"
   ]
  },
  {
   "cell_type": "code",
   "execution_count": 130,
   "metadata": {},
   "outputs": [],
   "source": [
    "rank_tags=driver.find_elements_by_xpath('//div[@id=\"table_id_wrapper\"]//tr/td[1]')"
   ]
  },
  {
   "cell_type": "code",
   "execution_count": 131,
   "metadata": {},
   "outputs": [
    {
     "data": {
      "text/plain": [
       "['1', '2', '3', '4']"
      ]
     },
     "execution_count": 131,
     "metadata": {},
     "output_type": "execute_result"
    }
   ],
   "source": [
    "for i in rank_tags:\n",
    "    ranks=i.text\n",
    "    rank.append(ranks)\n",
    "rank[0:4]"
   ]
  },
  {
   "cell_type": "code",
   "execution_count": 132,
   "metadata": {},
   "outputs": [],
   "source": [
    "state_tags=driver.find_elements_by_xpath('//div[@id=\"table_id_wrapper\"]//tr/td[2]')"
   ]
  },
  {
   "cell_type": "code",
   "execution_count": 133,
   "metadata": {},
   "outputs": [
    {
     "data": {
      "text/plain": [
       "['Maharashtra', 'Tamil Nadu', 'Uttar Pradesh', 'Karnataka']"
      ]
     },
     "execution_count": 133,
     "metadata": {},
     "output_type": "execute_result"
    }
   ],
   "source": [
    "for i in state_tags:\n",
    "    states=i.text\n",
    "    state.append(states)\n",
    "state[0:4]"
   ]
  },
  {
   "cell_type": "code",
   "execution_count": 134,
   "metadata": {},
   "outputs": [],
   "source": [
    "gsdp1_tags=driver.find_elements_by_xpath('//div[@id=\"table_id_wrapper\"]//tr/td[3]')"
   ]
  },
  {
   "cell_type": "code",
   "execution_count": 137,
   "metadata": {},
   "outputs": [
    {
     "data": {
      "text/plain": [
       "['-', '1,664,159', '1,542,432', '1,535,224']"
      ]
     },
     "execution_count": 137,
     "metadata": {},
     "output_type": "execute_result"
    }
   ],
   "source": [
    "for i in gsdp1_tags:\n",
    "    gsdps=i.text\n",
    "    gsdp1819.append(gsdps)\n",
    "gsdp1819[0:4]"
   ]
  },
  {
   "cell_type": "code",
   "execution_count": 138,
   "metadata": {},
   "outputs": [],
   "source": [
    "gsdp2_tags=driver.find_elements_by_xpath('//div[@id=\"table_id_wrapper\"]//tr/td[4]')"
   ]
  },
  {
   "cell_type": "code",
   "execution_count": 139,
   "metadata": {},
   "outputs": [
    {
     "data": {
      "text/plain": [
       "['2,411,600', '1,461,841', '1,376,324', '1,350,257']"
      ]
     },
     "execution_count": 139,
     "metadata": {},
     "output_type": "execute_result"
    }
   ],
   "source": [
    "for i in gsdp2_tags:\n",
    "    gsd=i.text\n",
    "    gsdp1718.append(gsd)\n",
    "gsdp1718[0:4]"
   ]
  },
  {
   "cell_type": "code",
   "execution_count": 140,
   "metadata": {},
   "outputs": [],
   "source": [
    "share_tags=driver.find_elements_by_xpath('//div[@id=\"table_id_wrapper\"]//tr/td[5]')"
   ]
  },
  {
   "cell_type": "code",
   "execution_count": 141,
   "metadata": {},
   "outputs": [
    {
     "data": {
      "text/plain": [
       "['14.11%', '8.55%', '8.05%', '7.90%']"
      ]
     },
     "execution_count": 141,
     "metadata": {},
     "output_type": "execute_result"
    }
   ],
   "source": [
    "for i in share_tags:\n",
    "    shares=i.text\n",
    "    share.append(shares)\n",
    "share[0:4]"
   ]
  },
  {
   "cell_type": "code",
   "execution_count": 142,
   "metadata": {},
   "outputs": [],
   "source": [
    "gdp_tags=driver.find_elements_by_xpath('//div[@id=\"table_id_wrapper\"]//tr/td[7]')"
   ]
  },
  {
   "cell_type": "code",
   "execution_count": 143,
   "metadata": {},
   "outputs": [
    {
     "data": {
      "text/plain": [
       "['-', '1,207,526', '1,109,408', '1,136,634']"
      ]
     },
     "execution_count": 143,
     "metadata": {},
     "output_type": "execute_result"
    }
   ],
   "source": [
    "for i in gdp_tags:\n",
    "    gdps=i.text\n",
    "    gdp.append(gdps)\n",
    "gdp[0:4]"
   ]
  },
  {
   "cell_type": "code",
   "execution_count": 150,
   "metadata": {},
   "outputs": [
    {
     "data": {
      "text/html": [
       "<div>\n",
       "<style scoped>\n",
       "    .dataframe tbody tr th:only-of-type {\n",
       "        vertical-align: middle;\n",
       "    }\n",
       "\n",
       "    .dataframe tbody tr th {\n",
       "        vertical-align: top;\n",
       "    }\n",
       "\n",
       "    .dataframe thead th {\n",
       "        text-align: right;\n",
       "    }\n",
       "</style>\n",
       "<table border=\"1\" class=\"dataframe\">\n",
       "  <thead>\n",
       "    <tr style=\"text-align: right;\">\n",
       "      <th></th>\n",
       "      <th>Rank</th>\n",
       "      <th>State</th>\n",
       "      <th>GSDP 18-19</th>\n",
       "      <th>GSDP 17-18</th>\n",
       "      <th>Share</th>\n",
       "      <th>GDP</th>\n",
       "    </tr>\n",
       "  </thead>\n",
       "  <tbody>\n",
       "    <tr>\n",
       "      <th>0</th>\n",
       "      <td>1</td>\n",
       "      <td>Maharashtra</td>\n",
       "      <td>-</td>\n",
       "      <td>2,411,600</td>\n",
       "      <td>14.11%</td>\n",
       "      <td>-</td>\n",
       "    </tr>\n",
       "    <tr>\n",
       "      <th>1</th>\n",
       "      <td>2</td>\n",
       "      <td>Tamil Nadu</td>\n",
       "      <td>1,664,159</td>\n",
       "      <td>1,461,841</td>\n",
       "      <td>8.55%</td>\n",
       "      <td>1,207,526</td>\n",
       "    </tr>\n",
       "    <tr>\n",
       "      <th>2</th>\n",
       "      <td>3</td>\n",
       "      <td>Uttar Pradesh</td>\n",
       "      <td>1,542,432</td>\n",
       "      <td>1,376,324</td>\n",
       "      <td>8.05%</td>\n",
       "      <td>1,109,408</td>\n",
       "    </tr>\n",
       "    <tr>\n",
       "      <th>3</th>\n",
       "      <td>4</td>\n",
       "      <td>Karnataka</td>\n",
       "      <td>1,535,224</td>\n",
       "      <td>1,350,257</td>\n",
       "      <td>7.90%</td>\n",
       "      <td>1,136,634</td>\n",
       "    </tr>\n",
       "    <tr>\n",
       "      <th>4</th>\n",
       "      <td>5</td>\n",
       "      <td>Gujarat</td>\n",
       "      <td>-</td>\n",
       "      <td>1,314,680</td>\n",
       "      <td>7.69%</td>\n",
       "      <td>-</td>\n",
       "    </tr>\n",
       "    <tr>\n",
       "      <th>5</th>\n",
       "      <td>6</td>\n",
       "      <td>West Bengal</td>\n",
       "      <td>1,177,586</td>\n",
       "      <td>999,585</td>\n",
       "      <td>5.85%</td>\n",
       "      <td>800,913</td>\n",
       "    </tr>\n",
       "    <tr>\n",
       "      <th>6</th>\n",
       "      <td>7</td>\n",
       "      <td>Rajasthan</td>\n",
       "      <td>929,124</td>\n",
       "      <td>835,558</td>\n",
       "      <td>4.89%</td>\n",
       "      <td>679,314</td>\n",
       "    </tr>\n",
       "    <tr>\n",
       "      <th>7</th>\n",
       "      <td>8</td>\n",
       "      <td>Andhra Pradesh</td>\n",
       "      <td>933,402</td>\n",
       "      <td>809,547</td>\n",
       "      <td>4.74%</td>\n",
       "      <td>680,332</td>\n",
       "    </tr>\n",
       "    <tr>\n",
       "      <th>8</th>\n",
       "      <td>9</td>\n",
       "      <td>Telangana</td>\n",
       "      <td>865,688</td>\n",
       "      <td>753,811</td>\n",
       "      <td>4.41%</td>\n",
       "      <td>618,544</td>\n",
       "    </tr>\n",
       "    <tr>\n",
       "      <th>9</th>\n",
       "      <td>10</td>\n",
       "      <td>Madhya Pradesh</td>\n",
       "      <td>809,327</td>\n",
       "      <td>728,242</td>\n",
       "      <td>4.26%</td>\n",
       "      <td>535,362</td>\n",
       "    </tr>\n",
       "    <tr>\n",
       "      <th>10</th>\n",
       "      <td>11</td>\n",
       "      <td>Kerala</td>\n",
       "      <td>-</td>\n",
       "      <td>700,532</td>\n",
       "      <td>4.10%</td>\n",
       "      <td>-</td>\n",
       "    </tr>\n",
       "    <tr>\n",
       "      <th>11</th>\n",
       "      <td>12</td>\n",
       "      <td>Delhi</td>\n",
       "      <td>779,652</td>\n",
       "      <td>690,098</td>\n",
       "      <td>4.04%</td>\n",
       "      <td>602,708</td>\n",
       "    </tr>\n",
       "    <tr>\n",
       "      <th>12</th>\n",
       "      <td>13</td>\n",
       "      <td>Haryana</td>\n",
       "      <td>707,126</td>\n",
       "      <td>626,054</td>\n",
       "      <td>3.66%</td>\n",
       "      <td>526,055</td>\n",
       "    </tr>\n",
       "    <tr>\n",
       "      <th>13</th>\n",
       "      <td>14</td>\n",
       "      <td>Bihar</td>\n",
       "      <td>557,490</td>\n",
       "      <td>484,740</td>\n",
       "      <td>2.84%</td>\n",
       "      <td>394,350</td>\n",
       "    </tr>\n",
       "    <tr>\n",
       "      <th>14</th>\n",
       "      <td>15</td>\n",
       "      <td>Punjab</td>\n",
       "      <td>521,861</td>\n",
       "      <td>479,141</td>\n",
       "      <td>2.80%</td>\n",
       "      <td>397,711</td>\n",
       "    </tr>\n",
       "    <tr>\n",
       "      <th>15</th>\n",
       "      <td>16</td>\n",
       "      <td>Odisha</td>\n",
       "      <td>485,376</td>\n",
       "      <td>436,374</td>\n",
       "      <td>2.55%</td>\n",
       "      <td>390,574</td>\n",
       "    </tr>\n",
       "    <tr>\n",
       "      <th>16</th>\n",
       "      <td>17</td>\n",
       "      <td>Assam</td>\n",
       "      <td>-</td>\n",
       "      <td>288,494</td>\n",
       "      <td>1.69%</td>\n",
       "      <td>-</td>\n",
       "    </tr>\n",
       "    <tr>\n",
       "      <th>17</th>\n",
       "      <td>18</td>\n",
       "      <td>Chhattisgarh</td>\n",
       "      <td>311,660</td>\n",
       "      <td>284,194</td>\n",
       "      <td>1.66%</td>\n",
       "      <td>231,820</td>\n",
       "    </tr>\n",
       "    <tr>\n",
       "      <th>18</th>\n",
       "      <td>19</td>\n",
       "      <td>Jharkhand</td>\n",
       "      <td>307,581</td>\n",
       "      <td>276,243</td>\n",
       "      <td>1.62%</td>\n",
       "      <td>232,821</td>\n",
       "    </tr>\n",
       "    <tr>\n",
       "      <th>19</th>\n",
       "      <td>20</td>\n",
       "      <td>Uttarakhand</td>\n",
       "      <td>245,895</td>\n",
       "      <td>222,836</td>\n",
       "      <td>1.30%</td>\n",
       "      <td>193,273</td>\n",
       "    </tr>\n",
       "    <tr>\n",
       "      <th>20</th>\n",
       "      <td>21</td>\n",
       "      <td>Himachal Pradesh</td>\n",
       "      <td>153,181</td>\n",
       "      <td>140,613</td>\n",
       "      <td>0.82%</td>\n",
       "      <td>117,868</td>\n",
       "    </tr>\n",
       "    <tr>\n",
       "      <th>21</th>\n",
       "      <td>22</td>\n",
       "      <td>Jammu &amp; Kashmir</td>\n",
       "      <td>-</td>\n",
       "      <td>138,488</td>\n",
       "      <td>0.81%</td>\n",
       "      <td>-</td>\n",
       "    </tr>\n",
       "    <tr>\n",
       "      <th>22</th>\n",
       "      <td>23</td>\n",
       "      <td>Goa</td>\n",
       "      <td>77,172</td>\n",
       "      <td>70,493</td>\n",
       "      <td>0.41%</td>\n",
       "      <td>57,028</td>\n",
       "    </tr>\n",
       "    <tr>\n",
       "      <th>23</th>\n",
       "      <td>24</td>\n",
       "      <td>Tripura</td>\n",
       "      <td>-</td>\n",
       "      <td>46,133</td>\n",
       "      <td>0.27%</td>\n",
       "      <td>-</td>\n",
       "    </tr>\n",
       "    <tr>\n",
       "      <th>24</th>\n",
       "      <td>25</td>\n",
       "      <td>Chandigarh</td>\n",
       "      <td>-</td>\n",
       "      <td>38,806</td>\n",
       "      <td>0.23%</td>\n",
       "      <td>-</td>\n",
       "    </tr>\n",
       "    <tr>\n",
       "      <th>25</th>\n",
       "      <td>26</td>\n",
       "      <td>Puducherry</td>\n",
       "      <td>36,656</td>\n",
       "      <td>32,962</td>\n",
       "      <td>0.19%</td>\n",
       "      <td>24,442</td>\n",
       "    </tr>\n",
       "    <tr>\n",
       "      <th>26</th>\n",
       "      <td>27</td>\n",
       "      <td>Meghalaya</td>\n",
       "      <td>-</td>\n",
       "      <td>30,790</td>\n",
       "      <td>0.18%</td>\n",
       "      <td>-</td>\n",
       "    </tr>\n",
       "    <tr>\n",
       "      <th>27</th>\n",
       "      <td>28</td>\n",
       "      <td>Nagaland</td>\n",
       "      <td>-</td>\n",
       "      <td>24,281</td>\n",
       "      <td>0.14%</td>\n",
       "      <td>-</td>\n",
       "    </tr>\n",
       "    <tr>\n",
       "      <th>28</th>\n",
       "      <td>29</td>\n",
       "      <td>Manipur</td>\n",
       "      <td>-</td>\n",
       "      <td>23,968</td>\n",
       "      <td>0.14%</td>\n",
       "      <td>-</td>\n",
       "    </tr>\n",
       "    <tr>\n",
       "      <th>29</th>\n",
       "      <td>30</td>\n",
       "      <td>Sikkim</td>\n",
       "      <td>26,786</td>\n",
       "      <td>23,495</td>\n",
       "      <td>0.14%</td>\n",
       "      <td>17,629</td>\n",
       "    </tr>\n",
       "    <tr>\n",
       "      <th>30</th>\n",
       "      <td>31</td>\n",
       "      <td>Arunachal Pradesh</td>\n",
       "      <td>-</td>\n",
       "      <td>22,045</td>\n",
       "      <td>0.13%</td>\n",
       "      <td>-</td>\n",
       "    </tr>\n",
       "    <tr>\n",
       "      <th>31</th>\n",
       "      <td>32</td>\n",
       "      <td>Mizoram</td>\n",
       "      <td>-</td>\n",
       "      <td>19,457</td>\n",
       "      <td>0.11%</td>\n",
       "      <td>-</td>\n",
       "    </tr>\n",
       "    <tr>\n",
       "      <th>32</th>\n",
       "      <td>33</td>\n",
       "      <td>Andaman &amp; Nicobar Islands</td>\n",
       "      <td>-</td>\n",
       "      <td>7,871</td>\n",
       "      <td>0.05%</td>\n",
       "      <td>-</td>\n",
       "    </tr>\n",
       "  </tbody>\n",
       "</table>\n",
       "</div>"
      ],
      "text/plain": [
       "   Rank                      State GSDP 18-19 GSDP 17-18   Share        GDP\n",
       "0     1                Maharashtra          -  2,411,600  14.11%          -\n",
       "1     2                 Tamil Nadu  1,664,159  1,461,841   8.55%  1,207,526\n",
       "2     3              Uttar Pradesh  1,542,432  1,376,324   8.05%  1,109,408\n",
       "3     4                  Karnataka  1,535,224  1,350,257   7.90%  1,136,634\n",
       "4     5                    Gujarat          -  1,314,680   7.69%          -\n",
       "5     6                West Bengal  1,177,586    999,585   5.85%    800,913\n",
       "6     7                  Rajasthan    929,124    835,558   4.89%    679,314\n",
       "7     8             Andhra Pradesh    933,402    809,547   4.74%    680,332\n",
       "8     9                  Telangana    865,688    753,811   4.41%    618,544\n",
       "9    10             Madhya Pradesh    809,327    728,242   4.26%    535,362\n",
       "10   11                     Kerala          -    700,532   4.10%          -\n",
       "11   12                      Delhi    779,652    690,098   4.04%    602,708\n",
       "12   13                    Haryana    707,126    626,054   3.66%    526,055\n",
       "13   14                      Bihar    557,490    484,740   2.84%    394,350\n",
       "14   15                     Punjab    521,861    479,141   2.80%    397,711\n",
       "15   16                     Odisha    485,376    436,374   2.55%    390,574\n",
       "16   17                      Assam          -    288,494   1.69%          -\n",
       "17   18               Chhattisgarh    311,660    284,194   1.66%    231,820\n",
       "18   19                  Jharkhand    307,581    276,243   1.62%    232,821\n",
       "19   20                Uttarakhand    245,895    222,836   1.30%    193,273\n",
       "20   21           Himachal Pradesh    153,181    140,613   0.82%    117,868\n",
       "21   22            Jammu & Kashmir          -    138,488   0.81%          -\n",
       "22   23                        Goa     77,172     70,493   0.41%     57,028\n",
       "23   24                    Tripura          -     46,133   0.27%          -\n",
       "24   25                 Chandigarh          -     38,806   0.23%          -\n",
       "25   26                 Puducherry     36,656     32,962   0.19%     24,442\n",
       "26   27                  Meghalaya          -     30,790   0.18%          -\n",
       "27   28                   Nagaland          -     24,281   0.14%          -\n",
       "28   29                    Manipur          -     23,968   0.14%          -\n",
       "29   30                     Sikkim     26,786     23,495   0.14%     17,629\n",
       "30   31          Arunachal Pradesh          -     22,045   0.13%          -\n",
       "31   32                    Mizoram          -     19,457   0.11%          -\n",
       "32   33  Andaman & Nicobar Islands          -      7,871   0.05%          -"
      ]
     },
     "execution_count": 150,
     "metadata": {},
     "output_type": "execute_result"
    }
   ],
   "source": [
    "GDP_State_Wise=pd.DataFrame({})\n",
    "GDP_State_Wise['Rank']=rank[0:33]\n",
    "GDP_State_Wise['State']=state[0:33]\n",
    "GDP_State_Wise['GSDP 18-19']=gsdp1819[0:33]\n",
    "GDP_State_Wise['GSDP 17-18']=gsdp1718[0:33]\n",
    "GDP_State_Wise['Share']=share[0:33]\n",
    "GDP_State_Wise['GDP']=gdp[0:33]\n",
    "GDP_State_Wise"
   ]
  },
  {
   "cell_type": "markdown",
   "metadata": {},
   "source": [
    "### 5. Github_Trending_Repositories"
   ]
  },
  {
   "cell_type": "code",
   "execution_count": 3,
   "metadata": {},
   "outputs": [],
   "source": [
    "url='https://github.com/'\n",
    "driver.get(url)"
   ]
  },
  {
   "cell_type": "code",
   "execution_count": 4,
   "metadata": {},
   "outputs": [],
   "source": [
    "driver.find_element_by_xpath('//nav[@class=\"mt-0 px-3 px-lg-0 mb-5 mb-lg-0\"]/ul/li[4]//summary').click()"
   ]
  },
  {
   "cell_type": "code",
   "execution_count": 5,
   "metadata": {},
   "outputs": [],
   "source": [
    "driver.find_element_by_xpath('//nav[@class=\"mt-0 px-3 px-lg-0 mb-5 mb-lg-0\"]/ul/li[4]//div/ul[2]/li[3]/a').click()"
   ]
  },
  {
   "cell_type": "code",
   "execution_count": 6,
   "metadata": {},
   "outputs": [],
   "source": [
    "repo=[]\n",
    "rdesc=[]\n",
    "contributors=[]\n",
    "lang=[]"
   ]
  },
  {
   "cell_type": "code",
   "execution_count": 7,
   "metadata": {},
   "outputs": [],
   "source": [
    "repo_tags=driver.find_elements_by_xpath('//article[@class=\"Box-row\"]/h1/a/span')"
   ]
  },
  {
   "cell_type": "code",
   "execution_count": 8,
   "metadata": {},
   "outputs": [
    {
     "data": {
      "text/plain": [
       "['mdn /', 'sherlock-project /', 'RobinLinus /', 'callstack /']"
      ]
     },
     "execution_count": 8,
     "metadata": {},
     "output_type": "execute_result"
    }
   ],
   "source": [
    "for i in repo_tags:\n",
    "    repos=i.text\n",
    "    repo.append(repos)\n",
    "repo[0:4]"
   ]
  },
  {
   "cell_type": "code",
   "execution_count": 9,
   "metadata": {},
   "outputs": [],
   "source": [
    "desc_tags=driver.find_elements_by_xpath('//article[@class=\"Box-row\"]/p')"
   ]
  },
  {
   "cell_type": "code",
   "execution_count": 10,
   "metadata": {
    "scrolled": true
   },
   "outputs": [
    {
     "data": {
      "text/plain": [
       "['The content behind MDN Web Docs',\n",
       " '🔎 Hunt down social media accounts by username across social networks',\n",
       " 'A Progressive Web App for local file sharing',\n",
       " 'Material Design for React Native (Android & iOS)']"
      ]
     },
     "execution_count": 10,
     "metadata": {},
     "output_type": "execute_result"
    }
   ],
   "source": [
    "for i in desc_tags:\n",
    "    if i.text is None :\n",
    "        rdesc.append(\"--\") \n",
    "    else:\n",
    "        rdesc.append(i.text)\n",
    "rdesc[0:4]"
   ]
  },
  {
   "cell_type": "code",
   "execution_count": 12,
   "metadata": {},
   "outputs": [],
   "source": [
    "contrib_tags=driver.find_elements_by_xpath('//div[@class=\"f6 text-gray mt-2\"]/a[2]')"
   ]
  },
  {
   "cell_type": "code",
   "execution_count": 13,
   "metadata": {},
   "outputs": [
    {
     "data": {
      "text/plain": [
       "['118', '1,879', '549', '1,097']"
      ]
     },
     "execution_count": 13,
     "metadata": {},
     "output_type": "execute_result"
    }
   ],
   "source": [
    "for i in contrib_tags:\n",
    "    if i.text is None:\n",
    "        contributors.append('--')\n",
    "    else:\n",
    "        contributors.append(i.text)\n",
    "contributors[0:4]"
   ]
  },
  {
   "cell_type": "code",
   "execution_count": 14,
   "metadata": {},
   "outputs": [],
   "source": [
    "lang_tags=driver.find_elements_by_xpath('//span[@itemprop=\"programmingLanguage\"]')"
   ]
  },
  {
   "cell_type": "code",
   "execution_count": 15,
   "metadata": {},
   "outputs": [
    {
     "data": {
      "text/plain": [
       "['HTML', 'Python', 'JavaScript', 'TypeScript']"
      ]
     },
     "execution_count": 15,
     "metadata": {},
     "output_type": "execute_result"
    }
   ],
   "source": [
    "for i in lang_tags:\n",
    "    if i.text is None:\n",
    "        lang.append('--')\n",
    "    else:\n",
    "        lang.append(i.text)\n",
    "lang[0:4]"
   ]
  },
  {
   "cell_type": "code",
   "execution_count": 16,
   "metadata": {},
   "outputs": [
    {
     "data": {
      "text/plain": [
       "24"
      ]
     },
     "execution_count": 16,
     "metadata": {},
     "output_type": "execute_result"
    }
   ],
   "source": [
    "len(lang)"
   ]
  },
  {
   "cell_type": "code",
   "execution_count": 17,
   "metadata": {
    "scrolled": true
   },
   "outputs": [
    {
     "data": {
      "text/html": [
       "<div>\n",
       "<style scoped>\n",
       "    .dataframe tbody tr th:only-of-type {\n",
       "        vertical-align: middle;\n",
       "    }\n",
       "\n",
       "    .dataframe tbody tr th {\n",
       "        vertical-align: top;\n",
       "    }\n",
       "\n",
       "    .dataframe thead th {\n",
       "        text-align: right;\n",
       "    }\n",
       "</style>\n",
       "<table border=\"1\" class=\"dataframe\">\n",
       "  <thead>\n",
       "    <tr style=\"text-align: right;\">\n",
       "      <th></th>\n",
       "      <th>Repository</th>\n",
       "      <th>Description</th>\n",
       "      <th>No of Contributors</th>\n",
       "      <th>Language Used</th>\n",
       "    </tr>\n",
       "  </thead>\n",
       "  <tbody>\n",
       "    <tr>\n",
       "      <th>0</th>\n",
       "      <td>mdn /</td>\n",
       "      <td>The content behind MDN Web Docs</td>\n",
       "      <td>118</td>\n",
       "      <td>HTML</td>\n",
       "    </tr>\n",
       "    <tr>\n",
       "      <th>1</th>\n",
       "      <td>sherlock-project /</td>\n",
       "      <td>🔎 Hunt down social media accounts by username ...</td>\n",
       "      <td>1,879</td>\n",
       "      <td>Python</td>\n",
       "    </tr>\n",
       "    <tr>\n",
       "      <th>2</th>\n",
       "      <td>RobinLinus /</td>\n",
       "      <td>A Progressive Web App for local file sharing</td>\n",
       "      <td>549</td>\n",
       "      <td>JavaScript</td>\n",
       "    </tr>\n",
       "    <tr>\n",
       "      <th>3</th>\n",
       "      <td>callstack /</td>\n",
       "      <td>Material Design for React Native (Android &amp; iOS)</td>\n",
       "      <td>1,097</td>\n",
       "      <td>TypeScript</td>\n",
       "    </tr>\n",
       "    <tr>\n",
       "      <th>4</th>\n",
       "      <td>aapatre /</td>\n",
       "      <td>Do you want to LEARN NEW STUFF for FREE? Don't...</td>\n",
       "      <td>208</td>\n",
       "      <td>Python</td>\n",
       "    </tr>\n",
       "    <tr>\n",
       "      <th>5</th>\n",
       "      <td>willmcgugan /</td>\n",
       "      <td>Rich is a Python library for rich text and bea...</td>\n",
       "      <td>502</td>\n",
       "      <td>Python</td>\n",
       "    </tr>\n",
       "    <tr>\n",
       "      <th>6</th>\n",
       "      <td>yamashi /</td>\n",
       "      <td>Performance boost, bug fixes and hacks for fun...</td>\n",
       "      <td>50</td>\n",
       "      <td>C++</td>\n",
       "    </tr>\n",
       "    <tr>\n",
       "      <th>7</th>\n",
       "      <td>tiangolo /</td>\n",
       "      <td>FastAPI framework, high performance, easy to l...</td>\n",
       "      <td>1,667</td>\n",
       "      <td>Python</td>\n",
       "    </tr>\n",
       "    <tr>\n",
       "      <th>8</th>\n",
       "      <td>nrwl /</td>\n",
       "      <td>Extensible Dev Tools for Monorepos</td>\n",
       "      <td>598</td>\n",
       "      <td>TypeScript</td>\n",
       "    </tr>\n",
       "    <tr>\n",
       "      <th>9</th>\n",
       "      <td>metersphere /</td>\n",
       "      <td>An open source continuous testing platform. Me...</td>\n",
       "      <td>674</td>\n",
       "      <td>Java</td>\n",
       "    </tr>\n",
       "    <tr>\n",
       "      <th>10</th>\n",
       "      <td>danistefanovic /</td>\n",
       "      <td>🤓 Build your own (insert technology here)</td>\n",
       "      <td>7,974</td>\n",
       "      <td>C++</td>\n",
       "    </tr>\n",
       "    <tr>\n",
       "      <th>11</th>\n",
       "      <td>stenzek /</td>\n",
       "      <td>Fast PlayStation 1 emulator for PC and Android</td>\n",
       "      <td>76</td>\n",
       "      <td>YARA</td>\n",
       "    </tr>\n",
       "    <tr>\n",
       "      <th>12</th>\n",
       "      <td>fireeye /</td>\n",
       "      <td>JumpServer 是全球首款开源的堡垒机，是符合 4A 的专业运维安全审计系统。</td>\n",
       "      <td>109</td>\n",
       "      <td>Python</td>\n",
       "    </tr>\n",
       "    <tr>\n",
       "      <th>13</th>\n",
       "      <td>jumpserver /</td>\n",
       "      <td>Request management and media discovery tool fo...</td>\n",
       "      <td>4,002</td>\n",
       "      <td>TypeScript</td>\n",
       "    </tr>\n",
       "    <tr>\n",
       "      <th>14</th>\n",
       "      <td>sct /</td>\n",
       "      <td>The fuzzer afl++ is afl with community patches...</td>\n",
       "      <td>15</td>\n",
       "      <td>C</td>\n",
       "    </tr>\n",
       "    <tr>\n",
       "      <th>15</th>\n",
       "      <td>AFLplusplus /</td>\n",
       "      <td>Free R-Tips is a FREE Newsletter provided by B...</td>\n",
       "      <td>248</td>\n",
       "      <td>HTML</td>\n",
       "    </tr>\n",
       "    <tr>\n",
       "      <th>16</th>\n",
       "      <td>business-science /</td>\n",
       "      <td>A primitive USB patcher for installing macOS B...</td>\n",
       "      <td>89</td>\n",
       "      <td>Shell</td>\n",
       "    </tr>\n",
       "    <tr>\n",
       "      <th>17</th>\n",
       "      <td>barrykn /</td>\n",
       "      <td>Clean Architecture Solution Template for Angul...</td>\n",
       "      <td>77</td>\n",
       "      <td>C#</td>\n",
       "    </tr>\n",
       "    <tr>\n",
       "      <th>18</th>\n",
       "      <td>jasontaylordev /</td>\n",
       "      <td>Project Reunion is an evolution of the Windows...</td>\n",
       "      <td>794</td>\n",
       "      <td>C++</td>\n",
       "    </tr>\n",
       "    <tr>\n",
       "      <th>19</th>\n",
       "      <td>microsoft /</td>\n",
       "      <td>openpilot is an open source driver assistance ...</td>\n",
       "      <td>54</td>\n",
       "      <td>C++</td>\n",
       "    </tr>\n",
       "  </tbody>\n",
       "</table>\n",
       "</div>"
      ],
      "text/plain": [
       "            Repository                                        Description  \\\n",
       "0                mdn /                    The content behind MDN Web Docs   \n",
       "1   sherlock-project /  🔎 Hunt down social media accounts by username ...   \n",
       "2         RobinLinus /       A Progressive Web App for local file sharing   \n",
       "3          callstack /   Material Design for React Native (Android & iOS)   \n",
       "4            aapatre /  Do you want to LEARN NEW STUFF for FREE? Don't...   \n",
       "5        willmcgugan /  Rich is a Python library for rich text and bea...   \n",
       "6            yamashi /  Performance boost, bug fixes and hacks for fun...   \n",
       "7           tiangolo /  FastAPI framework, high performance, easy to l...   \n",
       "8               nrwl /                 Extensible Dev Tools for Monorepos   \n",
       "9        metersphere /  An open source continuous testing platform. Me...   \n",
       "10    danistefanovic /          🤓 Build your own (insert technology here)   \n",
       "11           stenzek /     Fast PlayStation 1 emulator for PC and Android   \n",
       "12           fireeye /         JumpServer 是全球首款开源的堡垒机，是符合 4A 的专业运维安全审计系统。   \n",
       "13        jumpserver /  Request management and media discovery tool fo...   \n",
       "14               sct /  The fuzzer afl++ is afl with community patches...   \n",
       "15       AFLplusplus /  Free R-Tips is a FREE Newsletter provided by B...   \n",
       "16  business-science /  A primitive USB patcher for installing macOS B...   \n",
       "17           barrykn /  Clean Architecture Solution Template for Angul...   \n",
       "18    jasontaylordev /  Project Reunion is an evolution of the Windows...   \n",
       "19         microsoft /  openpilot is an open source driver assistance ...   \n",
       "\n",
       "   No of Contributors Language Used  \n",
       "0                 118          HTML  \n",
       "1               1,879        Python  \n",
       "2                 549    JavaScript  \n",
       "3               1,097    TypeScript  \n",
       "4                 208        Python  \n",
       "5                 502        Python  \n",
       "6                  50           C++  \n",
       "7               1,667        Python  \n",
       "8                 598    TypeScript  \n",
       "9                 674          Java  \n",
       "10              7,974           C++  \n",
       "11                 76          YARA  \n",
       "12                109        Python  \n",
       "13              4,002    TypeScript  \n",
       "14                 15             C  \n",
       "15                248          HTML  \n",
       "16                 89         Shell  \n",
       "17                 77            C#  \n",
       "18                794           C++  \n",
       "19                 54           C++  "
      ]
     },
     "execution_count": 17,
     "metadata": {},
     "output_type": "execute_result"
    }
   ],
   "source": [
    "Git_top=pd.DataFrame({})\n",
    "Git_top['Repository']=repo[0:20]\n",
    "Git_top['Description']=rdesc[0:20]\n",
    "Git_top['No of Contributors']=contributors[0:20]\n",
    "Git_top['Language Used']=lang[0:20]\n",
    "Git_top"
   ]
  },
  {
   "cell_type": "markdown",
   "metadata": {},
   "source": [
    "### 6. Billboard Top 100 Songs"
   ]
  },
  {
   "cell_type": "code",
   "execution_count": 30,
   "metadata": {},
   "outputs": [],
   "source": [
    "url='https://www.billboard.com/'\n",
    "driver.get(url)"
   ]
  },
  {
   "cell_type": "code",
   "execution_count": 31,
   "metadata": {},
   "outputs": [],
   "source": [
    "song=[]\n",
    "artist=[]\n",
    "lastweek=[]\n",
    "peak=[]\n",
    "weeks=[]"
   ]
  },
  {
   "cell_type": "code",
   "execution_count": 32,
   "metadata": {},
   "outputs": [],
   "source": [
    "driver.find_element_by_xpath('//div[@class=\"header__sticky__child\"]//div[1]/ul/li[1]').click()"
   ]
  },
  {
   "cell_type": "code",
   "execution_count": 33,
   "metadata": {},
   "outputs": [],
   "source": [
    "driver.find_element_by_xpath('//div[@class=\"charts-landing__info charts-landing__info--hot-100\"]/div[2]').click()"
   ]
  },
  {
   "cell_type": "code",
   "execution_count": 34,
   "metadata": {},
   "outputs": [],
   "source": [
    "song_tags=driver.find_elements_by_xpath('//span[@class=\"chart-element__information\"]/span[1]')\n",
    "\n",
    "for i in song_tags:\n",
    "    songs=i.text\n",
    "    song.append(songs)"
   ]
  },
  {
   "cell_type": "code",
   "execution_count": 35,
   "metadata": {},
   "outputs": [
    {
     "data": {
      "text/plain": [
       "['All I Want For Christmas Is You',\n",
       " 'Mood',\n",
       " \"Rockin' Around The Christmas Tree\",\n",
       " 'Positions']"
      ]
     },
     "execution_count": 35,
     "metadata": {},
     "output_type": "execute_result"
    }
   ],
   "source": [
    "song[0:4]"
   ]
  },
  {
   "cell_type": "code",
   "execution_count": 36,
   "metadata": {},
   "outputs": [
    {
     "data": {
      "text/plain": [
       "['Mariah Carey', '24kGoldn Featuring iann dior', 'Brenda Lee', 'Ariana Grande']"
      ]
     },
     "execution_count": 36,
     "metadata": {},
     "output_type": "execute_result"
    }
   ],
   "source": [
    "artist_tags=driver.find_elements_by_xpath('//span[@class=\"chart-element__information\"]/span[2]')\n",
    "\n",
    "for i in artist_tags:\n",
    "    artists=i.text\n",
    "    artist.append(artists)\n",
    "artist[0:4]"
   ]
  },
  {
   "cell_type": "code",
   "execution_count": 37,
   "metadata": {},
   "outputs": [],
   "source": [
    "lastweek_tags=driver.find_elements_by_xpath('//div[@class=\"chart-element__meta text--center color--secondary text--last\"]')"
   ]
  },
  {
   "cell_type": "code",
   "execution_count": 38,
   "metadata": {},
   "outputs": [
    {
     "data": {
      "text/plain": [
       "['2', '1', '4', '3']"
      ]
     },
     "execution_count": 38,
     "metadata": {},
     "output_type": "execute_result"
    }
   ],
   "source": [
    "for i in lastweek_tags:\n",
    "    lastweeks=i.text\n",
    "    lastweek.append(lastweeks)\n",
    "lastweek[0:4]"
   ]
  },
  {
   "cell_type": "code",
   "execution_count": 39,
   "metadata": {},
   "outputs": [
    {
     "data": {
      "text/plain": [
       "['1', '1', '2', '1']"
      ]
     },
     "execution_count": 39,
     "metadata": {},
     "output_type": "execute_result"
    }
   ],
   "source": [
    "peak_tags=driver.find_elements_by_xpath('//div[@class=\"chart-element__meta text--center color--secondary text--peak\"]')\n",
    "\n",
    "for i in peak_tags:\n",
    "    peaks=i.text\n",
    "    peak.append(peaks)\n",
    "peak[0:4]"
   ]
  },
  {
   "cell_type": "code",
   "execution_count": 40,
   "metadata": {},
   "outputs": [
    {
     "data": {
      "text/plain": [
       "['41', '18', '36', '7']"
      ]
     },
     "execution_count": 40,
     "metadata": {},
     "output_type": "execute_result"
    }
   ],
   "source": [
    "week_tags=driver.find_elements_by_xpath('//div[@class=\"chart-element__meta text--center color--secondary text--week\"]')\n",
    "\n",
    "for i in week_tags:\n",
    "    week=i.text\n",
    "    weeks.append(week)\n",
    "weeks[0:4]"
   ]
  },
  {
   "cell_type": "code",
   "execution_count": 41,
   "metadata": {
    "scrolled": true
   },
   "outputs": [
    {
     "data": {
      "text/html": [
       "<div>\n",
       "<style scoped>\n",
       "    .dataframe tbody tr th:only-of-type {\n",
       "        vertical-align: middle;\n",
       "    }\n",
       "\n",
       "    .dataframe tbody tr th {\n",
       "        vertical-align: top;\n",
       "    }\n",
       "\n",
       "    .dataframe thead th {\n",
       "        text-align: right;\n",
       "    }\n",
       "</style>\n",
       "<table border=\"1\" class=\"dataframe\">\n",
       "  <thead>\n",
       "    <tr style=\"text-align: right;\">\n",
       "      <th></th>\n",
       "      <th>Song</th>\n",
       "      <th>Artist</th>\n",
       "      <th>Last Week rank</th>\n",
       "      <th>Peak Rank</th>\n",
       "      <th>Weeks on Board</th>\n",
       "    </tr>\n",
       "  </thead>\n",
       "  <tbody>\n",
       "    <tr>\n",
       "      <th>0</th>\n",
       "      <td>All I Want For Christmas Is You</td>\n",
       "      <td>Mariah Carey</td>\n",
       "      <td>2</td>\n",
       "      <td>1</td>\n",
       "      <td>41</td>\n",
       "    </tr>\n",
       "    <tr>\n",
       "      <th>1</th>\n",
       "      <td>Mood</td>\n",
       "      <td>24kGoldn Featuring iann dior</td>\n",
       "      <td>1</td>\n",
       "      <td>1</td>\n",
       "      <td>18</td>\n",
       "    </tr>\n",
       "    <tr>\n",
       "      <th>2</th>\n",
       "      <td>Rockin' Around The Christmas Tree</td>\n",
       "      <td>Brenda Lee</td>\n",
       "      <td>4</td>\n",
       "      <td>2</td>\n",
       "      <td>36</td>\n",
       "    </tr>\n",
       "    <tr>\n",
       "      <th>3</th>\n",
       "      <td>Positions</td>\n",
       "      <td>Ariana Grande</td>\n",
       "      <td>3</td>\n",
       "      <td>1</td>\n",
       "      <td>7</td>\n",
       "    </tr>\n",
       "    <tr>\n",
       "      <th>4</th>\n",
       "      <td>Jingle Bell Rock</td>\n",
       "      <td>Bobby Helms</td>\n",
       "      <td>9</td>\n",
       "      <td>3</td>\n",
       "      <td>33</td>\n",
       "    </tr>\n",
       "    <tr>\n",
       "      <th>...</th>\n",
       "      <td>...</td>\n",
       "      <td>...</td>\n",
       "      <td>...</td>\n",
       "      <td>...</td>\n",
       "      <td>...</td>\n",
       "    </tr>\n",
       "    <tr>\n",
       "      <th>95</th>\n",
       "      <td>Hallelujah</td>\n",
       "      <td>Carrie Underwood &amp; John Legend</td>\n",
       "      <td>-</td>\n",
       "      <td>96</td>\n",
       "      <td>1</td>\n",
       "    </tr>\n",
       "    <tr>\n",
       "      <th>96</th>\n",
       "      <td>Practice</td>\n",
       "      <td>DaBaby</td>\n",
       "      <td>-</td>\n",
       "      <td>86</td>\n",
       "      <td>5</td>\n",
       "    </tr>\n",
       "    <tr>\n",
       "      <th>97</th>\n",
       "      <td>Put Your Records On</td>\n",
       "      <td>Ritt Momney</td>\n",
       "      <td>-</td>\n",
       "      <td>79</td>\n",
       "      <td>9</td>\n",
       "    </tr>\n",
       "    <tr>\n",
       "      <th>98</th>\n",
       "      <td>Te Mudaste</td>\n",
       "      <td>Bad Bunny</td>\n",
       "      <td>60</td>\n",
       "      <td>60</td>\n",
       "      <td>2</td>\n",
       "    </tr>\n",
       "    <tr>\n",
       "      <th>99</th>\n",
       "      <td>Silent Night</td>\n",
       "      <td>Carrie Underwood</td>\n",
       "      <td>-</td>\n",
       "      <td>100</td>\n",
       "      <td>1</td>\n",
       "    </tr>\n",
       "  </tbody>\n",
       "</table>\n",
       "<p>100 rows × 5 columns</p>\n",
       "</div>"
      ],
      "text/plain": [
       "                                 Song                          Artist  \\\n",
       "0     All I Want For Christmas Is You                    Mariah Carey   \n",
       "1                                Mood    24kGoldn Featuring iann dior   \n",
       "2   Rockin' Around The Christmas Tree                      Brenda Lee   \n",
       "3                           Positions                   Ariana Grande   \n",
       "4                    Jingle Bell Rock                     Bobby Helms   \n",
       "..                                ...                             ...   \n",
       "95                         Hallelujah  Carrie Underwood & John Legend   \n",
       "96                           Practice                          DaBaby   \n",
       "97                Put Your Records On                     Ritt Momney   \n",
       "98                         Te Mudaste                       Bad Bunny   \n",
       "99                       Silent Night                Carrie Underwood   \n",
       "\n",
       "   Last Week rank Peak Rank Weeks on Board  \n",
       "0               2         1             41  \n",
       "1               1         1             18  \n",
       "2               4         2             36  \n",
       "3               3         1              7  \n",
       "4               9         3             33  \n",
       "..            ...       ...            ...  \n",
       "95              -        96              1  \n",
       "96              -        86              5  \n",
       "97              -        79              9  \n",
       "98             60        60              2  \n",
       "99              -       100              1  \n",
       "\n",
       "[100 rows x 5 columns]"
      ]
     },
     "execution_count": 41,
     "metadata": {},
     "output_type": "execute_result"
    }
   ],
   "source": [
    "Billboard_100=pd.DataFrame({})\n",
    "Billboard_100['Song']=song\n",
    "Billboard_100['Artist']=artist\n",
    "Billboard_100['Last Week rank']=lastweek\n",
    "Billboard_100['Peak Rank']=peak\n",
    "Billboard_100['Weeks on Board']=weeks\n",
    "Billboard_100"
   ]
  },
  {
   "cell_type": "markdown",
   "metadata": {},
   "source": [
    "### 7. Naukri_DS_ Recruiters"
   ]
  },
  {
   "cell_type": "code",
   "execution_count": 55,
   "metadata": {},
   "outputs": [],
   "source": [
    "url='https://www.naukri.com/'\n",
    "driver.get(url)"
   ]
  },
  {
   "cell_type": "code",
   "execution_count": 57,
   "metadata": {},
   "outputs": [],
   "source": [
    "driver.find_element_by_xpath('//ul[@class=\"midSec menu\"]/li[2]/a').click()"
   ]
  },
  {
   "cell_type": "code",
   "execution_count": 68,
   "metadata": {},
   "outputs": [],
   "source": [
    "p = driver.current_window_handle\n",
    "chwd = driver.window_handles"
   ]
  },
  {
   "cell_type": "code",
   "execution_count": 71,
   "metadata": {},
   "outputs": [
    {
     "name": "stdout",
     "output_type": "stream",
     "text": [
      "Child window title: HR Manager - HR Executive - HR Recruiter Consultants - Naukri.com\n"
     ]
    }
   ],
   "source": [
    "for w in chwd:\n",
    "\n",
    "    if(w!=p):\n",
    "        driver.switch_to.window(w)\n",
    "    break\n",
    "time.sleep(0.9)\n",
    "print(\"Child window title: \" + driver.title)"
   ]
  },
  {
   "cell_type": "code",
   "execution_count": 72,
   "metadata": {},
   "outputs": [],
   "source": [
    "driver.find_element_by_xpath('//input[@class=\"sugInp\"]').send_keys('Data Science')"
   ]
  },
  {
   "cell_type": "code",
   "execution_count": 73,
   "metadata": {},
   "outputs": [],
   "source": [
    "driver.find_element_by_id('qsbFormBtn').click()"
   ]
  },
  {
   "cell_type": "code",
   "execution_count": 74,
   "metadata": {},
   "outputs": [],
   "source": [
    "naam=[]\n",
    "designa=[]\n",
    "compan=[]\n",
    "skillshire=[]\n",
    "locat=[]"
   ]
  },
  {
   "cell_type": "code",
   "execution_count": 75,
   "metadata": {},
   "outputs": [
    {
     "data": {
      "text/plain": [
       "['Aakash Harit',\n",
       " 'shravan Kumar Gaddam',\n",
       " 'Talent Acquisition Executive',\n",
       " 'Anik Agrawal']"
      ]
     },
     "execution_count": 75,
     "metadata": {},
     "output_type": "execute_result"
    }
   ],
   "source": [
    "naam_tags=driver.find_elements_by_xpath('//div[@class=\"vcard\"]/p/a[1]')\n",
    "\n",
    "for i in naam_tags:\n",
    "    naams=i.text\n",
    "    naam.append(naams)\n",
    "naam[0:4]"
   ]
  },
  {
   "cell_type": "code",
   "execution_count": 76,
   "metadata": {},
   "outputs": [
    {
     "data": {
      "text/plain": [
       "['HR Manager',\n",
       " 'Company Recruiter',\n",
       " 'Recruitment Professional',\n",
       " 'Company Recruiter']"
      ]
     },
     "execution_count": 76,
     "metadata": {},
     "output_type": "execute_result"
    }
   ],
   "source": [
    "disigna_tags=driver.find_elements_by_xpath('//div[@class=\"vcard\"]/p/span[1]')\n",
    "\n",
    "for i in disigna_tags:\n",
    "    design=i.text\n",
    "    designa.append(design)\n",
    "designa[0:4]"
   ]
  },
  {
   "cell_type": "code",
   "execution_count": 77,
   "metadata": {},
   "outputs": [
    {
     "data": {
      "text/plain": [
       "['Data Science Network',\n",
       " 'Shore Infotech India Pvt. Ltd',\n",
       " 'XenonStack',\n",
       " 'Enerlytics Software Solutions Pvt Ltd']"
      ]
     },
     "execution_count": 77,
     "metadata": {},
     "output_type": "execute_result"
    }
   ],
   "source": [
    "com_tags=driver.find_elements_by_xpath('//div[@class=\"vcard\"]/p/a[2]')\n",
    "\n",
    "for i in com_tags:\n",
    "    compays=i.text\n",
    "    compan.append(compays)\n",
    "compan[0:4]"
   ]
  },
  {
   "cell_type": "code",
   "execution_count": 78,
   "metadata": {},
   "outputs": [
    {
     "data": {
      "text/plain": [
       "['Classic ASP Developer, Internet Marketing Professional, Data Science SME, Content Writers, SEO Professional, Revenue Professional',\n",
       " '.Net, Java, Data Science, Linux Administration, Sql Server Development, Winforms, Wcf Services, Wpf, Telecom Engineering, Technical Management, Software',\n",
       " 'Web Designing, html5, Angular.js, seo, hadoop, Cloud Computing, python, Iphone Development, java, Machine Learning, aws, analytics, linux, puppet',\n",
       " 'Mean Stack, javascript, angularjs, mongodb, Web Services, rest, express, Node.js, Big Data, iot, Data Science, Cloud Computing, saas, Aws']"
      ]
     },
     "execution_count": 78,
     "metadata": {},
     "output_type": "execute_result"
    }
   ],
   "source": [
    "skillshire_tags=driver.find_elements_by_xpath('//div[@class=\"hireSec highlightable\"]')\n",
    "\n",
    "for i in skillshire_tags:\n",
    "    skills=i.text\n",
    "    skillshire.append(skills)\n",
    "skillshire[0:4]"
   ]
  },
  {
   "cell_type": "code",
   "execution_count": 79,
   "metadata": {},
   "outputs": [
    {
     "data": {
      "text/plain": [
       "['Delhi', 'Hyderabad / Secunderabad', 'Chandigarh', 'Ahmedabad']"
      ]
     },
     "execution_count": 79,
     "metadata": {},
     "output_type": "execute_result"
    }
   ],
   "source": [
    "locat_tags=driver.find_elements_by_xpath('//div[@class=\"vcard\"]/p/span[2]')\n",
    "for i in locat_tags:\n",
    "    if i.text is None:\n",
    "        locat.append('--')\n",
    "    else:\n",
    "        locat.append(i.text)\n",
    "locat[0:4]"
   ]
  },
  {
   "cell_type": "code",
   "execution_count": 80,
   "metadata": {},
   "outputs": [
    {
     "data": {
      "text/plain": [
       "48"
      ]
     },
     "execution_count": 80,
     "metadata": {},
     "output_type": "execute_result"
    }
   ],
   "source": [
    "len(locat)"
   ]
  },
  {
   "cell_type": "code",
   "execution_count": 81,
   "metadata": {
    "scrolled": true
   },
   "outputs": [
    {
     "data": {
      "text/html": [
       "<div>\n",
       "<style scoped>\n",
       "    .dataframe tbody tr th:only-of-type {\n",
       "        vertical-align: middle;\n",
       "    }\n",
       "\n",
       "    .dataframe tbody tr th {\n",
       "        vertical-align: top;\n",
       "    }\n",
       "\n",
       "    .dataframe thead th {\n",
       "        text-align: right;\n",
       "    }\n",
       "</style>\n",
       "<table border=\"1\" class=\"dataframe\">\n",
       "  <thead>\n",
       "    <tr style=\"text-align: right;\">\n",
       "      <th></th>\n",
       "      <th>Name</th>\n",
       "      <th>Designation</th>\n",
       "      <th>Company Name</th>\n",
       "      <th>Skills Hiring for</th>\n",
       "      <th>Location</th>\n",
       "    </tr>\n",
       "  </thead>\n",
       "  <tbody>\n",
       "    <tr>\n",
       "      <th>0</th>\n",
       "      <td>Aakash Harit</td>\n",
       "      <td>HR Manager</td>\n",
       "      <td>Data Science Network</td>\n",
       "      <td>Classic ASP Developer, Internet Marketing Prof...</td>\n",
       "      <td>Delhi</td>\n",
       "    </tr>\n",
       "    <tr>\n",
       "      <th>1</th>\n",
       "      <td>shravan Kumar Gaddam</td>\n",
       "      <td>Company Recruiter</td>\n",
       "      <td>Shore Infotech India Pvt. Ltd</td>\n",
       "      <td>.Net, Java, Data Science, Linux Administration...</td>\n",
       "      <td>Hyderabad / Secunderabad</td>\n",
       "    </tr>\n",
       "    <tr>\n",
       "      <th>2</th>\n",
       "      <td>Talent Acquisition Executive</td>\n",
       "      <td>Recruitment Professional</td>\n",
       "      <td>XenonStack</td>\n",
       "      <td>Web Designing, html5, Angular.js, seo, hadoop,...</td>\n",
       "      <td>Chandigarh</td>\n",
       "    </tr>\n",
       "    <tr>\n",
       "      <th>3</th>\n",
       "      <td>Anik Agrawal</td>\n",
       "      <td>Company Recruiter</td>\n",
       "      <td>Enerlytics Software Solutions Pvt Ltd</td>\n",
       "      <td>Mean Stack, javascript, angularjs, mongodb, We...</td>\n",
       "      <td>Ahmedabad</td>\n",
       "    </tr>\n",
       "    <tr>\n",
       "      <th>4</th>\n",
       "      <td>MARSIAN Technologies LLP</td>\n",
       "      <td>Company HR</td>\n",
       "      <td>MARSIAN Technologies LLP</td>\n",
       "      <td>Data Science, Artificial Intelligence, Machine...</td>\n",
       "      <td>Pune</td>\n",
       "    </tr>\n",
       "    <tr>\n",
       "      <th>5</th>\n",
       "      <td>subhas patel</td>\n",
       "      <td>Founder CEO</td>\n",
       "      <td>LibraryXProject</td>\n",
       "      <td>Hadoop, Spark, Digital Strategy, Data Architec...</td>\n",
       "      <td>UK - (london)</td>\n",
       "    </tr>\n",
       "    <tr>\n",
       "      <th>6</th>\n",
       "      <td>Jitendra Singh</td>\n",
       "      <td>Manager- Talent Acquisition</td>\n",
       "      <td>Compunnel Technology India Pvt. Ltd</td>\n",
       "      <td>Python, Data Science, .Net, Java, Big Data, Da...</td>\n",
       "      <td>Delhi</td>\n",
       "    </tr>\n",
       "    <tr>\n",
       "      <th>7</th>\n",
       "      <td>Abhishek - Only Analytics Hiring - India and</td>\n",
       "      <td>Recruitment Lead Consultant</td>\n",
       "      <td>Apidel Technologies Division of Transpower</td>\n",
       "      <td>Analytics, Business Intelligence, Business Ana...</td>\n",
       "      <td>Vadodara / Baroda</td>\n",
       "    </tr>\n",
       "    <tr>\n",
       "      <th>8</th>\n",
       "      <td>Institute for Financial Management and Resear</td>\n",
       "      <td>Programme Manager</td>\n",
       "      <td>IFMR</td>\n",
       "      <td>Data Science</td>\n",
       "      <td>Chennai</td>\n",
       "    </tr>\n",
       "    <tr>\n",
       "      <th>9</th>\n",
       "      <td>Balu Ramesh</td>\n",
       "      <td>HR Administrator</td>\n",
       "      <td>Techvantage Systems Pvt Ltd</td>\n",
       "      <td>Machine Learning, algorithms, Go Getter, Compu...</td>\n",
       "      <td>Trivandrum</td>\n",
       "    </tr>\n",
       "    <tr>\n",
       "      <th>10</th>\n",
       "      <td>Asif Lucknowi</td>\n",
       "      <td>Director</td>\n",
       "      <td>Weupskill- Live Wire India</td>\n",
       "      <td>Technical Training, Software Development, Pres...</td>\n",
       "      <td>Indore</td>\n",
       "    </tr>\n",
       "    <tr>\n",
       "      <th>11</th>\n",
       "      <td>InstaFinancials</td>\n",
       "      <td>Human Resource</td>\n",
       "      <td>CBL Data Science Private Limited</td>\n",
       "      <td>Software Development, It Sales, Account Manage...</td>\n",
       "      <td>Bengaluru / Bangalore</td>\n",
       "    </tr>\n",
       "    <tr>\n",
       "      <th>12</th>\n",
       "      <td>Kalpana Dumpala</td>\n",
       "      <td>Executive Hiring</td>\n",
       "      <td>Innominds Software</td>\n",
       "      <td>Qa, Ui/ux, Java Developer, Java Architect, C++...</td>\n",
       "      <td>Hyderabad / Secunderabad</td>\n",
       "    </tr>\n",
       "    <tr>\n",
       "      <th>13</th>\n",
       "      <td>Mubarak</td>\n",
       "      <td>Company HR</td>\n",
       "      <td>MoneyTap</td>\n",
       "      <td>Business Intelligence, Data Warehousing, Data ...</td>\n",
       "      <td>Bengaluru / Bangalore</td>\n",
       "    </tr>\n",
       "    <tr>\n",
       "      <th>14</th>\n",
       "      <td>Kushal Rastogi</td>\n",
       "      <td>Company HR</td>\n",
       "      <td>QuantMagnum Technologies Pvt. Ltd.</td>\n",
       "      <td>Office Administration, Hr Administration, tele...</td>\n",
       "      <td>Mumbai</td>\n",
       "    </tr>\n",
       "    <tr>\n",
       "      <th>15</th>\n",
       "      <td>Manisha Yadav</td>\n",
       "      <td>HR Executive</td>\n",
       "      <td>Easi Tax</td>\n",
       "      <td>Telecalling, Client Interaction, Marketing, Re...</td>\n",
       "      <td>Navi Mumbai</td>\n",
       "    </tr>\n",
       "    <tr>\n",
       "      <th>16</th>\n",
       "      <td>Kapil Devang</td>\n",
       "      <td>HR Manager</td>\n",
       "      <td>BISP Solutions</td>\n",
       "      <td>Big Data, Hadoop, Data Analytics, Data Science</td>\n",
       "      <td>Bhopal</td>\n",
       "    </tr>\n",
       "    <tr>\n",
       "      <th>17</th>\n",
       "      <td>Rakhi</td>\n",
       "      <td>Recruitment Consultant</td>\n",
       "      <td>Walkingtext Private Limited</td>\n",
       "      <td>Ites, Data Science, Cloud, Iot</td>\n",
       "      <td>Bengaluru / Bangalore</td>\n",
       "    </tr>\n",
       "    <tr>\n",
       "      <th>18</th>\n",
       "      <td>Riya Rajesh</td>\n",
       "      <td>Manager Talent Acquisition</td>\n",
       "      <td>Novelworx Digital Solutions</td>\n",
       "      <td>Data Science</td>\n",
       "      <td>Cochin</td>\n",
       "    </tr>\n",
       "    <tr>\n",
       "      <th>19</th>\n",
       "      <td>Mahesh Babu Channa</td>\n",
       "      <td>HR Team Lead</td>\n",
       "      <td>SocialPrachar.com</td>\n",
       "      <td>Social Media, digital media maketing, seo, smm...</td>\n",
       "      <td>Hyderabad / Secunderabad</td>\n",
       "    </tr>\n",
       "    <tr>\n",
       "      <th>20</th>\n",
       "      <td>Rashmi Bhattacharjee</td>\n",
       "      <td>HR Head</td>\n",
       "      <td>AXESTRACK SOFTWARE SOLUTIONS PRIVATE...</td>\n",
       "      <td>Corporate Sales, Software Development, Softwar...</td>\n",
       "      <td>Delhi</td>\n",
       "    </tr>\n",
       "    <tr>\n",
       "      <th>21</th>\n",
       "      <td>Faizan Kareem</td>\n",
       "      <td>HR MANAGER</td>\n",
       "      <td>FirstTech Consaltants Pvt.Ltd</td>\n",
       "      <td>Data Analytics, Data Science, Machine Learning...</td>\n",
       "      <td>Hyderabad / Secunderabad</td>\n",
       "    </tr>\n",
       "    <tr>\n",
       "      <th>22</th>\n",
       "      <td>Rithika dadwal</td>\n",
       "      <td>HR Recruiter</td>\n",
       "      <td>Affine Analytics</td>\n",
       "      <td>Data Science, Machine Learning, Python, R, Dee...</td>\n",
       "      <td>Pune</td>\n",
       "    </tr>\n",
       "    <tr>\n",
       "      <th>23</th>\n",
       "      <td>Azahar Shaikh</td>\n",
       "      <td>Company Recruiter</td>\n",
       "      <td>NEAL ANALYTICS SERVICES PVT LTD</td>\n",
       "      <td>Data Science, Artificial Intelligence, Machine...</td>\n",
       "      <td>Pune</td>\n",
       "    </tr>\n",
       "    <tr>\n",
       "      <th>24</th>\n",
       "      <td>Pooja Seth</td>\n",
       "      <td>IT Technical Recruiter</td>\n",
       "      <td>RAPS iTech</td>\n",
       "      <td>B.tech, Hr Mba, quality assurance engineering,...</td>\n",
       "      <td>Chandigarh</td>\n",
       "    </tr>\n",
       "    <tr>\n",
       "      <th>25</th>\n",
       "      <td>Sandhya Khandagale</td>\n",
       "      <td>HR Recruiter</td>\n",
       "      <td>Compumatrice Multimedia Pvt Ltd</td>\n",
       "      <td>Big Data, Data Science, Artificial Intelligenc...</td>\n",
       "      <td>Pune</td>\n",
       "    </tr>\n",
       "    <tr>\n",
       "      <th>26</th>\n",
       "      <td>Shaun Rao</td>\n",
       "      <td>Manager Human Resources</td>\n",
       "      <td>Exela Technologies</td>\n",
       "      <td>Java, Net, Angularjs, Hr, Infrastructure, Mana...</td>\n",
       "      <td>Pune</td>\n",
       "    </tr>\n",
       "    <tr>\n",
       "      <th>27</th>\n",
       "      <td>Manas</td>\n",
       "      <td>Lead Talent acquisition</td>\n",
       "      <td>Autumn Leaf Consulting Services Private...</td>\n",
       "      <td>Software Architecture, Vp Engineering, Product...</td>\n",
       "      <td>Bengaluru / Bangalore</td>\n",
       "    </tr>\n",
       "    <tr>\n",
       "      <th>28</th>\n",
       "      <td>Srikanth Bellup</td>\n",
       "      <td>Director</td>\n",
       "      <td>TeachR Robotics Pvt. Ltd</td>\n",
       "      <td>mechatronics, robotics, Home Automation, iot, ...</td>\n",
       "      <td>Hyderabad / Secunderabad</td>\n",
       "    </tr>\n",
       "    <tr>\n",
       "      <th>29</th>\n",
       "      <td>kumar</td>\n",
       "      <td>Proprietor</td>\n",
       "      <td>trainin</td>\n",
       "      <td>Data Science, Hadoop, Rpas, Devops, Python, Aw...</td>\n",
       "      <td>Bengaluru / Bangalore</td>\n",
       "    </tr>\n",
       "    <tr>\n",
       "      <th>30</th>\n",
       "      <td>Sunil Vedula</td>\n",
       "      <td>CEO</td>\n",
       "      <td>Nanoprecise Sci Corp</td>\n",
       "      <td>Signal Processing, Machine Learning, Neural Ne...</td>\n",
       "      <td>Delhi</td>\n",
       "    </tr>\n",
       "    <tr>\n",
       "      <th>31</th>\n",
       "      <td>Rajat Kumar</td>\n",
       "      <td>Founder CEO</td>\n",
       "      <td>R.S Consultancy &amp;amp; Services</td>\n",
       "      <td>Web Technologies, Project Management, Software...</td>\n",
       "      <td>Mysoru / Mysore</td>\n",
       "    </tr>\n",
       "    <tr>\n",
       "      <th>32</th>\n",
       "      <td>Jayanth N</td>\n",
       "      <td>Project Manager</td>\n",
       "      <td>Dollarbird Information Services Pvt, Ltd</td>\n",
       "      <td>Data Analytics, Managed Services, Team Leading...</td>\n",
       "      <td>Noida</td>\n",
       "    </tr>\n",
       "    <tr>\n",
       "      <th>33</th>\n",
       "      <td>Prateek Kumar</td>\n",
       "      <td>Head</td>\n",
       "      <td>Trisect</td>\n",
       "      <td>Java, Python, Angularjs, Software Testing, Mac...</td>\n",
       "      <td>Hyderabad / Secunderabad</td>\n",
       "    </tr>\n",
       "    <tr>\n",
       "      <th>34</th>\n",
       "      <td>SREEDHAR</td>\n",
       "      <td>Recruitment Consultant</td>\n",
       "      <td>JOBSMILL BUSINESS SOLUTIONS PRIVATE LIMITED</td>\n",
       "      <td>Data Science, Machine Learning, Big Data Analy...</td>\n",
       "      <td>New Delhi</td>\n",
       "    </tr>\n",
       "    <tr>\n",
       "      <th>35</th>\n",
       "      <td>Amit Sharma</td>\n",
       "      <td>Consultant</td>\n",
       "      <td>ASCO consulting</td>\n",
       "      <td>Machine Learning, Artificial Intelligence, Dat...</td>\n",
       "      <td>Chennai</td>\n",
       "    </tr>\n",
       "    <tr>\n",
       "      <th>36</th>\n",
       "      <td>Kanan</td>\n",
       "      <td>senior technology instructor</td>\n",
       "      <td>NY INST</td>\n",
       "      <td>C, C++, Artificial Intelligence, Python, Php, ...</td>\n",
       "      <td>Aligarh</td>\n",
       "    </tr>\n",
       "    <tr>\n",
       "      <th>37</th>\n",
       "      <td>Shashikant Chaudhary</td>\n",
       "      <td>HR Recruiter/HR Excutive</td>\n",
       "      <td>3D India Staffing Research &amp;amp; Consulting...</td>\n",
       "      <td>Relationship Management, Retail Sales, Private...</td>\n",
       "      <td>Salt Lake City</td>\n",
       "    </tr>\n",
       "    <tr>\n",
       "      <th>38</th>\n",
       "      <td>Brad</td>\n",
       "      <td>Manager, Technical Recruiting</td>\n",
       "      <td>O.C. Tanner</td>\n",
       "      <td>Data Science, Software Engineering</td>\n",
       "      <td>Pune</td>\n",
       "    </tr>\n",
       "    <tr>\n",
       "      <th>39</th>\n",
       "      <td>Rutuja Pawar</td>\n",
       "      <td>Technical Recruiter</td>\n",
       "      <td>Demand Matrix</td>\n",
       "      <td>Data Science, Big Data Analytics, Digital Mark...</td>\n",
       "      <td>Bengaluru / Bangalore</td>\n",
       "    </tr>\n",
       "  </tbody>\n",
       "</table>\n",
       "</div>"
      ],
      "text/plain": [
       "                                             Name  \\\n",
       "0                                    Aakash Harit   \n",
       "1                            shravan Kumar Gaddam   \n",
       "2                    Talent Acquisition Executive   \n",
       "3                                    Anik Agrawal   \n",
       "4                        MARSIAN Technologies LLP   \n",
       "5                                    subhas patel   \n",
       "6                                  Jitendra Singh   \n",
       "7    Abhishek - Only Analytics Hiring - India and   \n",
       "8   Institute for Financial Management and Resear   \n",
       "9                                     Balu Ramesh   \n",
       "10                                  Asif Lucknowi   \n",
       "11                                InstaFinancials   \n",
       "12                                Kalpana Dumpala   \n",
       "13                                        Mubarak   \n",
       "14                                 Kushal Rastogi   \n",
       "15                                  Manisha Yadav   \n",
       "16                                   Kapil Devang   \n",
       "17                                          Rakhi   \n",
       "18                                    Riya Rajesh   \n",
       "19                             Mahesh Babu Channa   \n",
       "20                           Rashmi Bhattacharjee   \n",
       "21                                  Faizan Kareem   \n",
       "22                                 Rithika dadwal   \n",
       "23                                  Azahar Shaikh   \n",
       "24                                     Pooja Seth   \n",
       "25                             Sandhya Khandagale   \n",
       "26                                      Shaun Rao   \n",
       "27                                          Manas   \n",
       "28                                Srikanth Bellup   \n",
       "29                                          kumar   \n",
       "30                                   Sunil Vedula   \n",
       "31                                    Rajat Kumar   \n",
       "32                                      Jayanth N   \n",
       "33                                  Prateek Kumar   \n",
       "34                                       SREEDHAR   \n",
       "35                                    Amit Sharma   \n",
       "36                                          Kanan   \n",
       "37                           Shashikant Chaudhary   \n",
       "38                                           Brad   \n",
       "39                                   Rutuja Pawar   \n",
       "\n",
       "                      Designation  \\\n",
       "0                      HR Manager   \n",
       "1               Company Recruiter   \n",
       "2        Recruitment Professional   \n",
       "3               Company Recruiter   \n",
       "4                      Company HR   \n",
       "5                     Founder CEO   \n",
       "6     Manager- Talent Acquisition   \n",
       "7     Recruitment Lead Consultant   \n",
       "8               Programme Manager   \n",
       "9                HR Administrator   \n",
       "10                       Director   \n",
       "11                 Human Resource   \n",
       "12               Executive Hiring   \n",
       "13                     Company HR   \n",
       "14                     Company HR   \n",
       "15                   HR Executive   \n",
       "16                     HR Manager   \n",
       "17         Recruitment Consultant   \n",
       "18     Manager Talent Acquisition   \n",
       "19                   HR Team Lead   \n",
       "20                        HR Head   \n",
       "21                     HR MANAGER   \n",
       "22                   HR Recruiter   \n",
       "23              Company Recruiter   \n",
       "24         IT Technical Recruiter   \n",
       "25                   HR Recruiter   \n",
       "26        Manager Human Resources   \n",
       "27        Lead Talent acquisition   \n",
       "28                       Director   \n",
       "29                     Proprietor   \n",
       "30                            CEO   \n",
       "31                    Founder CEO   \n",
       "32                Project Manager   \n",
       "33                           Head   \n",
       "34         Recruitment Consultant   \n",
       "35                     Consultant   \n",
       "36   senior technology instructor   \n",
       "37       HR Recruiter/HR Excutive   \n",
       "38  Manager, Technical Recruiting   \n",
       "39            Technical Recruiter   \n",
       "\n",
       "                                      Company Name  \\\n",
       "0                             Data Science Network   \n",
       "1                    Shore Infotech India Pvt. Ltd   \n",
       "2                                       XenonStack   \n",
       "3            Enerlytics Software Solutions Pvt Ltd   \n",
       "4                         MARSIAN Technologies LLP   \n",
       "5                                  LibraryXProject   \n",
       "6              Compunnel Technology India Pvt. Ltd   \n",
       "7       Apidel Technologies Division of Transpower   \n",
       "8                                             IFMR   \n",
       "9                      Techvantage Systems Pvt Ltd   \n",
       "10                      Weupskill- Live Wire India   \n",
       "11                CBL Data Science Private Limited   \n",
       "12                              Innominds Software   \n",
       "13                                        MoneyTap   \n",
       "14              QuantMagnum Technologies Pvt. Ltd.   \n",
       "15                                        Easi Tax   \n",
       "16                                  BISP Solutions   \n",
       "17                     Walkingtext Private Limited   \n",
       "18                     Novelworx Digital Solutions   \n",
       "19                               SocialPrachar.com   \n",
       "20         AXESTRACK SOFTWARE SOLUTIONS PRIVATE...   \n",
       "21                   FirstTech Consaltants Pvt.Ltd   \n",
       "22                                Affine Analytics   \n",
       "23                 NEAL ANALYTICS SERVICES PVT LTD   \n",
       "24                                      RAPS iTech   \n",
       "25                 Compumatrice Multimedia Pvt Ltd   \n",
       "26                              Exela Technologies   \n",
       "27      Autumn Leaf Consulting Services Private...   \n",
       "28                        TeachR Robotics Pvt. Ltd   \n",
       "29                                         trainin   \n",
       "30                            Nanoprecise Sci Corp   \n",
       "31                  R.S Consultancy &amp; Services   \n",
       "32        Dollarbird Information Services Pvt, Ltd   \n",
       "33                                         Trisect   \n",
       "34     JOBSMILL BUSINESS SOLUTIONS PRIVATE LIMITED   \n",
       "35                                 ASCO consulting   \n",
       "36                                         NY INST   \n",
       "37  3D India Staffing Research &amp; Consulting...   \n",
       "38                                     O.C. Tanner   \n",
       "39                                   Demand Matrix   \n",
       "\n",
       "                                    Skills Hiring for  \\\n",
       "0   Classic ASP Developer, Internet Marketing Prof...   \n",
       "1   .Net, Java, Data Science, Linux Administration...   \n",
       "2   Web Designing, html5, Angular.js, seo, hadoop,...   \n",
       "3   Mean Stack, javascript, angularjs, mongodb, We...   \n",
       "4   Data Science, Artificial Intelligence, Machine...   \n",
       "5   Hadoop, Spark, Digital Strategy, Data Architec...   \n",
       "6   Python, Data Science, .Net, Java, Big Data, Da...   \n",
       "7   Analytics, Business Intelligence, Business Ana...   \n",
       "8                                        Data Science   \n",
       "9   Machine Learning, algorithms, Go Getter, Compu...   \n",
       "10  Technical Training, Software Development, Pres...   \n",
       "11  Software Development, It Sales, Account Manage...   \n",
       "12  Qa, Ui/ux, Java Developer, Java Architect, C++...   \n",
       "13  Business Intelligence, Data Warehousing, Data ...   \n",
       "14  Office Administration, Hr Administration, tele...   \n",
       "15  Telecalling, Client Interaction, Marketing, Re...   \n",
       "16     Big Data, Hadoop, Data Analytics, Data Science   \n",
       "17                     Ites, Data Science, Cloud, Iot   \n",
       "18                                       Data Science   \n",
       "19  Social Media, digital media maketing, seo, smm...   \n",
       "20  Corporate Sales, Software Development, Softwar...   \n",
       "21  Data Analytics, Data Science, Machine Learning...   \n",
       "22  Data Science, Machine Learning, Python, R, Dee...   \n",
       "23  Data Science, Artificial Intelligence, Machine...   \n",
       "24  B.tech, Hr Mba, quality assurance engineering,...   \n",
       "25  Big Data, Data Science, Artificial Intelligenc...   \n",
       "26  Java, Net, Angularjs, Hr, Infrastructure, Mana...   \n",
       "27  Software Architecture, Vp Engineering, Product...   \n",
       "28  mechatronics, robotics, Home Automation, iot, ...   \n",
       "29  Data Science, Hadoop, Rpas, Devops, Python, Aw...   \n",
       "30  Signal Processing, Machine Learning, Neural Ne...   \n",
       "31  Web Technologies, Project Management, Software...   \n",
       "32  Data Analytics, Managed Services, Team Leading...   \n",
       "33  Java, Python, Angularjs, Software Testing, Mac...   \n",
       "34  Data Science, Machine Learning, Big Data Analy...   \n",
       "35  Machine Learning, Artificial Intelligence, Dat...   \n",
       "36  C, C++, Artificial Intelligence, Python, Php, ...   \n",
       "37  Relationship Management, Retail Sales, Private...   \n",
       "38                 Data Science, Software Engineering   \n",
       "39  Data Science, Big Data Analytics, Digital Mark...   \n",
       "\n",
       "                    Location  \n",
       "0                      Delhi  \n",
       "1   Hyderabad / Secunderabad  \n",
       "2                 Chandigarh  \n",
       "3                  Ahmedabad  \n",
       "4                       Pune  \n",
       "5              UK - (london)  \n",
       "6                      Delhi  \n",
       "7          Vadodara / Baroda  \n",
       "8                    Chennai  \n",
       "9                 Trivandrum  \n",
       "10                    Indore  \n",
       "11     Bengaluru / Bangalore  \n",
       "12  Hyderabad / Secunderabad  \n",
       "13     Bengaluru / Bangalore  \n",
       "14                    Mumbai  \n",
       "15               Navi Mumbai  \n",
       "16                    Bhopal  \n",
       "17     Bengaluru / Bangalore  \n",
       "18                    Cochin  \n",
       "19  Hyderabad / Secunderabad  \n",
       "20                     Delhi  \n",
       "21  Hyderabad / Secunderabad  \n",
       "22                      Pune  \n",
       "23                      Pune  \n",
       "24                Chandigarh  \n",
       "25                      Pune  \n",
       "26                      Pune  \n",
       "27     Bengaluru / Bangalore  \n",
       "28  Hyderabad / Secunderabad  \n",
       "29     Bengaluru / Bangalore  \n",
       "30                     Delhi  \n",
       "31           Mysoru / Mysore  \n",
       "32                     Noida  \n",
       "33  Hyderabad / Secunderabad  \n",
       "34                 New Delhi  \n",
       "35                   Chennai  \n",
       "36                   Aligarh  \n",
       "37            Salt Lake City  \n",
       "38                      Pune  \n",
       "39     Bengaluru / Bangalore  "
      ]
     },
     "execution_count": 81,
     "metadata": {},
     "output_type": "execute_result"
    }
   ],
   "source": [
    "Naukri_Recruiters_DS=pd.DataFrame({})\n",
    "\n",
    "Naukri_Recruiters_DS['Name']= naam[0:40]\n",
    "Naukri_Recruiters_DS['Designation']=designa[0:40]\n",
    "Naukri_Recruiters_DS['Company Name']=compan[0:40]\n",
    "Naukri_Recruiters_DS['Skills Hiring for']=skillshire[0:40]\n",
    "Naukri_Recruiters_DS['Location']=locat[0:40]\n",
    "Naukri_Recruiters_DS"
   ]
  },
  {
   "cell_type": "markdown",
   "metadata": {},
   "source": [
    "### 8. Best Selling Books"
   ]
  },
  {
   "cell_type": "code",
   "execution_count": 84,
   "metadata": {},
   "outputs": [],
   "source": [
    "url='https://www.theguardian.com/news/datablog/2012/aug/09/best-selling-books-all-time-fifty-shades-grey-compare'\n",
    "driver.get(url)"
   ]
  },
  {
   "cell_type": "code",
   "execution_count": 85,
   "metadata": {},
   "outputs": [],
   "source": [
    "bname=[]\n",
    "aname=[]\n",
    "vsold=[]\n",
    "publish=[]\n",
    "genre=[]"
   ]
  },
  {
   "cell_type": "code",
   "execution_count": 86,
   "metadata": {},
   "outputs": [
    {
     "data": {
      "text/plain": [
       "['Da Vinci Code,The',\n",
       " 'Harry Potter and the Deathly Hallows',\n",
       " \"Harry Potter and the Philosopher's Stone\",\n",
       " 'Harry Potter and the Order of the Phoenix']"
      ]
     },
     "execution_count": 86,
     "metadata": {},
     "output_type": "execute_result"
    }
   ],
   "source": [
    "bnames_tags=driver.find_elements_by_xpath('//table[@class=\"in-article sortable\"]/tbody/tr/td[2]')\n",
    "\n",
    "for i in bnames_tags:\n",
    "    bnms=i.text\n",
    "    bname.append(bnms)\n",
    "bname[0:4]"
   ]
  },
  {
   "cell_type": "code",
   "execution_count": 87,
   "metadata": {},
   "outputs": [
    {
     "data": {
      "text/plain": [
       "['Brown, Dan', 'Rowling, J.K.', 'Rowling, J.K.', 'Rowling, J.K.']"
      ]
     },
     "execution_count": 87,
     "metadata": {},
     "output_type": "execute_result"
    }
   ],
   "source": [
    "anames_tags=driver.find_elements_by_xpath('//table[@class=\"in-article sortable\"]/tbody/tr/td[3]')\n",
    "\n",
    "for i in anames_tags:\n",
    "    anms=i.text\n",
    "    aname.append(anms)\n",
    "aname[0:4]"
   ]
  },
  {
   "cell_type": "code",
   "execution_count": 88,
   "metadata": {},
   "outputs": [
    {
     "data": {
      "text/plain": [
       "['5,094,805', '4,475,152', '4,200,654', '4,179,479']"
      ]
     },
     "execution_count": 88,
     "metadata": {},
     "output_type": "execute_result"
    }
   ],
   "source": [
    "vsolds_tags=driver.find_elements_by_xpath('//table[@class=\"in-article sortable\"]/tbody/tr/td[4]')\n",
    "\n",
    "for i in vsolds_tags:\n",
    "    vsds=i.text\n",
    "    vsold.append(vsds)\n",
    "vsold[0:4]"
   ]
  },
  {
   "cell_type": "code",
   "execution_count": 89,
   "metadata": {},
   "outputs": [
    {
     "data": {
      "text/plain": [
       "['Transworld', 'Bloomsbury', 'Bloomsbury', 'Bloomsbury']"
      ]
     },
     "execution_count": 89,
     "metadata": {},
     "output_type": "execute_result"
    }
   ],
   "source": [
    "publish_tags=driver.find_elements_by_xpath('//table[@class=\"in-article sortable\"]/tbody/tr/td[5]')\n",
    "\n",
    "for i in publish_tags:\n",
    "    pubs=i.text\n",
    "    publish.append(pubs)\n",
    "publish[0:4]"
   ]
  },
  {
   "cell_type": "code",
   "execution_count": 90,
   "metadata": {},
   "outputs": [
    {
     "data": {
      "text/plain": [
       "['Crime, Thriller & Adventure',\n",
       " \"Children's Fiction\",\n",
       " \"Children's Fiction\",\n",
       " \"Children's Fiction\"]"
      ]
     },
     "execution_count": 90,
     "metadata": {},
     "output_type": "execute_result"
    }
   ],
   "source": [
    "genre_tags=driver.find_elements_by_xpath('//table[@class=\"in-article sortable\"]/tbody/tr/td[6]')\n",
    "\n",
    "for i in genre_tags:\n",
    "    genres=i.text\n",
    "    genre.append(genres)\n",
    "genre[0:4]"
   ]
  },
  {
   "cell_type": "code",
   "execution_count": 91,
   "metadata": {
    "scrolled": false
   },
   "outputs": [
    {
     "data": {
      "text/html": [
       "<div>\n",
       "<style scoped>\n",
       "    .dataframe tbody tr th:only-of-type {\n",
       "        vertical-align: middle;\n",
       "    }\n",
       "\n",
       "    .dataframe tbody tr th {\n",
       "        vertical-align: top;\n",
       "    }\n",
       "\n",
       "    .dataframe thead th {\n",
       "        text-align: right;\n",
       "    }\n",
       "</style>\n",
       "<table border=\"1\" class=\"dataframe\">\n",
       "  <thead>\n",
       "    <tr style=\"text-align: right;\">\n",
       "      <th></th>\n",
       "      <th>Book Name</th>\n",
       "      <th>Author Name</th>\n",
       "      <th>Volume Sold</th>\n",
       "      <th>Publisher</th>\n",
       "      <th>Genre</th>\n",
       "    </tr>\n",
       "  </thead>\n",
       "  <tbody>\n",
       "    <tr>\n",
       "      <th>0</th>\n",
       "      <td>Da Vinci Code,The</td>\n",
       "      <td>Brown, Dan</td>\n",
       "      <td>5,094,805</td>\n",
       "      <td>Transworld</td>\n",
       "      <td>Crime, Thriller &amp; Adventure</td>\n",
       "    </tr>\n",
       "    <tr>\n",
       "      <th>1</th>\n",
       "      <td>Harry Potter and the Deathly Hallows</td>\n",
       "      <td>Rowling, J.K.</td>\n",
       "      <td>4,475,152</td>\n",
       "      <td>Bloomsbury</td>\n",
       "      <td>Children's Fiction</td>\n",
       "    </tr>\n",
       "    <tr>\n",
       "      <th>2</th>\n",
       "      <td>Harry Potter and the Philosopher's Stone</td>\n",
       "      <td>Rowling, J.K.</td>\n",
       "      <td>4,200,654</td>\n",
       "      <td>Bloomsbury</td>\n",
       "      <td>Children's Fiction</td>\n",
       "    </tr>\n",
       "    <tr>\n",
       "      <th>3</th>\n",
       "      <td>Harry Potter and the Order of the Phoenix</td>\n",
       "      <td>Rowling, J.K.</td>\n",
       "      <td>4,179,479</td>\n",
       "      <td>Bloomsbury</td>\n",
       "      <td>Children's Fiction</td>\n",
       "    </tr>\n",
       "    <tr>\n",
       "      <th>4</th>\n",
       "      <td>Fifty Shades of Grey</td>\n",
       "      <td>James, E. L.</td>\n",
       "      <td>3,758,936</td>\n",
       "      <td>Random House</td>\n",
       "      <td>Romance &amp; Sagas</td>\n",
       "    </tr>\n",
       "    <tr>\n",
       "      <th>...</th>\n",
       "      <td>...</td>\n",
       "      <td>...</td>\n",
       "      <td>...</td>\n",
       "      <td>...</td>\n",
       "      <td>...</td>\n",
       "    </tr>\n",
       "    <tr>\n",
       "      <th>95</th>\n",
       "      <td>Ghost,The</td>\n",
       "      <td>Harris, Robert</td>\n",
       "      <td>807,311</td>\n",
       "      <td>Random House</td>\n",
       "      <td>General &amp; Literary Fiction</td>\n",
       "    </tr>\n",
       "    <tr>\n",
       "      <th>96</th>\n",
       "      <td>Happy Days with the Naked Chef</td>\n",
       "      <td>Oliver, Jamie</td>\n",
       "      <td>794,201</td>\n",
       "      <td>Penguin</td>\n",
       "      <td>Food &amp; Drink: General</td>\n",
       "    </tr>\n",
       "    <tr>\n",
       "      <th>97</th>\n",
       "      <td>Hunger Games,The:Hunger Games Trilogy</td>\n",
       "      <td>Collins, Suzanne</td>\n",
       "      <td>792,187</td>\n",
       "      <td>Scholastic Ltd.</td>\n",
       "      <td>Young Adult Fiction</td>\n",
       "    </tr>\n",
       "    <tr>\n",
       "      <th>98</th>\n",
       "      <td>Lost Boy,The:A Foster Child's Search for the L...</td>\n",
       "      <td>Pelzer, Dave</td>\n",
       "      <td>791,507</td>\n",
       "      <td>Orion</td>\n",
       "      <td>Biography: General</td>\n",
       "    </tr>\n",
       "    <tr>\n",
       "      <th>99</th>\n",
       "      <td>Jamie's Ministry of Food:Anyone Can Learn to C...</td>\n",
       "      <td>Oliver, Jamie</td>\n",
       "      <td>791,095</td>\n",
       "      <td>Penguin</td>\n",
       "      <td>Food &amp; Drink: General</td>\n",
       "    </tr>\n",
       "  </tbody>\n",
       "</table>\n",
       "<p>100 rows × 5 columns</p>\n",
       "</div>"
      ],
      "text/plain": [
       "                                            Book Name       Author Name  \\\n",
       "0                                   Da Vinci Code,The        Brown, Dan   \n",
       "1                Harry Potter and the Deathly Hallows     Rowling, J.K.   \n",
       "2            Harry Potter and the Philosopher's Stone     Rowling, J.K.   \n",
       "3           Harry Potter and the Order of the Phoenix     Rowling, J.K.   \n",
       "4                                Fifty Shades of Grey      James, E. L.   \n",
       "..                                                ...               ...   \n",
       "95                                          Ghost,The    Harris, Robert   \n",
       "96                     Happy Days with the Naked Chef     Oliver, Jamie   \n",
       "97              Hunger Games,The:Hunger Games Trilogy  Collins, Suzanne   \n",
       "98  Lost Boy,The:A Foster Child's Search for the L...      Pelzer, Dave   \n",
       "99  Jamie's Ministry of Food:Anyone Can Learn to C...     Oliver, Jamie   \n",
       "\n",
       "   Volume Sold        Publisher                        Genre  \n",
       "0    5,094,805       Transworld  Crime, Thriller & Adventure  \n",
       "1    4,475,152       Bloomsbury           Children's Fiction  \n",
       "2    4,200,654       Bloomsbury           Children's Fiction  \n",
       "3    4,179,479       Bloomsbury           Children's Fiction  \n",
       "4    3,758,936     Random House              Romance & Sagas  \n",
       "..         ...              ...                          ...  \n",
       "95     807,311     Random House   General & Literary Fiction  \n",
       "96     794,201          Penguin        Food & Drink: General  \n",
       "97     792,187  Scholastic Ltd.          Young Adult Fiction  \n",
       "98     791,507            Orion           Biography: General  \n",
       "99     791,095          Penguin        Food & Drink: General  \n",
       "\n",
       "[100 rows x 5 columns]"
      ]
     },
     "execution_count": 91,
     "metadata": {},
     "output_type": "execute_result"
    }
   ],
   "source": [
    "Best_selling=pd.DataFrame({})\n",
    "Best_selling['Book Name']=bname\n",
    "Best_selling['Author Name']=aname\n",
    "Best_selling['Volume Sold']=vsold\n",
    "Best_selling['Publisher']=publish\n",
    "Best_selling['Genre']=genre\n",
    "Best_selling"
   ]
  },
  {
   "cell_type": "markdown",
   "metadata": {},
   "source": [
    "### 9. IMBD Top 100"
   ]
  },
  {
   "cell_type": "code",
   "execution_count": 3,
   "metadata": {},
   "outputs": [],
   "source": [
    "url='https://www.imdb.com/list/ls095964455/'\n",
    "driver.get(url)"
   ]
  },
  {
   "cell_type": "code",
   "execution_count": 4,
   "metadata": {},
   "outputs": [],
   "source": [
    "name=[]\n",
    "year=[]\n",
    "genre=[]\n",
    "runtime=[]\n",
    "ratings=[]\n",
    "votes=[]"
   ]
  },
  {
   "cell_type": "code",
   "execution_count": 5,
   "metadata": {},
   "outputs": [
    {
     "data": {
      "text/plain": [
       "['Game of Thrones', 'Stranger Things', 'The Walking Dead', '13 Reasons Why']"
      ]
     },
     "execution_count": 5,
     "metadata": {},
     "output_type": "execute_result"
    }
   ],
   "source": [
    "name_tags=driver.find_elements_by_xpath('//div[@class=\"lister-item-content\"]/h3/a')\n",
    "\n",
    "for i in name_tags:\n",
    "    names=i.text\n",
    "    name.append(names)\n",
    "name[0:4]"
   ]
  },
  {
   "cell_type": "code",
   "execution_count": 6,
   "metadata": {},
   "outputs": [
    {
     "data": {
      "text/plain": [
       "['(2011–2019)', '(2016– )', '(2010– )', '(2017–2020)']"
      ]
     },
     "execution_count": 6,
     "metadata": {},
     "output_type": "execute_result"
    }
   ],
   "source": [
    "year_tags=driver.find_elements_by_xpath('//div[@class=\"lister-item-content\"]/h3/span[2]')\n",
    "\n",
    "for i in year_tags:\n",
    "    years=i.text\n",
    "    year.append(years)\n",
    "year[0:4]"
   ]
  },
  {
   "cell_type": "code",
   "execution_count": 7,
   "metadata": {},
   "outputs": [
    {
     "data": {
      "text/plain": [
       "['Action, Adventure, Drama',\n",
       " 'Drama, Fantasy, Horror',\n",
       " 'Drama, Horror, Thriller',\n",
       " 'Drama, Mystery, Thriller']"
      ]
     },
     "execution_count": 7,
     "metadata": {},
     "output_type": "execute_result"
    }
   ],
   "source": [
    "genre_tags=driver.find_elements_by_xpath('//div[@class=\"lister-item-content\"]/p[1]/span[5]')\n",
    "\n",
    "for i in genre_tags:\n",
    "    genres=i.text\n",
    "    genre.append(genres)\n",
    "genre[0:4]"
   ]
  },
  {
   "cell_type": "code",
   "execution_count": 8,
   "metadata": {},
   "outputs": [
    {
     "data": {
      "text/plain": [
       "['57 min', '51 min', '44 min', '60 min']"
      ]
     },
     "execution_count": 8,
     "metadata": {},
     "output_type": "execute_result"
    }
   ],
   "source": [
    "runtime_tags=driver.find_elements_by_xpath('//div[@class=\"lister-item-content\"]/p[1]/span[3]')\n",
    "\n",
    "for i in runtime_tags:\n",
    "    runtimes=i.text\n",
    "    runtime.append(runtimes)\n",
    "runtime[0:4]"
   ]
  },
  {
   "cell_type": "code",
   "execution_count": 9,
   "metadata": {},
   "outputs": [
    {
     "data": {
      "text/plain": [
       "['9.3', '8.7', '8.2', '7.6']"
      ]
     },
     "execution_count": 9,
     "metadata": {},
     "output_type": "execute_result"
    }
   ],
   "source": [
    "rating_tags=driver.find_elements_by_xpath('//div[@class=\"lister-item-content\"]/div[1]/div[1]/span[2]')\n",
    "\n",
    "for i in rating_tags:\n",
    "    rates=i.text\n",
    "    ratings.append(rates)\n",
    "ratings[0:4]"
   ]
  },
  {
   "cell_type": "code",
   "execution_count": 10,
   "metadata": {},
   "outputs": [
    {
     "data": {
      "text/plain": [
       "['1,739,698', '797,959', '842,716', '252,474']"
      ]
     },
     "execution_count": 10,
     "metadata": {},
     "output_type": "execute_result"
    }
   ],
   "source": [
    "votes_tags=driver.find_elements_by_xpath('//div[@class=\"lister-item-content\"]/p[4]/span[2]')\n",
    "\n",
    "for i in votes_tags:\n",
    "    vote=i.text\n",
    "    votes.append(vote)\n",
    "votes[0:4]"
   ]
  },
  {
   "cell_type": "code",
   "execution_count": 11,
   "metadata": {
    "scrolled": false
   },
   "outputs": [
    {
     "data": {
      "text/html": [
       "<div>\n",
       "<style scoped>\n",
       "    .dataframe tbody tr th:only-of-type {\n",
       "        vertical-align: middle;\n",
       "    }\n",
       "\n",
       "    .dataframe tbody tr th {\n",
       "        vertical-align: top;\n",
       "    }\n",
       "\n",
       "    .dataframe thead th {\n",
       "        text-align: right;\n",
       "    }\n",
       "</style>\n",
       "<table border=\"1\" class=\"dataframe\">\n",
       "  <thead>\n",
       "    <tr style=\"text-align: right;\">\n",
       "      <th></th>\n",
       "      <th>Name</th>\n",
       "      <th>Year</th>\n",
       "      <th>Genre</th>\n",
       "      <th>Run Time</th>\n",
       "      <th>Ratings</th>\n",
       "      <th>Votes</th>\n",
       "    </tr>\n",
       "  </thead>\n",
       "  <tbody>\n",
       "    <tr>\n",
       "      <th>0</th>\n",
       "      <td>Game of Thrones</td>\n",
       "      <td>(2011–2019)</td>\n",
       "      <td>Action, Adventure, Drama</td>\n",
       "      <td>57 min</td>\n",
       "      <td>9.3</td>\n",
       "      <td>1,739,698</td>\n",
       "    </tr>\n",
       "    <tr>\n",
       "      <th>1</th>\n",
       "      <td>Stranger Things</td>\n",
       "      <td>(2016– )</td>\n",
       "      <td>Drama, Fantasy, Horror</td>\n",
       "      <td>51 min</td>\n",
       "      <td>8.7</td>\n",
       "      <td>797,959</td>\n",
       "    </tr>\n",
       "    <tr>\n",
       "      <th>2</th>\n",
       "      <td>The Walking Dead</td>\n",
       "      <td>(2010– )</td>\n",
       "      <td>Drama, Horror, Thriller</td>\n",
       "      <td>44 min</td>\n",
       "      <td>8.2</td>\n",
       "      <td>842,716</td>\n",
       "    </tr>\n",
       "    <tr>\n",
       "      <th>3</th>\n",
       "      <td>13 Reasons Why</td>\n",
       "      <td>(2017–2020)</td>\n",
       "      <td>Drama, Mystery, Thriller</td>\n",
       "      <td>60 min</td>\n",
       "      <td>7.6</td>\n",
       "      <td>252,474</td>\n",
       "    </tr>\n",
       "    <tr>\n",
       "      <th>4</th>\n",
       "      <td>The 100</td>\n",
       "      <td>(2014–2020)</td>\n",
       "      <td>Drama, Mystery, Sci-Fi</td>\n",
       "      <td>43 min</td>\n",
       "      <td>7.6</td>\n",
       "      <td>211,819</td>\n",
       "    </tr>\n",
       "    <tr>\n",
       "      <th>...</th>\n",
       "      <td>...</td>\n",
       "      <td>...</td>\n",
       "      <td>...</td>\n",
       "      <td>...</td>\n",
       "      <td>...</td>\n",
       "      <td>...</td>\n",
       "    </tr>\n",
       "    <tr>\n",
       "      <th>95</th>\n",
       "      <td>Reign</td>\n",
       "      <td>(2013–2017)</td>\n",
       "      <td>Drama, Fantasy</td>\n",
       "      <td>42 min</td>\n",
       "      <td>7.5</td>\n",
       "      <td>42,931</td>\n",
       "    </tr>\n",
       "    <tr>\n",
       "      <th>96</th>\n",
       "      <td>A Series of Unfortunate Events</td>\n",
       "      <td>(2017–2019)</td>\n",
       "      <td>Adventure, Comedy, Drama</td>\n",
       "      <td>50 min</td>\n",
       "      <td>7.8</td>\n",
       "      <td>53,116</td>\n",
       "    </tr>\n",
       "    <tr>\n",
       "      <th>97</th>\n",
       "      <td>Criminal Minds</td>\n",
       "      <td>(2005–2020)</td>\n",
       "      <td>Crime, Drama, Mystery</td>\n",
       "      <td>42 min</td>\n",
       "      <td>8.1</td>\n",
       "      <td>157,684</td>\n",
       "    </tr>\n",
       "    <tr>\n",
       "      <th>98</th>\n",
       "      <td>Scream: The TV Series</td>\n",
       "      <td>(2015– )</td>\n",
       "      <td>Crime, Drama, Horror</td>\n",
       "      <td>45 min</td>\n",
       "      <td>7.2</td>\n",
       "      <td>33,676</td>\n",
       "    </tr>\n",
       "    <tr>\n",
       "      <th>99</th>\n",
       "      <td>The Haunting of Hill House</td>\n",
       "      <td>(2018)</td>\n",
       "      <td>Drama, Horror, Mystery</td>\n",
       "      <td>572 min</td>\n",
       "      <td>8.6</td>\n",
       "      <td>176,758</td>\n",
       "    </tr>\n",
       "  </tbody>\n",
       "</table>\n",
       "<p>100 rows × 6 columns</p>\n",
       "</div>"
      ],
      "text/plain": [
       "                              Name         Year                     Genre  \\\n",
       "0                  Game of Thrones  (2011–2019)  Action, Adventure, Drama   \n",
       "1                  Stranger Things     (2016– )    Drama, Fantasy, Horror   \n",
       "2                 The Walking Dead     (2010– )   Drama, Horror, Thriller   \n",
       "3                   13 Reasons Why  (2017–2020)  Drama, Mystery, Thriller   \n",
       "4                          The 100  (2014–2020)    Drama, Mystery, Sci-Fi   \n",
       "..                             ...          ...                       ...   \n",
       "95                           Reign  (2013–2017)            Drama, Fantasy   \n",
       "96  A Series of Unfortunate Events  (2017–2019)  Adventure, Comedy, Drama   \n",
       "97                  Criminal Minds  (2005–2020)     Crime, Drama, Mystery   \n",
       "98           Scream: The TV Series     (2015– )      Crime, Drama, Horror   \n",
       "99      The Haunting of Hill House       (2018)    Drama, Horror, Mystery   \n",
       "\n",
       "   Run Time Ratings      Votes  \n",
       "0    57 min     9.3  1,739,698  \n",
       "1    51 min     8.7    797,959  \n",
       "2    44 min     8.2    842,716  \n",
       "3    60 min     7.6    252,474  \n",
       "4    43 min     7.6    211,819  \n",
       "..      ...     ...        ...  \n",
       "95   42 min     7.5     42,931  \n",
       "96   50 min     7.8     53,116  \n",
       "97   42 min     8.1    157,684  \n",
       "98   45 min     7.2     33,676  \n",
       "99  572 min     8.6    176,758  \n",
       "\n",
       "[100 rows x 6 columns]"
      ]
     },
     "execution_count": 11,
     "metadata": {},
     "output_type": "execute_result"
    }
   ],
   "source": [
    "IMDb=pd.DataFrame({})\n",
    "IMDb['Name']=name\n",
    "IMDb['Year']=year\n",
    "IMDb['Genre']=genre\n",
    "IMDb['Run Time']=runtime\n",
    "IMDb['Ratings']=ratings\n",
    "IMDb['Votes']=votes\n",
    "IMDb"
   ]
  },
  {
   "cell_type": "markdown",
   "metadata": {},
   "source": [
    "### 10. UCI Repository_ All Datasets"
   ]
  },
  {
   "cell_type": "code",
   "execution_count": 13,
   "metadata": {},
   "outputs": [],
   "source": [
    "url='https://archive.ics.uci.edu/ml/index.php'\n",
    "driver.get(url)"
   ]
  },
  {
   "cell_type": "code",
   "execution_count": 14,
   "metadata": {},
   "outputs": [],
   "source": [
    "driver.find_element_by_xpath('//span[@class=\"whitetext\"][2]/a').click()"
   ]
  },
  {
   "cell_type": "code",
   "execution_count": 15,
   "metadata": {},
   "outputs": [],
   "source": [
    "dname=[]\n",
    "dtype=[]\n",
    "task=[]\n",
    "atype=[]\n",
    "inst=[]\n",
    "atri=[]\n",
    "year=[]"
   ]
  },
  {
   "cell_type": "code",
   "execution_count": 16,
   "metadata": {},
   "outputs": [
    {
     "data": {
      "text/plain": [
       "['Abalone', 'Adult', 'Annealing', 'Anonymous Microsoft Web Data']"
      ]
     },
     "execution_count": 16,
     "metadata": {},
     "output_type": "execute_result"
    }
   ],
   "source": [
    "dname_tags=driver.find_elements_by_xpath('//table[@border=\"1\"]/tbody//td//tr/td[2]//a')\n",
    "\n",
    "for i in dname_tags:\n",
    "    dnames=i.text\n",
    "    dname.append(dnames)\n",
    "dname[0:4]"
   ]
  },
  {
   "cell_type": "code",
   "execution_count": 17,
   "metadata": {},
   "outputs": [
    {
     "data": {
      "text/plain": [
       "['Data Types', 'Multivariate ', 'Multivariate ', 'Multivariate ']"
      ]
     },
     "execution_count": 17,
     "metadata": {},
     "output_type": "execute_result"
    }
   ],
   "source": [
    "dtyp=[]\n",
    "dtyp_tags=driver.find_elements_by_xpath('//table[@border=\"1\"]/tbody/tr/td[2]/p')\n",
    "\n",
    "for i in dtyp_tags:\n",
    "    tg=i.text\n",
    "    dtyp.append(tg)\n",
    "dtyp[0:4]"
   ]
  },
  {
   "cell_type": "code",
   "execution_count": 20,
   "metadata": {},
   "outputs": [],
   "source": [
    "dtype=dtyp[1:]"
   ]
  },
  {
   "cell_type": "code",
   "execution_count": 22,
   "metadata": {},
   "outputs": [],
   "source": [
    "tak=[]\n",
    "tak_tags=driver.find_elements_by_xpath('//table[@border=\"1\"]/tbody/tr/td[3]/p')\n",
    "\n",
    "for i in tak_tags:\n",
    "    ta=i.text\n",
    "    tak.append(ta)\n",
    "task=tak[1:]"
   ]
  },
  {
   "cell_type": "code",
   "execution_count": 23,
   "metadata": {},
   "outputs": [],
   "source": [
    "typ=[]\n",
    "typ_tags=driver.find_elements_by_xpath('//table[@border=\"1\"]/tbody/tr/td[4]/p')\n",
    "\n",
    "for i in typ_tags:\n",
    "    tp=i.text\n",
    "    typ.append(tp)\n",
    "atype=typ[1:]"
   ]
  },
  {
   "cell_type": "code",
   "execution_count": 25,
   "metadata": {},
   "outputs": [],
   "source": [
    "inp=[]\n",
    "inp_tags=driver.find_elements_by_xpath('//table[@border=\"1\"]/tbody/tr/td[5]/p')\n",
    "\n",
    "for i in inp_tags:\n",
    "    tp=i.text\n",
    "    inp.append(tp)\n",
    "insta=inp[1:]"
   ]
  },
  {
   "cell_type": "code",
   "execution_count": 26,
   "metadata": {},
   "outputs": [],
   "source": [
    "att=[]\n",
    "att_tags=driver.find_elements_by_xpath('//table[@border=\"1\"]/tbody/tr/td[6]/p')\n",
    "\n",
    "for i in att_tags:\n",
    "    at=i.text\n",
    "    att.append(at)\n",
    "atri=att[1:]"
   ]
  },
  {
   "cell_type": "code",
   "execution_count": 27,
   "metadata": {},
   "outputs": [],
   "source": [
    "yrr=[]\n",
    "yrr_tags=driver.find_elements_by_xpath('//table[@border=\"1\"]/tbody/tr/td[7]/p')\n",
    "\n",
    "for i in yrr_tags:\n",
    "    yr=i.text\n",
    "    yrr.append(yr)\n",
    "year=yrr[1:]"
   ]
  },
  {
   "cell_type": "code",
   "execution_count": 28,
   "metadata": {},
   "outputs": [
    {
     "data": {
      "text/html": [
       "<div>\n",
       "<style scoped>\n",
       "    .dataframe tbody tr th:only-of-type {\n",
       "        vertical-align: middle;\n",
       "    }\n",
       "\n",
       "    .dataframe tbody tr th {\n",
       "        vertical-align: top;\n",
       "    }\n",
       "\n",
       "    .dataframe thead th {\n",
       "        text-align: right;\n",
       "    }\n",
       "</style>\n",
       "<table border=\"1\" class=\"dataframe\">\n",
       "  <thead>\n",
       "    <tr style=\"text-align: right;\">\n",
       "      <th></th>\n",
       "      <th>Name</th>\n",
       "      <th>Data Type</th>\n",
       "      <th>Default Task</th>\n",
       "      <th>Attribute Type</th>\n",
       "      <th>Instances</th>\n",
       "      <th>Attributes</th>\n",
       "      <th>Year</th>\n",
       "    </tr>\n",
       "  </thead>\n",
       "  <tbody>\n",
       "    <tr>\n",
       "      <th>0</th>\n",
       "      <td>Abalone</td>\n",
       "      <td>Multivariate</td>\n",
       "      <td>Classification</td>\n",
       "      <td>Categorical, Integer, Real</td>\n",
       "      <td>4177</td>\n",
       "      <td>8</td>\n",
       "      <td>1995</td>\n",
       "    </tr>\n",
       "    <tr>\n",
       "      <th>1</th>\n",
       "      <td>Adult</td>\n",
       "      <td>Multivariate</td>\n",
       "      <td>Classification</td>\n",
       "      <td>Categorical, Integer</td>\n",
       "      <td>48842</td>\n",
       "      <td>14</td>\n",
       "      <td>1996</td>\n",
       "    </tr>\n",
       "    <tr>\n",
       "      <th>2</th>\n",
       "      <td>Annealing</td>\n",
       "      <td>Multivariate</td>\n",
       "      <td>Classification</td>\n",
       "      <td>Categorical, Integer, Real</td>\n",
       "      <td>798</td>\n",
       "      <td>38</td>\n",
       "      <td></td>\n",
       "    </tr>\n",
       "    <tr>\n",
       "      <th>3</th>\n",
       "      <td>Anonymous Microsoft Web Data</td>\n",
       "      <td></td>\n",
       "      <td>Recommender-Systems</td>\n",
       "      <td>Categorical</td>\n",
       "      <td>37711</td>\n",
       "      <td>294</td>\n",
       "      <td>1998</td>\n",
       "    </tr>\n",
       "    <tr>\n",
       "      <th>4</th>\n",
       "      <td>Arrhythmia</td>\n",
       "      <td>Multivariate</td>\n",
       "      <td>Classification</td>\n",
       "      <td>Categorical, Integer, Real</td>\n",
       "      <td>452</td>\n",
       "      <td>279</td>\n",
       "      <td>1998</td>\n",
       "    </tr>\n",
       "    <tr>\n",
       "      <th>...</th>\n",
       "      <td>...</td>\n",
       "      <td>...</td>\n",
       "      <td>...</td>\n",
       "      <td>...</td>\n",
       "      <td>...</td>\n",
       "      <td>...</td>\n",
       "      <td>...</td>\n",
       "    </tr>\n",
       "    <tr>\n",
       "      <th>554</th>\n",
       "      <td>IIWA14-R820-Gazebo-Dataset-10Trajectories</td>\n",
       "      <td></td>\n",
       "      <td>Regression</td>\n",
       "      <td>Integer</td>\n",
       "      <td></td>\n",
       "      <td></td>\n",
       "      <td>2020</td>\n",
       "    </tr>\n",
       "    <tr>\n",
       "      <th>555</th>\n",
       "      <td>Guitar Chords finger positions</td>\n",
       "      <td>Text</td>\n",
       "      <td>Classification</td>\n",
       "      <td></td>\n",
       "      <td>2633</td>\n",
       "      <td>5</td>\n",
       "      <td>2020</td>\n",
       "    </tr>\n",
       "    <tr>\n",
       "      <th>556</th>\n",
       "      <td>Russian Corpus of Biographical Texts</td>\n",
       "      <td>Text</td>\n",
       "      <td>Classification</td>\n",
       "      <td></td>\n",
       "      <td>200</td>\n",
       "      <td>2</td>\n",
       "      <td>2020</td>\n",
       "    </tr>\n",
       "    <tr>\n",
       "      <th>557</th>\n",
       "      <td>Codon usage</td>\n",
       "      <td>Multivariate</td>\n",
       "      <td>Classification, Clustering</td>\n",
       "      <td></td>\n",
       "      <td>13028</td>\n",
       "      <td>69</td>\n",
       "      <td>2020</td>\n",
       "    </tr>\n",
       "    <tr>\n",
       "      <th>558</th>\n",
       "      <td>Intelligent Media Accelerometer and Gyroscope ...</td>\n",
       "      <td>Time-Series</td>\n",
       "      <td>Classification</td>\n",
       "      <td>Real</td>\n",
       "      <td>800</td>\n",
       "      <td>9</td>\n",
       "      <td>2020</td>\n",
       "    </tr>\n",
       "  </tbody>\n",
       "</table>\n",
       "<p>559 rows × 7 columns</p>\n",
       "</div>"
      ],
      "text/plain": [
       "                                                  Name      Data Type  \\\n",
       "0                                              Abalone  Multivariate    \n",
       "1                                                Adult  Multivariate    \n",
       "2                                            Annealing  Multivariate    \n",
       "3                         Anonymous Microsoft Web Data                  \n",
       "4                                           Arrhythmia  Multivariate    \n",
       "..                                                 ...            ...   \n",
       "554          IIWA14-R820-Gazebo-Dataset-10Trajectories                  \n",
       "555                     Guitar Chords finger positions          Text    \n",
       "556               Russian Corpus of Biographical Texts          Text    \n",
       "557                                        Codon usage  Multivariate    \n",
       "558  Intelligent Media Accelerometer and Gyroscope ...   Time-Series    \n",
       "\n",
       "                    Default Task               Attribute Type Instances  \\\n",
       "0                Classification   Categorical, Integer, Real      4177    \n",
       "1                Classification         Categorical, Integer     48842    \n",
       "2                Classification   Categorical, Integer, Real       798    \n",
       "3           Recommender-Systems                  Categorical     37711    \n",
       "4                Classification   Categorical, Integer, Real       452    \n",
       "..                           ...                          ...       ...   \n",
       "554                  Regression                      Integer              \n",
       "555              Classification                                   2633    \n",
       "556              Classification                                    200    \n",
       "557  Classification, Clustering                                  13028    \n",
       "558              Classification                         Real       800    \n",
       "\n",
       "    Attributes   Year  \n",
       "0           8   1995   \n",
       "1          14   1996   \n",
       "2          38          \n",
       "3         294   1998   \n",
       "4         279   1998   \n",
       "..         ...    ...  \n",
       "554             2020   \n",
       "555         5   2020   \n",
       "556         2   2020   \n",
       "557        69   2020   \n",
       "558         9   2020   \n",
       "\n",
       "[559 rows x 7 columns]"
      ]
     },
     "execution_count": 28,
     "metadata": {},
     "output_type": "execute_result"
    }
   ],
   "source": [
    "UCI_rep=pd.DataFrame({})\n",
    "UCI_rep['Name']=dname\n",
    "UCI_rep['Data Type']=dtype\n",
    "UCI_rep['Default Task']=task\n",
    "UCI_rep['Attribute Type']=atype\n",
    "UCI_rep['Instances']=insta\n",
    "UCI_rep['Attributes']=atri\n",
    "UCI_rep['Year']=year\n",
    "UCI_rep"
   ]
  },
  {
   "cell_type": "code",
   "execution_count": null,
   "metadata": {},
   "outputs": [],
   "source": []
  }
 ],
 "metadata": {
  "kernelspec": {
   "display_name": "Python 3",
   "language": "python",
   "name": "python3"
  },
  "language_info": {
   "codemirror_mode": {
    "name": "ipython",
    "version": 3
   },
   "file_extension": ".py",
   "mimetype": "text/x-python",
   "name": "python",
   "nbconvert_exporter": "python",
   "pygments_lexer": "ipython3",
   "version": "3.8.3"
  }
 },
 "nbformat": 4,
 "nbformat_minor": 4
}
