{
 "cells": [
  {
   "cell_type": "code",
   "execution_count": 1,
   "metadata": {},
   "outputs": [],
   "source": [
    "#pip install bs4"
   ]
  },
  {
   "cell_type": "code",
   "execution_count": 2,
   "metadata": {},
   "outputs": [],
   "source": [
    "from bs4 import BeautifulSoup\n",
    "import requests\n",
    "import pandas as pd"
   ]
  },
  {
   "cell_type": "markdown",
   "metadata": {},
   "source": [
    "### 1. Wikipedia Scraping"
   ]
  },
  {
   "cell_type": "code",
   "execution_count": 3,
   "metadata": {},
   "outputs": [],
   "source": [
    "header_tags=[]\n",
    "full_tags=\"\"\n",
    "def wiki_scrap(url):\n",
    "    page=requests.get(url)\n",
    "    soup=BeautifulSoup(page.content)\n",
    "    #print(soup.prettify())\n",
    "    tags=soup.find_all(id,class_='mp-h2')\n",
    "    for i in tags:\n",
    "        full_tages=\"\"\n",
    "        for j in i.find_all('span',class_='mw-headline'):\n",
    "            full_tags=\" \"+(j.get_text().replace('...',''))\n",
    "        print(full_tags)\n",
    "    header_tags.append(full_tags)  \n",
    "    "
   ]
  },
  {
   "cell_type": "code",
   "execution_count": 4,
   "metadata": {},
   "outputs": [
    {
     "name": "stdout",
     "output_type": "stream",
     "text": [
      " From today's featured article\n",
      " Did you know \n",
      " In the news\n",
      " On this day\n",
      " Today's featured picture\n",
      " Other areas of Wikipedia\n",
      " Wikipedia's sister projects\n",
      " Wikipedia languages\n"
     ]
    }
   ],
   "source": [
    "url=\"https://en.wikipedia.org/wiki/Main_Page\"\n",
    "wiki_scrap(url)"
   ]
  },
  {
   "cell_type": "code",
   "execution_count": 5,
   "metadata": {},
   "outputs": [
    {
     "data": {
      "text/plain": [
       "[' Wikipedia languages']"
      ]
     },
     "execution_count": 5,
     "metadata": {},
     "output_type": "execute_result"
    }
   ],
   "source": [
    "header_tags"
   ]
  },
  {
   "cell_type": "code",
   "execution_count": 6,
   "metadata": {},
   "outputs": [],
   "source": [
    "#page=requests.get(\"https://www.imdb.com/chart/top/?ref_=nv_mv_250\")"
   ]
  },
  {
   "cell_type": "code",
   "execution_count": 7,
   "metadata": {},
   "outputs": [],
   "source": [
    "#page.content"
   ]
  },
  {
   "cell_type": "code",
   "execution_count": 8,
   "metadata": {},
   "outputs": [],
   "source": [
    "#soup=BeautifulSoup(page.content)"
   ]
  },
  {
   "cell_type": "code",
   "execution_count": 9,
   "metadata": {},
   "outputs": [],
   "source": [
    "#print(soup.prettify())"
   ]
  },
  {
   "cell_type": "raw",
   "metadata": {},
   "source": [
    "name=[]\n",
    "year=[]\n",
    "rating=[]\n",
    "names=soup.find_all('td',class_='titleColumn')"
   ]
  },
  {
   "cell_type": "code",
   "execution_count": 10,
   "metadata": {},
   "outputs": [],
   "source": [
    "#names"
   ]
  },
  {
   "cell_type": "raw",
   "metadata": {},
   "source": [
    "for i in names:\n",
    "    full_names=\"\"\n",
    "    for j in i.find_all('a'):\n",
    "        full_names=j.get_text()\n",
    "    name.append(full_names)\n",
    "    print(full_names)"
   ]
  },
  {
   "cell_type": "code",
   "execution_count": 11,
   "metadata": {},
   "outputs": [],
   "source": [
    "#name[0:4]"
   ]
  },
  {
   "cell_type": "raw",
   "metadata": {},
   "source": [
    "years=soup.find_all('span',class_='secondaryInfo')\n",
    "years"
   ]
  },
  {
   "cell_type": "raw",
   "metadata": {},
   "source": [
    "for i in years:\n",
    "    year.append(i.get_text(strip=True))"
   ]
  },
  {
   "cell_type": "code",
   "execution_count": 12,
   "metadata": {},
   "outputs": [],
   "source": [
    "#year"
   ]
  },
  {
   "cell_type": "raw",
   "metadata": {},
   "source": [
    "ratings=soup.find_all('td',class_='ratingColumn imdbRating')\n",
    "ratings"
   ]
  },
  {
   "cell_type": "raw",
   "metadata": {},
   "source": [
    "for i in ratings:\n",
    "    full_rat=\"\"\n",
    "    for j in i.find_all('strong'):\n",
    "        full_rat=j.get_text()\n",
    "    rating.append(full_rat)\n",
    "    print(full_rat)"
   ]
  },
  {
   "cell_type": "code",
   "execution_count": 13,
   "metadata": {},
   "outputs": [],
   "source": [
    "#print(len(name),len(year),len(rating))"
   ]
  },
  {
   "cell_type": "raw",
   "metadata": {},
   "source": [
    "name=name[0:100]\n",
    "year=year[0:100]\n",
    "rating=rating[0:100]"
   ]
  },
  {
   "cell_type": "code",
   "execution_count": 14,
   "metadata": {},
   "outputs": [],
   "source": [
    "#len(name)"
   ]
  },
  {
   "cell_type": "raw",
   "metadata": {},
   "source": [
    "import pandas as pd\n",
    "imdb_100=pd.DataFrame({})\n",
    "imdb_100['Movie Name']=name\n",
    "imdb_100['Year of Release']=year\n",
    "imdb_100['Rating of Movie']=rating"
   ]
  },
  {
   "cell_type": "code",
   "execution_count": 15,
   "metadata": {
    "scrolled": true
   },
   "outputs": [],
   "source": [
    "#imdb_100"
   ]
  },
  {
   "cell_type": "markdown",
   "metadata": {},
   "source": [
    "### 2. IMDb Top 100 Movies"
   ]
  },
  {
   "cell_type": "code",
   "execution_count": 16,
   "metadata": {},
   "outputs": [],
   "source": [
    "name=[]\n",
    "year=[]\n",
    "rating=[]\n",
    "def IMDb_Top_100(url):\n",
    "    page=requests.get(url)\n",
    "    soup=BeautifulSoup(page.content)\n",
    "    names=soup.find_all('td',class_='titleColumn')\n",
    "    for i in names:\n",
    "        full_names=\"\"\n",
    "        for j in i.find_all('a'):\n",
    "            full_names=j.get_text()\n",
    "        name.append(full_names)\n",
    "    years=soup.find_all('span',class_='secondaryInfo')\n",
    "    for i in years:\n",
    "        year.append(i.get_text(strip=True))\n",
    "    ratings=soup.find_all('td',class_='ratingColumn imdbRating')\n",
    "    for i in ratings:\n",
    "        full_rat=\"\"\n",
    "        for j in i.find_all('strong'):\n",
    "            full_rat=j.get_text()\n",
    "        rating.append(full_rat)"
   ]
  },
  {
   "cell_type": "code",
   "execution_count": 17,
   "metadata": {},
   "outputs": [],
   "source": [
    "url=\"https://www.imdb.com/chart/top/?ref_=nv_mv_250\"\n",
    "IMDb_Top_100(url)"
   ]
  },
  {
   "cell_type": "code",
   "execution_count": 18,
   "metadata": {},
   "outputs": [],
   "source": [
    "name=name[0:100]\n",
    "year=year[0:100]\n",
    "rating=rating[0:100]\n",
    "imdb_100=pd.DataFrame({})\n",
    "imdb_100['Movie Name']=name\n",
    "imdb_100['Year of Release']=year\n",
    "imdb_100['Rating of Movie']=rating"
   ]
  },
  {
   "cell_type": "code",
   "execution_count": 19,
   "metadata": {},
   "outputs": [],
   "source": [
    "#imdb_100.to_csv('IMDb_top_100')"
   ]
  },
  {
   "cell_type": "code",
   "execution_count": 20,
   "metadata": {},
   "outputs": [
    {
     "data": {
      "text/html": [
       "<div>\n",
       "<style scoped>\n",
       "    .dataframe tbody tr th:only-of-type {\n",
       "        vertical-align: middle;\n",
       "    }\n",
       "\n",
       "    .dataframe tbody tr th {\n",
       "        vertical-align: top;\n",
       "    }\n",
       "\n",
       "    .dataframe thead th {\n",
       "        text-align: right;\n",
       "    }\n",
       "</style>\n",
       "<table border=\"1\" class=\"dataframe\">\n",
       "  <thead>\n",
       "    <tr style=\"text-align: right;\">\n",
       "      <th></th>\n",
       "      <th>Movie Name</th>\n",
       "      <th>Year of Release</th>\n",
       "      <th>Rating of Movie</th>\n",
       "    </tr>\n",
       "  </thead>\n",
       "  <tbody>\n",
       "    <tr>\n",
       "      <th>0</th>\n",
       "      <td>The Shawshank Redemption</td>\n",
       "      <td>(1994)</td>\n",
       "      <td>9.2</td>\n",
       "    </tr>\n",
       "    <tr>\n",
       "      <th>1</th>\n",
       "      <td>The Godfather</td>\n",
       "      <td>(1972)</td>\n",
       "      <td>9.1</td>\n",
       "    </tr>\n",
       "    <tr>\n",
       "      <th>2</th>\n",
       "      <td>The Godfather: Part II</td>\n",
       "      <td>(1974)</td>\n",
       "      <td>9.0</td>\n",
       "    </tr>\n",
       "    <tr>\n",
       "      <th>3</th>\n",
       "      <td>The Dark Knight</td>\n",
       "      <td>(2008)</td>\n",
       "      <td>9.0</td>\n",
       "    </tr>\n",
       "    <tr>\n",
       "      <th>4</th>\n",
       "      <td>12 Angry Men</td>\n",
       "      <td>(1957)</td>\n",
       "      <td>8.9</td>\n",
       "    </tr>\n",
       "    <tr>\n",
       "      <th>...</th>\n",
       "      <td>...</td>\n",
       "      <td>...</td>\n",
       "      <td>...</td>\n",
       "    </tr>\n",
       "    <tr>\n",
       "      <th>95</th>\n",
       "      <td>Dangal</td>\n",
       "      <td>(2016)</td>\n",
       "      <td>8.3</td>\n",
       "    </tr>\n",
       "    <tr>\n",
       "      <th>96</th>\n",
       "      <td>Citizen Kane</td>\n",
       "      <td>(1941)</td>\n",
       "      <td>8.3</td>\n",
       "    </tr>\n",
       "    <tr>\n",
       "      <th>97</th>\n",
       "      <td>1917</td>\n",
       "      <td>(2019)</td>\n",
       "      <td>8.2</td>\n",
       "    </tr>\n",
       "    <tr>\n",
       "      <th>98</th>\n",
       "      <td>Full Metal Jacket</td>\n",
       "      <td>(1987)</td>\n",
       "      <td>8.2</td>\n",
       "    </tr>\n",
       "    <tr>\n",
       "      <th>99</th>\n",
       "      <td>Ladri di biciclette</td>\n",
       "      <td>(1948)</td>\n",
       "      <td>8.2</td>\n",
       "    </tr>\n",
       "  </tbody>\n",
       "</table>\n",
       "<p>100 rows × 3 columns</p>\n",
       "</div>"
      ],
      "text/plain": [
       "                  Movie Name Year of Release Rating of Movie\n",
       "0   The Shawshank Redemption          (1994)             9.2\n",
       "1              The Godfather          (1972)             9.1\n",
       "2     The Godfather: Part II          (1974)             9.0\n",
       "3            The Dark Knight          (2008)             9.0\n",
       "4               12 Angry Men          (1957)             8.9\n",
       "..                       ...             ...             ...\n",
       "95                    Dangal          (2016)             8.3\n",
       "96              Citizen Kane          (1941)             8.3\n",
       "97                      1917          (2019)             8.2\n",
       "98         Full Metal Jacket          (1987)             8.2\n",
       "99       Ladri di biciclette          (1948)             8.2\n",
       "\n",
       "[100 rows x 3 columns]"
      ]
     },
     "execution_count": 20,
     "metadata": {},
     "output_type": "execute_result"
    }
   ],
   "source": [
    "imdb_100"
   ]
  },
  {
   "cell_type": "markdown",
   "metadata": {},
   "source": [
    "### 3. IMDb India Top 100 Movies"
   ]
  },
  {
   "cell_type": "code",
   "execution_count": 21,
   "metadata": {},
   "outputs": [],
   "source": [
    "Name=[]\n",
    "Year=[]\n",
    "Rating=[]\n",
    "def imdb_ind(url):\n",
    "    page=requests.get(url)\n",
    "    soup=BeautifulSoup(page.content)\n",
    "    names=soup.find_all('td',class_='titleColumn')\n",
    "    for i in names:\n",
    "        full_names=\"\"\n",
    "        for j in i.find_all('a'):\n",
    "            full_names=j.get_text()\n",
    "        Name.append(full_names)\n",
    "        #print(full_names)\n",
    "    years=soup.find_all('span',class_='secondaryInfo')\n",
    "    for i in years:\n",
    "        Year.append(i.get_text(strip=True))\n",
    "    ratings=soup.find_all('td',class_='ratingColumn imdbRating')\n",
    "    for i in ratings:\n",
    "        full_rat=\"\"\n",
    "        for j in i.find_all('strong'):\n",
    "            full_rat=j.get_text()\n",
    "        Rating.append(full_rat)\n",
    "        #print(full_rat)"
   ]
  },
  {
   "cell_type": "code",
   "execution_count": 22,
   "metadata": {},
   "outputs": [],
   "source": [
    "url=\"https://www.imdb.com/india/top-rated-indian-movies/\"\n",
    "imdb_ind(url)"
   ]
  },
  {
   "cell_type": "code",
   "execution_count": 23,
   "metadata": {},
   "outputs": [],
   "source": [
    "Name=Name[0:100]\n",
    "Year=Year[0:100]\n",
    "Rating=Rating[0:100]"
   ]
  },
  {
   "cell_type": "code",
   "execution_count": 24,
   "metadata": {},
   "outputs": [],
   "source": [
    "import pandas as pd\n",
    "imdb_ind=pd.DataFrame({})\n",
    "imdb_ind['Movie Name']=Name\n",
    "imdb_ind['Year of Release']=Year\n",
    "imdb_ind['Rating of Movie']=Rating"
   ]
  },
  {
   "cell_type": "code",
   "execution_count": 25,
   "metadata": {},
   "outputs": [],
   "source": [
    "#imdb_ind.to_csv('IMDb_India_100')"
   ]
  },
  {
   "cell_type": "markdown",
   "metadata": {},
   "source": [
    "### 4. Book Review"
   ]
  },
  {
   "cell_type": "code",
   "execution_count": 26,
   "metadata": {},
   "outputs": [],
   "source": [
    "book=[]\n",
    "author=[]\n",
    "genere=[]\n",
    "review=[]\n",
    "def book_review(url):\n",
    "    page=requests.get(url)\n",
    "    soup=BeautifulSoup(page.content)\n",
    "    books=soup.find_all('h4',class_='italic')\n",
    "    for i in books:\n",
    "        full_names=\"\"\n",
    "        for j in i.find_all('a'):\n",
    "            full_names=j.get_text().replace('★','')\n",
    "            full_names=full_names.strip()\n",
    "        book.append(full_names)\n",
    "    names=soup.find_all('p',class_='sans bold')\n",
    "    for i in names:\n",
    "        author.append(i.get_text(strip=True))\n",
    "    geners=soup.find_all('p',class_=\"genre-links hidden-phone\")\n",
    "    for i in geners:\n",
    "        full_names=\"\"\n",
    "        for j in i.find_all('a'):\n",
    "            full_names=j.get_text()\n",
    "        genere.append(full_names)\n",
    "    reviews=soup.find_all('p',class_='excerpt')\n",
    "    for i in reviews:\n",
    "        review.append(i.get_text(strip=True))"
   ]
  },
  {
   "cell_type": "code",
   "execution_count": 27,
   "metadata": {},
   "outputs": [],
   "source": [
    "url=\"https://bookpage.com/reviews?book_genre=mystery_suspense&page=1\"\n",
    "book_review(url)"
   ]
  },
  {
   "cell_type": "code",
   "execution_count": 28,
   "metadata": {},
   "outputs": [],
   "source": [
    "book=book[0:5]\n",
    "author=author[0:5]\n",
    "genere=genere[0:5]\n",
    "review=review[0:5]"
   ]
  },
  {
   "cell_type": "code",
   "execution_count": 29,
   "metadata": {},
   "outputs": [],
   "source": [
    "Book_Review=pd.DataFrame({})\n",
    "Book_Review[\"Book Name\"]=book\n",
    "Book_Review[\"Author\"]=author\n",
    "Book_Review[\"Genere\"]=genere\n",
    "Book_Review[\"Review\"]=review"
   ]
  },
  {
   "cell_type": "code",
   "execution_count": 30,
   "metadata": {},
   "outputs": [],
   "source": [
    "#Book_Review.to_csv(\"Book_Review\")"
   ]
  },
  {
   "cell_type": "markdown",
   "metadata": {},
   "source": [
    "### 5. ICC Team Rankings_Men"
   ]
  },
  {
   "cell_type": "code",
   "execution_count": 31,
   "metadata": {},
   "outputs": [],
   "source": [
    "team=[]\n",
    "matches=[]\n",
    "points=[]\n",
    "rating=[]\n",
    "extra=[]\n",
    "point_split=[]\n",
    "def ICC_ODI_Team(url):\n",
    "    page=requests.get(url)\n",
    "    soup=BeautifulSoup(page.content)\n",
    "    teams=soup.find_all(\"span\",class_=\"u-hide-phablet\")\n",
    "    for i in teams:\n",
    "        team.append(i.get_text(strip=True))\n",
    "    match=soup.find_all(\"td\",class_=\"rankings-block__banner--matches\")\n",
    "    for i in match:\n",
    "        matches.append(i.get_text())\n",
    "    point=soup.find_all(\"td\",class_=\"rankings-block__banner--points\")\n",
    "    for i in point:\n",
    "        points.append(i.get_text(strip=True))\n",
    "    ratings=soup.find_all(\"td\",class_=\"rankings-block__banner--rating u-text-right\")\n",
    "    for i in ratings:\n",
    "        rating.append(i.get_text(strip=True))\n",
    "    ratings=soup.find_all(\"td\",class_=\"table-body__cell u-text-right rating\")\n",
    "    for i in ratings:\n",
    "        rating.append(i.get_text())\n",
    "    match=soup.find_all(\"td\",class_=\"table-body__cell u-center-text\")\n",
    "    for i in match:\n",
    "        extra.append(i.get_text(strip=True).split(\"'\"))\n",
    "    point_split=[extra[i] for i in range(len(extra)) if i % 2 != 0]\n",
    "    points.append(point_split)\n",
    "    matches_split=[extra[i] for i in range(len(extra)) if i % 2 == 0]\n",
    "    matches.append(matches_split)   "
   ]
  },
  {
   "cell_type": "code",
   "execution_count": 32,
   "metadata": {},
   "outputs": [],
   "source": [
    "url=\"https://www.icc-cricket.com/rankings/mens/team-rankings/odi\"\n",
    "ICC_ODI_Team(url)"
   ]
  },
  {
   "cell_type": "code",
   "execution_count": 33,
   "metadata": {},
   "outputs": [],
   "source": [
    "## Raised Ticket "
   ]
  },
  {
   "cell_type": "markdown",
   "metadata": {},
   "source": [
    "### 5 (ii). ICC Top 10 Batsmen "
   ]
  },
  {
   "cell_type": "code",
   "execution_count": 34,
   "metadata": {},
   "outputs": [],
   "source": [
    "name1=[]\n",
    "team1=[]\n",
    "rating1=[]\n",
    "def ICC_Batsmen(url):\n",
    "    page=requests.get(url)\n",
    "    soup=BeautifulSoup(page.content)\n",
    "    names=soup.find_all(\"div\",class_=\"rankings-block__banner--name-large\")\n",
    "    for i in names:\n",
    "        name1.append(i.get_text())\n",
    "    names=soup.find_all(\"td\",class_=\"table-body__cell rankings-table__name name\")\n",
    "    for i in names:\n",
    "        full_names=\"\"\n",
    "        for j in i.find_all('a'):\n",
    "            full_names=j.get_text()\n",
    "        name1.append(full_names)\n",
    "    teams=soup.find_all(\"div\",class_=\"rankings-block__banner--nationality\")\n",
    "    for i in teams:\n",
    "        team1.append(i.get_text(strip=True))\n",
    "    teams=soup.find_all(\"span\",class_=\"table-body__logo-text\")\n",
    "    for i in teams:\n",
    "        team1.append(i.get_text()) \n",
    "    ratings=soup.find_all(\"div\",class_=\"rankings-block__banner--rating\")\n",
    "    for i in ratings:\n",
    "        rating1.append(i.get_text())\n",
    "    ratings=soup.find_all(\"td\",class_=\"table-body__cell rating\")\n",
    "    for i in ratings:\n",
    "        rating1.append(i.get_text())"
   ]
  },
  {
   "cell_type": "code",
   "execution_count": 35,
   "metadata": {},
   "outputs": [],
   "source": [
    "url=\"https://www.icc-cricket.com/rankings/mens/player-rankings/odi/batting\"\n",
    "ICC_Batsmen(url)"
   ]
  },
  {
   "cell_type": "code",
   "execution_count": 36,
   "metadata": {},
   "outputs": [],
   "source": [
    "name=name1[0:10]\n",
    "team=team1[0:10]\n",
    "rating=rating1[0:10]\n",
    "ICC_batsmen=pd.DataFrame({})\n",
    "ICC_batsmen[\"Name\"]=name\n",
    "ICC_batsmen[\"Team\"]=team\n",
    "ICC_batsmen[\"Rating\"]=rating\n",
    "#ICC_batsmen.to_csv(\"ICC_Top_10_Batsmen\")"
   ]
  },
  {
   "cell_type": "code",
   "execution_count": 37,
   "metadata": {
    "scrolled": true
   },
   "outputs": [
    {
     "data": {
      "text/html": [
       "<div>\n",
       "<style scoped>\n",
       "    .dataframe tbody tr th:only-of-type {\n",
       "        vertical-align: middle;\n",
       "    }\n",
       "\n",
       "    .dataframe tbody tr th {\n",
       "        vertical-align: top;\n",
       "    }\n",
       "\n",
       "    .dataframe thead th {\n",
       "        text-align: right;\n",
       "    }\n",
       "</style>\n",
       "<table border=\"1\" class=\"dataframe\">\n",
       "  <thead>\n",
       "    <tr style=\"text-align: right;\">\n",
       "      <th></th>\n",
       "      <th>Name</th>\n",
       "      <th>Team</th>\n",
       "      <th>Rating</th>\n",
       "    </tr>\n",
       "  </thead>\n",
       "  <tbody>\n",
       "    <tr>\n",
       "      <th>0</th>\n",
       "      <td>Virat Kohli</td>\n",
       "      <td>IND</td>\n",
       "      <td>871</td>\n",
       "    </tr>\n",
       "    <tr>\n",
       "      <th>1</th>\n",
       "      <td>Rohit Sharma</td>\n",
       "      <td>IND</td>\n",
       "      <td>855</td>\n",
       "    </tr>\n",
       "    <tr>\n",
       "      <th>2</th>\n",
       "      <td>Babar Azam</td>\n",
       "      <td>PAK</td>\n",
       "      <td>837</td>\n",
       "    </tr>\n",
       "    <tr>\n",
       "      <th>3</th>\n",
       "      <td>Ross Taylor</td>\n",
       "      <td>NZ</td>\n",
       "      <td>818</td>\n",
       "    </tr>\n",
       "    <tr>\n",
       "      <th>4</th>\n",
       "      <td>Francois du Plessis</td>\n",
       "      <td>SA</td>\n",
       "      <td>790</td>\n",
       "    </tr>\n",
       "    <tr>\n",
       "      <th>5</th>\n",
       "      <td>Kane Williamson</td>\n",
       "      <td>NZ</td>\n",
       "      <td>765</td>\n",
       "    </tr>\n",
       "    <tr>\n",
       "      <th>6</th>\n",
       "      <td>Aaron Finch</td>\n",
       "      <td>AUS</td>\n",
       "      <td>762</td>\n",
       "    </tr>\n",
       "    <tr>\n",
       "      <th>7</th>\n",
       "      <td>David Warner</td>\n",
       "      <td>AUS</td>\n",
       "      <td>759</td>\n",
       "    </tr>\n",
       "    <tr>\n",
       "      <th>8</th>\n",
       "      <td>Quinton de Kock</td>\n",
       "      <td>SA</td>\n",
       "      <td>755</td>\n",
       "    </tr>\n",
       "    <tr>\n",
       "      <th>9</th>\n",
       "      <td>Jonny Bairstow</td>\n",
       "      <td>ENG</td>\n",
       "      <td>754</td>\n",
       "    </tr>\n",
       "  </tbody>\n",
       "</table>\n",
       "</div>"
      ],
      "text/plain": [
       "                  Name Team Rating\n",
       "0          Virat Kohli  IND    871\n",
       "1         Rohit Sharma  IND    855\n",
       "2           Babar Azam  PAK    837\n",
       "3          Ross Taylor   NZ    818\n",
       "4  Francois du Plessis   SA    790\n",
       "5      Kane Williamson   NZ    765\n",
       "6          Aaron Finch  AUS    762\n",
       "7         David Warner  AUS    759\n",
       "8      Quinton de Kock   SA    755\n",
       "9       Jonny Bairstow  ENG    754"
      ]
     },
     "execution_count": 37,
     "metadata": {},
     "output_type": "execute_result"
    }
   ],
   "source": [
    "ICC_batsmen"
   ]
  },
  {
   "cell_type": "markdown",
   "metadata": {},
   "source": [
    "### 5 (iii). ICC Top 10 Bowlers"
   ]
  },
  {
   "cell_type": "code",
   "execution_count": 38,
   "metadata": {},
   "outputs": [],
   "source": [
    "name2=[]\n",
    "team2=[]\n",
    "rating2=[]\n",
    "def ICC_Bowler(url):\n",
    "    page=requests.get(url)\n",
    "    soup=BeautifulSoup(page.content)\n",
    "    names=soup.find_all(\"div\",class_=\"rankings-block__banner--name-large\")\n",
    "    for i in names:\n",
    "        name2.append(i.get_text())\n",
    "    names=soup.find_all(\"td\",class_=\"table-body__cell rankings-table__name name\")\n",
    "    for i in names:\n",
    "        full_names=\"\"\n",
    "        for j in i.find_all('a'):\n",
    "            full_names=j.get_text()\n",
    "        name2.append(full_names)\n",
    "    teams=soup.find_all(\"div\",class_=\"rankings-block__banner--nationality\")\n",
    "    for i in teams:\n",
    "        team2.append(i.get_text(strip=True))\n",
    "    teams=soup.find_all(\"span\",class_=\"table-body__logo-text\")\n",
    "    for i in teams:\n",
    "        team2.append(i.get_text()) \n",
    "    ratings=soup.find_all(\"div\",class_=\"rankings-block__banner--rating\")\n",
    "    for i in ratings:\n",
    "        rating2.append(i.get_text())\n",
    "    ratings=soup.find_all(\"td\",class_=\"table-body__cell rating\")\n",
    "    for i in ratings:\n",
    "        rating2.append(i.get_text())"
   ]
  },
  {
   "cell_type": "code",
   "execution_count": 39,
   "metadata": {},
   "outputs": [],
   "source": [
    "url=\"https://www.icc-cricket.com/rankings/mens/player-rankings/odi/bowling\"\n",
    "ICC_Bowler(url)"
   ]
  },
  {
   "cell_type": "code",
   "execution_count": 40,
   "metadata": {},
   "outputs": [],
   "source": [
    "name=name2[0:10]\n",
    "team=team2[0:10]\n",
    "rating=rating2[0:10]\n",
    "ICC_bowler=pd.DataFrame({})\n",
    "ICC_bowler[\"Name\"]=name\n",
    "ICC_bowler[\"Team\"]=team\n",
    "ICC_bowler[\"Rating\"]=rating\n",
    "#ICC_bowler.to_csv(\"ICC_Top_10_Bowlers\")"
   ]
  },
  {
   "cell_type": "code",
   "execution_count": 41,
   "metadata": {},
   "outputs": [
    {
     "data": {
      "text/html": [
       "<div>\n",
       "<style scoped>\n",
       "    .dataframe tbody tr th:only-of-type {\n",
       "        vertical-align: middle;\n",
       "    }\n",
       "\n",
       "    .dataframe tbody tr th {\n",
       "        vertical-align: top;\n",
       "    }\n",
       "\n",
       "    .dataframe thead th {\n",
       "        text-align: right;\n",
       "    }\n",
       "</style>\n",
       "<table border=\"1\" class=\"dataframe\">\n",
       "  <thead>\n",
       "    <tr style=\"text-align: right;\">\n",
       "      <th></th>\n",
       "      <th>Name</th>\n",
       "      <th>Team</th>\n",
       "      <th>Rating</th>\n",
       "    </tr>\n",
       "  </thead>\n",
       "  <tbody>\n",
       "    <tr>\n",
       "      <th>0</th>\n",
       "      <td>Trent Boult</td>\n",
       "      <td>NZ</td>\n",
       "      <td>722</td>\n",
       "    </tr>\n",
       "    <tr>\n",
       "      <th>1</th>\n",
       "      <td>Jasprit Bumrah</td>\n",
       "      <td>IND</td>\n",
       "      <td>719</td>\n",
       "    </tr>\n",
       "    <tr>\n",
       "      <th>2</th>\n",
       "      <td>Mujeeb Ur Rahman</td>\n",
       "      <td>AFG</td>\n",
       "      <td>701</td>\n",
       "    </tr>\n",
       "    <tr>\n",
       "      <th>3</th>\n",
       "      <td>Chris Woakes</td>\n",
       "      <td>ENG</td>\n",
       "      <td>675</td>\n",
       "    </tr>\n",
       "    <tr>\n",
       "      <th>4</th>\n",
       "      <td>Kagiso Rabada</td>\n",
       "      <td>SA</td>\n",
       "      <td>665</td>\n",
       "    </tr>\n",
       "    <tr>\n",
       "      <th>5</th>\n",
       "      <td>Pat Cummins</td>\n",
       "      <td>AUS</td>\n",
       "      <td>659</td>\n",
       "    </tr>\n",
       "    <tr>\n",
       "      <th>6</th>\n",
       "      <td>Josh Hazlewood</td>\n",
       "      <td>AUS</td>\n",
       "      <td>654</td>\n",
       "    </tr>\n",
       "    <tr>\n",
       "      <th>7</th>\n",
       "      <td>Mohammad Amir</td>\n",
       "      <td>PAK</td>\n",
       "      <td>647</td>\n",
       "    </tr>\n",
       "    <tr>\n",
       "      <th>8</th>\n",
       "      <td>Matt Henry</td>\n",
       "      <td>NZ</td>\n",
       "      <td>641</td>\n",
       "    </tr>\n",
       "    <tr>\n",
       "      <th>9</th>\n",
       "      <td>Jofra Archer</td>\n",
       "      <td>ENG</td>\n",
       "      <td>637</td>\n",
       "    </tr>\n",
       "  </tbody>\n",
       "</table>\n",
       "</div>"
      ],
      "text/plain": [
       "               Name Team Rating\n",
       "0       Trent Boult   NZ    722\n",
       "1    Jasprit Bumrah  IND    719\n",
       "2  Mujeeb Ur Rahman  AFG    701\n",
       "3      Chris Woakes  ENG    675\n",
       "4     Kagiso Rabada   SA    665\n",
       "5       Pat Cummins  AUS    659\n",
       "6    Josh Hazlewood  AUS    654\n",
       "7     Mohammad Amir  PAK    647\n",
       "8        Matt Henry   NZ    641\n",
       "9      Jofra Archer  ENG    637"
      ]
     },
     "execution_count": 41,
     "metadata": {},
     "output_type": "execute_result"
    }
   ],
   "source": [
    "ICC_bowler"
   ]
  },
  {
   "cell_type": "markdown",
   "metadata": {},
   "source": [
    "### 6. ICC Womens Top 10 Batswomen"
   ]
  },
  {
   "cell_type": "code",
   "execution_count": 42,
   "metadata": {},
   "outputs": [],
   "source": [
    "name3=[]\n",
    "team3=[]\n",
    "rating3=[]\n",
    "def ICC_Batswomen(url):\n",
    "    page=requests.get(url)\n",
    "    soup=BeautifulSoup(page.content)\n",
    "    names=soup.find_all(\"div\",class_=\"rankings-block__banner--name-large\")\n",
    "    for i in names:\n",
    "        name3.append(i.get_text())\n",
    "    names=soup.find_all(\"td\",class_=\"table-body__cell rankings-table__name name\")\n",
    "    for i in names:\n",
    "        full_names=\"\"\n",
    "        for j in i.find_all('a'):\n",
    "            full_names=j.get_text()\n",
    "        name3.append(full_names)\n",
    "    teams=soup.find_all(\"div\",class_=\"rankings-block__banner--nationality\")\n",
    "    for i in teams:\n",
    "        team3.append(i.get_text(strip=True))\n",
    "    teams=soup.find_all(\"span\",class_=\"table-body__logo-text\")\n",
    "    for i in teams:\n",
    "        team3.append(i.get_text()) \n",
    "    ratings=soup.find_all(\"div\",class_=\"rankings-block__banner--rating\")\n",
    "    for i in ratings:\n",
    "        rating3.append(i.get_text())\n",
    "    ratings=soup.find_all(\"td\",class_=\"table-body__cell rating\")\n",
    "    for i in ratings:\n",
    "        rating3.append(i.get_text())"
   ]
  },
  {
   "cell_type": "code",
   "execution_count": 43,
   "metadata": {},
   "outputs": [],
   "source": [
    "url=\"https://www.icc-cricket.com/rankings/womens/player-rankings/odi/batting\"\n",
    "ICC_Batswomen(url)"
   ]
  },
  {
   "cell_type": "code",
   "execution_count": 44,
   "metadata": {},
   "outputs": [],
   "source": [
    "name=name3[0:10]\n",
    "team=team3[0:10]\n",
    "rating=rating3[0:10]\n",
    "ICC_batswomen=pd.DataFrame({})\n",
    "ICC_batswomen[\"Name\"]=name\n",
    "ICC_batswomen[\"Team\"]=team\n",
    "ICC_batswomen[\"Rating\"]=rating\n",
    "#ICC_batswomen.to_csv(\"ICC_Top_10_Batswomen\")"
   ]
  },
  {
   "cell_type": "code",
   "execution_count": 45,
   "metadata": {},
   "outputs": [
    {
     "data": {
      "text/html": [
       "<div>\n",
       "<style scoped>\n",
       "    .dataframe tbody tr th:only-of-type {\n",
       "        vertical-align: middle;\n",
       "    }\n",
       "\n",
       "    .dataframe tbody tr th {\n",
       "        vertical-align: top;\n",
       "    }\n",
       "\n",
       "    .dataframe thead th {\n",
       "        text-align: right;\n",
       "    }\n",
       "</style>\n",
       "<table border=\"1\" class=\"dataframe\">\n",
       "  <thead>\n",
       "    <tr style=\"text-align: right;\">\n",
       "      <th></th>\n",
       "      <th>Name</th>\n",
       "      <th>Team</th>\n",
       "      <th>Rating</th>\n",
       "    </tr>\n",
       "  </thead>\n",
       "  <tbody>\n",
       "    <tr>\n",
       "      <th>0</th>\n",
       "      <td>Meg Lanning</td>\n",
       "      <td>AUS</td>\n",
       "      <td>749</td>\n",
       "    </tr>\n",
       "    <tr>\n",
       "      <th>1</th>\n",
       "      <td>Stafanie Taylor</td>\n",
       "      <td>WI</td>\n",
       "      <td>746</td>\n",
       "    </tr>\n",
       "    <tr>\n",
       "      <th>2</th>\n",
       "      <td>Alyssa Healy</td>\n",
       "      <td>AUS</td>\n",
       "      <td>741</td>\n",
       "    </tr>\n",
       "    <tr>\n",
       "      <th>3</th>\n",
       "      <td>Smriti Mandhana</td>\n",
       "      <td>IND</td>\n",
       "      <td>732</td>\n",
       "    </tr>\n",
       "    <tr>\n",
       "      <th>4</th>\n",
       "      <td>Amy Satterthwaite</td>\n",
       "      <td>NZ</td>\n",
       "      <td>723</td>\n",
       "    </tr>\n",
       "    <tr>\n",
       "      <th>5</th>\n",
       "      <td>Tammy Beaumont</td>\n",
       "      <td>ENG</td>\n",
       "      <td>716</td>\n",
       "    </tr>\n",
       "    <tr>\n",
       "      <th>6</th>\n",
       "      <td>Ellyse Perry</td>\n",
       "      <td>AUS</td>\n",
       "      <td>691</td>\n",
       "    </tr>\n",
       "    <tr>\n",
       "      <th>7</th>\n",
       "      <td>Lizelle Lee</td>\n",
       "      <td>SA</td>\n",
       "      <td>690</td>\n",
       "    </tr>\n",
       "    <tr>\n",
       "      <th>8</th>\n",
       "      <td>Laura Wolvaardt</td>\n",
       "      <td>SA</td>\n",
       "      <td>689</td>\n",
       "    </tr>\n",
       "    <tr>\n",
       "      <th>9</th>\n",
       "      <td>Mithali Raj</td>\n",
       "      <td>IND</td>\n",
       "      <td>687</td>\n",
       "    </tr>\n",
       "  </tbody>\n",
       "</table>\n",
       "</div>"
      ],
      "text/plain": [
       "                Name Team Rating\n",
       "0        Meg Lanning  AUS    749\n",
       "1    Stafanie Taylor   WI    746\n",
       "2       Alyssa Healy  AUS    741\n",
       "3    Smriti Mandhana  IND    732\n",
       "4  Amy Satterthwaite   NZ    723\n",
       "5     Tammy Beaumont  ENG    716\n",
       "6       Ellyse Perry  AUS    691\n",
       "7        Lizelle Lee   SA    690\n",
       "8    Laura Wolvaardt   SA    689\n",
       "9        Mithali Raj  IND    687"
      ]
     },
     "execution_count": 45,
     "metadata": {},
     "output_type": "execute_result"
    }
   ],
   "source": [
    "ICC_batswomen"
   ]
  },
  {
   "cell_type": "markdown",
   "metadata": {},
   "source": [
    "### 6 (iii). ICC Women Top 10 Bowlers"
   ]
  },
  {
   "cell_type": "code",
   "execution_count": 46,
   "metadata": {},
   "outputs": [],
   "source": [
    "name3=[]\n",
    "team3=[]\n",
    "rating3=[]\n",
    "def ICC_W_Bowler(url):\n",
    "    page=requests.get(url)\n",
    "    soup=BeautifulSoup(page.content)\n",
    "    names=soup.find_all(\"div\",class_=\"rankings-block__banner--name-large\")\n",
    "    for i in names:\n",
    "        name3.append(i.get_text())\n",
    "    names=soup.find_all(\"td\",class_=\"table-body__cell rankings-table__name name\")\n",
    "    for i in names:\n",
    "        full_names=\"\"\n",
    "        for j in i.find_all('a'):\n",
    "            full_names=j.get_text()\n",
    "        name3.append(full_names)\n",
    "    teams=soup.find_all(\"div\",class_=\"rankings-block__banner--nationality\")\n",
    "    for i in teams:\n",
    "        team3.append(i.get_text(strip=True))\n",
    "    teams=soup.find_all(\"span\",class_=\"table-body__logo-text\")\n",
    "    for i in teams:\n",
    "        team3.append(i.get_text()) \n",
    "    ratings=soup.find_all(\"div\",class_=\"rankings-block__banner--rating\")\n",
    "    for i in ratings:\n",
    "        rating3.append(i.get_text())\n",
    "    ratings=soup.find_all(\"td\",class_=\"table-body__cell rating\")\n",
    "    for i in ratings:\n",
    "        rating3.append(i.get_text())"
   ]
  },
  {
   "cell_type": "code",
   "execution_count": 47,
   "metadata": {},
   "outputs": [],
   "source": [
    "url=\"https://www.icc-cricket.com/rankings/womens/player-rankings/odi/bowling\"\n",
    "ICC_W_Bowler(url)"
   ]
  },
  {
   "cell_type": "code",
   "execution_count": 48,
   "metadata": {},
   "outputs": [],
   "source": [
    "name=name3[0:10]\n",
    "team=team3[0:10]\n",
    "rating=rating3[0:10]\n",
    "ICC_W_bowler=pd.DataFrame({})\n",
    "ICC_W_bowler[\"Name\"]=name\n",
    "ICC_W_bowler[\"Team\"]=team\n",
    "ICC_W_bowler[\"Rating\"]=rating\n",
    "#ICC_W_bowler.to_csv(\"ICC_Top_10_Women_Bowlers\")"
   ]
  },
  {
   "cell_type": "code",
   "execution_count": 49,
   "metadata": {},
   "outputs": [
    {
     "data": {
      "text/html": [
       "<div>\n",
       "<style scoped>\n",
       "    .dataframe tbody tr th:only-of-type {\n",
       "        vertical-align: middle;\n",
       "    }\n",
       "\n",
       "    .dataframe tbody tr th {\n",
       "        vertical-align: top;\n",
       "    }\n",
       "\n",
       "    .dataframe thead th {\n",
       "        text-align: right;\n",
       "    }\n",
       "</style>\n",
       "<table border=\"1\" class=\"dataframe\">\n",
       "  <thead>\n",
       "    <tr style=\"text-align: right;\">\n",
       "      <th></th>\n",
       "      <th>Name</th>\n",
       "      <th>Team</th>\n",
       "      <th>Rating</th>\n",
       "    </tr>\n",
       "  </thead>\n",
       "  <tbody>\n",
       "    <tr>\n",
       "      <th>0</th>\n",
       "      <td>Jess Jonassen</td>\n",
       "      <td>AUS</td>\n",
       "      <td>804</td>\n",
       "    </tr>\n",
       "    <tr>\n",
       "      <th>1</th>\n",
       "      <td>Marizanne Kapp</td>\n",
       "      <td>SA</td>\n",
       "      <td>738</td>\n",
       "    </tr>\n",
       "    <tr>\n",
       "      <th>2</th>\n",
       "      <td>Megan Schutt</td>\n",
       "      <td>AUS</td>\n",
       "      <td>735</td>\n",
       "    </tr>\n",
       "    <tr>\n",
       "      <th>3</th>\n",
       "      <td>Shabnim Ismail</td>\n",
       "      <td>SA</td>\n",
       "      <td>717</td>\n",
       "    </tr>\n",
       "    <tr>\n",
       "      <th>4</th>\n",
       "      <td>Jhulan Goswami</td>\n",
       "      <td>IND</td>\n",
       "      <td>691</td>\n",
       "    </tr>\n",
       "    <tr>\n",
       "      <th>5</th>\n",
       "      <td>Poonam Yadav</td>\n",
       "      <td>IND</td>\n",
       "      <td>679</td>\n",
       "    </tr>\n",
       "    <tr>\n",
       "      <th>6</th>\n",
       "      <td>Shikha Pandey</td>\n",
       "      <td>IND</td>\n",
       "      <td>675</td>\n",
       "    </tr>\n",
       "    <tr>\n",
       "      <th>7</th>\n",
       "      <td>Ellyse Perry</td>\n",
       "      <td>AUS</td>\n",
       "      <td>666</td>\n",
       "    </tr>\n",
       "    <tr>\n",
       "      <th>8</th>\n",
       "      <td>Anya Shrubsole</td>\n",
       "      <td>ENG</td>\n",
       "      <td>645</td>\n",
       "    </tr>\n",
       "    <tr>\n",
       "      <th>9</th>\n",
       "      <td>Deepti Sharma</td>\n",
       "      <td>IND</td>\n",
       "      <td>639</td>\n",
       "    </tr>\n",
       "  </tbody>\n",
       "</table>\n",
       "</div>"
      ],
      "text/plain": [
       "             Name Team Rating\n",
       "0   Jess Jonassen  AUS    804\n",
       "1  Marizanne Kapp   SA    738\n",
       "2    Megan Schutt  AUS    735\n",
       "3  Shabnim Ismail   SA    717\n",
       "4  Jhulan Goswami  IND    691\n",
       "5    Poonam Yadav  IND    679\n",
       "6   Shikha Pandey  IND    675\n",
       "7    Ellyse Perry  AUS    666\n",
       "8  Anya Shrubsole  ENG    645\n",
       "9   Deepti Sharma  IND    639"
      ]
     },
     "execution_count": 49,
     "metadata": {},
     "output_type": "execute_result"
    }
   ],
   "source": [
    "ICC_W_bowler"
   ]
  },
  {
   "cell_type": "markdown",
   "metadata": {},
   "source": [
    "### 7. Amazon.in, Mobile phones under 20,000 INR"
   ]
  },
  {
   "cell_type": "code",
   "execution_count": 55,
   "metadata": {},
   "outputs": [],
   "source": [
    "name=[]\n",
    "price=[]\n",
    "image=[]\n",
    "rating=[]\n",
    "def Amazon(url):\n",
    "    page=requests.get(url)\n",
    "    soup=BeautifulSoup(page.content)\n",
    "    names=soup.find_all(\"span\",class_=\"a-size-medium a-color-base a-text-normal\")\n",
    "    for i in names:\n",
    "        name.append(i.get_text(strip=True))\n",
    "    prices=soup.find_all(\"span\",class_=\"a-price-whole\")\n",
    "    for i in prices:\n",
    "        price.append(i.get_text(strip=True))\n",
    "    images=soup.find_all(\"a\",class_=\"a-link-normal s-no-outline\")\n",
    "    for i in images:\n",
    "        image.append(i['href'])\n",
    "    ratings=soup.find_all(\"span\",class_=\"a-icon-alt\")\n",
    "    for i in ratings:\n",
    "        rating.append(i.get_text())"
   ]
  },
  {
   "cell_type": "code",
   "execution_count": 56,
   "metadata": {},
   "outputs": [],
   "source": [
    "url=\"https://www.amazon.in/s?k=mobile+phone+under+20000&crid=2TXKCYHX9J8DV&sprefix=mobile%2Caps%2C358&ref=nb_sb_noss_1\"\n",
    "Amazon(url)"
   ]
  },
  {
   "cell_type": "code",
   "execution_count": 58,
   "metadata": {},
   "outputs": [],
   "source": [
    "name=name[0:15]\n",
    "price=price[0:15]\n",
    "image=image[0:15]\n",
    "rating=rating[0:15]"
   ]
  },
  {
   "cell_type": "code",
   "execution_count": 59,
   "metadata": {},
   "outputs": [
    {
     "data": {
      "text/plain": [
       "(15, 15, 15, 15)"
      ]
     },
     "execution_count": 59,
     "metadata": {},
     "output_type": "execute_result"
    }
   ],
   "source": [
    "len(name),len(price),len(image),len(rating)"
   ]
  },
  {
   "cell_type": "code",
   "execution_count": 60,
   "metadata": {},
   "outputs": [
    {
     "data": {
      "text/plain": [
       "['Redmi 9 (Sky Blue, 4GB RAM, 64GB Storage) | 3 Months No Cost EMI on BFL',\n",
       " 'Samsung Galaxy M01 (Black, 3GB RAM, 32GB Storage) with No Cost EMI/Additional Exchange Offers',\n",
       " 'Panasonic Eluga i7 (2GB RAM, 16GB Storage, Finger Print Sensor, 4000mAh Battery) (Black)',\n",
       " 'Samsung Galaxy M01 (Blue, 3GB RAM, 32GB Storage) with No Cost EMI/Additional Exchange Offers',\n",
       " 'Samsung Galaxy M31 (Ocean Blue, 6GB RAM, 128GB Storage)',\n",
       " 'Redmi 9A (Nature Green, 2GB Ram, 32GB Storage)',\n",
       " 'Samsung Galaxy M01 Core (Black, 2GB RAM, 32GB Storage) with No Cost EMI/Additional Exchange Offers',\n",
       " 'Oppo A52 (Twilight Black, 6GB RAM, 128GB Storage) with No Cost EMI/Additional Exchange Offers',\n",
       " 'Redmi 9A (Sea Blue, 2GB Ram, 32GB Storage)',\n",
       " 'Redmi 9A (Sea Blue, 3GB Ram, 32GB Storage)',\n",
       " 'Samsung Galaxy M01 Core (Blue, 1GB RAM, 16GB Storage) with No Cost EMI/Additional Exchange Offers',\n",
       " 'Samsung Galaxy M21 (Raven Black, 4GB RAM, 64GB Storage)',\n",
       " 'Samsung Galaxy M21 (Midnight Blue, 4GB RAM, 64GB Storage)',\n",
       " 'Samsung Galaxy M01 Core (Black, 1GB RAM, 16GB Storage) with No Cost EMI/Additional Exchange Offers',\n",
       " 'Samsung Galaxy M01 Core (Blue, 2GB RAM, 32GB Storage) with No Cost EMI/Additional Exchange Offers']"
      ]
     },
     "execution_count": 60,
     "metadata": {},
     "output_type": "execute_result"
    }
   ],
   "source": [
    "name"
   ]
  },
  {
   "cell_type": "code",
   "execution_count": 61,
   "metadata": {},
   "outputs": [
    {
     "data": {
      "text/plain": [
       "['8,999',\n",
       " '7,499',\n",
       " '5,000',\n",
       " '7,499',\n",
       " '16,499',\n",
       " '6,999',\n",
       " '5,999',\n",
       " '13,990',\n",
       " '6,999',\n",
       " '7,499',\n",
       " '4,999',\n",
       " '13,999',\n",
       " '13,999',\n",
       " '4,999',\n",
       " '5,999']"
      ]
     },
     "execution_count": 61,
     "metadata": {},
     "output_type": "execute_result"
    }
   ],
   "source": [
    "price"
   ]
  },
  {
   "cell_type": "code",
   "execution_count": 62,
   "metadata": {},
   "outputs": [
    {
     "data": {
      "text/plain": [
       "['4 Stars & Up',\n",
       " '3 Stars & Up',\n",
       " '2 Stars & Up',\n",
       " '1 Star & Up',\n",
       " '4.0 out of 5 stars',\n",
       " '3.9 out of 5 stars',\n",
       " '2.9 out of 5 stars',\n",
       " '3.9 out of 5 stars',\n",
       " '4.2 out of 5 stars',\n",
       " '4.2 out of 5 stars',\n",
       " '3.3 out of 5 stars',\n",
       " '4.1 out of 5 stars',\n",
       " '4.2 out of 5 stars',\n",
       " '4.2 out of 5 stars',\n",
       " '3.3 out of 5 stars']"
      ]
     },
     "execution_count": 62,
     "metadata": {},
     "output_type": "execute_result"
    }
   ],
   "source": [
    "rating"
   ]
  },
  {
   "cell_type": "code",
   "execution_count": 63,
   "metadata": {},
   "outputs": [
    {
     "data": {
      "text/plain": [
       "['/Redmi-Sky-Blue-64GB-Storage/dp/B08697N43N?dchild=1',\n",
       " '/Samsung-Galaxy-Storage-Additional-Exchange/dp/B086KCCMCP?dchild=1',\n",
       " '/Panasonic-Storage-Finger-4000mAh-Battery/dp/B08BV2T63X?dchild=1',\n",
       " '/Samsung-Galaxy-Storage-Additional-Exchange/dp/B086KCDGTQ?dchild=1',\n",
       " '/Samsung-Galaxy-Ocean-128GB-Storage/dp/B07HGGYWL6?dchild=1',\n",
       " '/Redmi-9A-2GB-32GB-Storage/dp/B08696XB4B?dchild=1',\n",
       " '/Samsung-Galaxy-Storage-Additional-Exchange/dp/B089MQ622N?dchild=1',\n",
       " '/Oppo-Twilight-Storage-Additional-Exchange/dp/B086KCDPMR?dchild=1',\n",
       " '/Redmi-9A-2GB-32GB-Storage/dp/B086978F2L?dchild=1',\n",
       " '/Redmi-9A-3GB-32GB-Storage/dp/B086973W9M?dchild=1',\n",
       " '/Samsung-Galaxy-Storage-Additional-Exchange/dp/B089MS3GLM?dchild=1',\n",
       " '/Samsung-Galaxy-Raven-Black-Storage/dp/B07HGH8D2R?dchild=1',\n",
       " '/Samsung-Galaxy-Midnight-Blue-Storage/dp/B07HGJJ559?dchild=1',\n",
       " '/Samsung-Galaxy-Storage-Additional-Exchange/dp/B089MTL51J?dchild=1',\n",
       " '/Samsung-Galaxy-Storage-Additional-Exchange/dp/B089MV96RW?dchild=1']"
      ]
     },
     "execution_count": 63,
     "metadata": {},
     "output_type": "execute_result"
    }
   ],
   "source": [
    "image"
   ]
  },
  {
   "cell_type": "code",
   "execution_count": null,
   "metadata": {},
   "outputs": [],
   "source": []
  }
 ],
 "metadata": {
  "kernelspec": {
   "display_name": "Python 3",
   "language": "python",
   "name": "python3"
  },
  "language_info": {
   "codemirror_mode": {
    "name": "ipython",
    "version": 3
   },
   "file_extension": ".py",
   "mimetype": "text/x-python",
   "name": "python",
   "nbconvert_exporter": "python",
   "pygments_lexer": "ipython3",
   "version": "3.8.3"
  }
 },
 "nbformat": 4,
 "nbformat_minor": 4
}
