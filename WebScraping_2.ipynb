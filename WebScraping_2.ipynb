{
 "cells": [
  {
   "cell_type": "code",
   "execution_count": 4,
   "metadata": {},
   "outputs": [],
   "source": [
    "import pandas as pd\n",
    "import selenium\n",
    "from selenium import webdriver\n",
    "import time"
   ]
  },
  {
   "cell_type": "code",
   "execution_count": 2,
   "metadata": {},
   "outputs": [],
   "source": [
    "driver=webdriver.Chrome(\"D:\\Drivers\\chrome\\chromedriver.exe\")"
   ]
  },
  {
   "cell_type": "markdown",
   "metadata": {},
   "source": [
    "### 1. Naukri- Data Analyst"
   ]
  },
  {
   "cell_type": "code",
   "execution_count": 7,
   "metadata": {},
   "outputs": [],
   "source": [
    "def Naukri_DA(url):\n",
    "    driver.get(url)\n",
    "    driver.find_element_by_xpath('//input[@class=\"sugInp\"]').send_keys(\"Data Analyst\")\n",
    "    driver.find_element_by_xpath('//input[@id=\"qsb-location-sugg\"]').send_keys(\"Bangalore\")\n",
    "    driver.find_element_by_xpath('//div[@class=\"search-btn\"]').click()\n",
    "    time.sleep(10)\n",
    "    title_tags=driver.find_elements_by_xpath('//a[@class=\"title fw500 ellipsis\"]')\n",
    "    for i in title_tags:\n",
    "        titles.append(i.text)\n",
    "        \n",
    "    company_tags=driver.find_elements_by_xpath('//a[@class=\"subTitle ellipsis fleft\"]')\n",
    "    for i in company_tags:\n",
    "        companynames=i.text\n",
    "        company.append(companynames)\n",
    "        \n",
    "    exp_tags=driver.find_elements_by_xpath('//li[@class=\"fleft grey-text br2 placeHolderLi experience\"]')\n",
    "    for i in exp_tags:\n",
    "        exper=i.text\n",
    "        experience.append(exper)\n",
    "        \n",
    "    loc_tags=driver.find_elements_by_xpath('//li[@class=\"fleft grey-text br2 placeHolderLi location\"]')\n",
    "    for i in loc_tags:\n",
    "        locations=i.text\n",
    "        location.append(locations)\n",
    "    \n",
    "    print(location)\n",
    "          \n",
    "    #Naukri_DA_Scrape=pd.DataFrame({})\n",
    "    #Naukri_DA_Scrape['Job Title']=titles[0:10]\n",
    "        #Naukri_DA_Scrape['Company Name']=company[0:10]\n",
    "        #Naukri_DA_Scrape['Experience Required']=experience[0:10]\n",
    "       # Naukri_DA_Scrape['Location']=location[0:10]\n",
    "       # print(Naukri_DA_Scrape)"
   ]
  },
  {
   "cell_type": "code",
   "execution_count": 9,
   "metadata": {},
   "outputs": [
    {
     "name": "stdout",
     "output_type": "stream",
     "text": [
      "['Delhi NCR, Bengaluru, Hyderabad', 'Chennai, Pune, Bengaluru, Hyderabad', 'Bengaluru(Whitefield)', 'Bengaluru', 'Bengaluru', 'Bengaluru, India', 'Bengaluru', 'Bengaluru', 'Bengaluru', 'Chennai, Bengaluru, Hyderabad', 'Pune, Delhi, Mumbai, Bengaluru, Hyderabad', 'Bengaluru', 'Bengaluru', 'Bengaluru', 'Bengaluru', 'Bengaluru', 'Mumbai, Bengaluru, Hyderabad', 'Bengaluru', 'Bengaluru', 'Bengaluru(2nd Phase JP Nagar)']\n"
     ]
    }
   ],
   "source": [
    "url=\"https://www.naukri.com/\"\n",
    "Naukri_DA(url)"
   ]
  },
  {
   "cell_type": "code",
   "execution_count": 3,
   "metadata": {
    "scrolled": true
   },
   "outputs": [],
   "source": [
    "url=\"https://www.naukri.com/\""
   ]
  },
  {
   "cell_type": "code",
   "execution_count": 4,
   "metadata": {},
   "outputs": [],
   "source": [
    "driver.get(url)\n",
    "driver.find_element_by_xpath('//input[@class=\"sugInp\"]').send_keys(\"Data Analyst\")\n",
    "driver.find_element_by_xpath('//input[@id=\"qsb-location-sugg\"]').send_keys(\"Bangalore\")\n",
    "driver.find_element_by_xpath('//div[@class=\"search-btn\"]').click()"
   ]
  },
  {
   "cell_type": "code",
   "execution_count": 8,
   "metadata": {},
   "outputs": [],
   "source": [
    "titles=[]\n",
    "location=[]\n",
    "company=[]\n",
    "experience=[]"
   ]
  },
  {
   "cell_type": "code",
   "execution_count": 16,
   "metadata": {},
   "outputs": [],
   "source": [
    "title_tags=driver.find_elements_by_xpath('//a[@class=\"title fw500 ellipsis\"]')"
   ]
  },
  {
   "cell_type": "code",
   "execution_count": 17,
   "metadata": {},
   "outputs": [
    {
     "data": {
      "text/plain": [
       "['Fresher Data Engineer / Data Scientist / Data Analyst Requirements',\n",
       " 'Immediate opening For Data Scientist/Data Analyst',\n",
       " 'SAS AML Data Analyst / Trainee & Data Science, Python Trainee',\n",
       " 'Hiring Data Analysts']"
      ]
     },
     "execution_count": 17,
     "metadata": {},
     "output_type": "execute_result"
    }
   ],
   "source": [
    "for i in title_tags:\n",
    "    title=i.text\n",
    "    titles.append(title)\n",
    "titles[0:4]"
   ]
  },
  {
   "cell_type": "code",
   "execution_count": 18,
   "metadata": {},
   "outputs": [],
   "source": [
    "company_tags=driver.find_elements_by_xpath('//a[@class=\"subTitle ellipsis fleft\"]')\n"
   ]
  },
  {
   "cell_type": "code",
   "execution_count": 19,
   "metadata": {},
   "outputs": [
    {
     "data": {
      "text/plain": [
       "['ACHYUTAS SOFT PRIVATE LIMITED',\n",
       " 'CAIA-Center For Artificial Intelligence & Advanced Analytics',\n",
       " 'MagicBase Royal BD Pvt Ltd',\n",
       " 'Flipkart Internet Private Limited']"
      ]
     },
     "execution_count": 19,
     "metadata": {},
     "output_type": "execute_result"
    }
   ],
   "source": [
    "for i in company_tags:\n",
    "    companynames=i.text\n",
    "    company.append(companynames)\n",
    "company[0:4]"
   ]
  },
  {
   "cell_type": "code",
   "execution_count": 20,
   "metadata": {},
   "outputs": [],
   "source": [
    "exp_tags=driver.find_elements_by_xpath('//li[@class=\"fleft grey-text br2 placeHolderLi experience\"]')\n"
   ]
  },
  {
   "cell_type": "code",
   "execution_count": 21,
   "metadata": {},
   "outputs": [
    {
     "data": {
      "text/plain": [
       "['0-2 Yrs', '0-3 Yrs', '0-5 Yrs', '2-5 Yrs']"
      ]
     },
     "execution_count": 21,
     "metadata": {},
     "output_type": "execute_result"
    }
   ],
   "source": [
    "for i in exp_tags:\n",
    "    exper=i.text\n",
    "    experience.append(exper)\n",
    "experience[0:4]"
   ]
  },
  {
   "cell_type": "code",
   "execution_count": 22,
   "metadata": {},
   "outputs": [],
   "source": [
    "loc_tags=driver.find_elements_by_xpath('//li[@class=\"fleft grey-text br2 placeHolderLi location\"]')\n"
   ]
  },
  {
   "cell_type": "code",
   "execution_count": 23,
   "metadata": {},
   "outputs": [],
   "source": [
    "for i in loc_tags:\n",
    "    locations=i.text\n",
    "    location.append(locations)"
   ]
  },
  {
   "cell_type": "code",
   "execution_count": 24,
   "metadata": {},
   "outputs": [],
   "source": [
    "#driver.close()"
   ]
  },
  {
   "cell_type": "code",
   "execution_count": 26,
   "metadata": {},
   "outputs": [
    {
     "data": {
      "text/html": [
       "<div>\n",
       "<style scoped>\n",
       "    .dataframe tbody tr th:only-of-type {\n",
       "        vertical-align: middle;\n",
       "    }\n",
       "\n",
       "    .dataframe tbody tr th {\n",
       "        vertical-align: top;\n",
       "    }\n",
       "\n",
       "    .dataframe thead th {\n",
       "        text-align: right;\n",
       "    }\n",
       "</style>\n",
       "<table border=\"1\" class=\"dataframe\">\n",
       "  <thead>\n",
       "    <tr style=\"text-align: right;\">\n",
       "      <th></th>\n",
       "      <th>Job Title</th>\n",
       "      <th>Company Name</th>\n",
       "      <th>Experience Required</th>\n",
       "      <th>Location</th>\n",
       "    </tr>\n",
       "  </thead>\n",
       "  <tbody>\n",
       "    <tr>\n",
       "      <th>0</th>\n",
       "      <td>Fresher Data Engineer / Data Scientist / Data ...</td>\n",
       "      <td>ACHYUTAS SOFT PRIVATE LIMITED</td>\n",
       "      <td>0-2 Yrs</td>\n",
       "      <td>Delhi NCR, Bengaluru, Hyderabad</td>\n",
       "    </tr>\n",
       "    <tr>\n",
       "      <th>1</th>\n",
       "      <td>Immediate opening For Data Scientist/Data Analyst</td>\n",
       "      <td>CAIA-Center For Artificial Intelligence &amp; Adva...</td>\n",
       "      <td>0-3 Yrs</td>\n",
       "      <td>Chennai, Pune, Bengaluru, Hyderabad</td>\n",
       "    </tr>\n",
       "    <tr>\n",
       "      <th>2</th>\n",
       "      <td>SAS AML Data Analyst / Trainee &amp; Data Science,...</td>\n",
       "      <td>MagicBase Royal BD Pvt Ltd</td>\n",
       "      <td>0-5 Yrs</td>\n",
       "      <td>Bengaluru(Whitefield)</td>\n",
       "    </tr>\n",
       "    <tr>\n",
       "      <th>3</th>\n",
       "      <td>Hiring Data Analysts</td>\n",
       "      <td>Flipkart Internet Private Limited</td>\n",
       "      <td>2-5 Yrs</td>\n",
       "      <td>Bengaluru</td>\n",
       "    </tr>\n",
       "    <tr>\n",
       "      <th>4</th>\n",
       "      <td>Hiring Data Analysts</td>\n",
       "      <td>Flipkart Internet Private Limited</td>\n",
       "      <td>2-5 Yrs</td>\n",
       "      <td>Bengaluru</td>\n",
       "    </tr>\n",
       "    <tr>\n",
       "      <th>5</th>\n",
       "      <td>Data Analyst</td>\n",
       "      <td>Cognizant Technology Solutions India Ltd</td>\n",
       "      <td>3-4 Yrs</td>\n",
       "      <td>Bengaluru</td>\n",
       "    </tr>\n",
       "    <tr>\n",
       "      <th>6</th>\n",
       "      <td>Data Analyst</td>\n",
       "      <td>Cognizant Technology Solutions India Ltd</td>\n",
       "      <td>2-3 Yrs</td>\n",
       "      <td>Bengaluru</td>\n",
       "    </tr>\n",
       "    <tr>\n",
       "      <th>7</th>\n",
       "      <td>Business Data Analyst</td>\n",
       "      <td>GENPACT India Private Limited</td>\n",
       "      <td>3-6 Yrs</td>\n",
       "      <td>Bengaluru</td>\n",
       "    </tr>\n",
       "    <tr>\n",
       "      <th>8</th>\n",
       "      <td>Data Analyst ( Predictive Modelling)</td>\n",
       "      <td>AVE-Promagne</td>\n",
       "      <td>2-5 Yrs</td>\n",
       "      <td>Bengaluru</td>\n",
       "    </tr>\n",
       "    <tr>\n",
       "      <th>9</th>\n",
       "      <td>Fresher/Trainee/Internship - Data Analyst/Busi...</td>\n",
       "      <td>IIBM Institute of Business Management</td>\n",
       "      <td>0-5 Yrs</td>\n",
       "      <td>Chennai, Bengaluru, Hyderabad</td>\n",
       "    </tr>\n",
       "  </tbody>\n",
       "</table>\n",
       "</div>"
      ],
      "text/plain": [
       "                                           Job Title  \\\n",
       "0  Fresher Data Engineer / Data Scientist / Data ...   \n",
       "1  Immediate opening For Data Scientist/Data Analyst   \n",
       "2  SAS AML Data Analyst / Trainee & Data Science,...   \n",
       "3                               Hiring Data Analysts   \n",
       "4                               Hiring Data Analysts   \n",
       "5                                       Data Analyst   \n",
       "6                                       Data Analyst   \n",
       "7                              Business Data Analyst   \n",
       "8               Data Analyst ( Predictive Modelling)   \n",
       "9  Fresher/Trainee/Internship - Data Analyst/Busi...   \n",
       "\n",
       "                                        Company Name Experience Required  \\\n",
       "0                      ACHYUTAS SOFT PRIVATE LIMITED             0-2 Yrs   \n",
       "1  CAIA-Center For Artificial Intelligence & Adva...             0-3 Yrs   \n",
       "2                         MagicBase Royal BD Pvt Ltd             0-5 Yrs   \n",
       "3                  Flipkart Internet Private Limited             2-5 Yrs   \n",
       "4                  Flipkart Internet Private Limited             2-5 Yrs   \n",
       "5           Cognizant Technology Solutions India Ltd             3-4 Yrs   \n",
       "6           Cognizant Technology Solutions India Ltd             2-3 Yrs   \n",
       "7                      GENPACT India Private Limited             3-6 Yrs   \n",
       "8                                       AVE-Promagne             2-5 Yrs   \n",
       "9              IIBM Institute of Business Management             0-5 Yrs   \n",
       "\n",
       "                              Location  \n",
       "0      Delhi NCR, Bengaluru, Hyderabad  \n",
       "1  Chennai, Pune, Bengaluru, Hyderabad  \n",
       "2                Bengaluru(Whitefield)  \n",
       "3                            Bengaluru  \n",
       "4                            Bengaluru  \n",
       "5                            Bengaluru  \n",
       "6                            Bengaluru  \n",
       "7                            Bengaluru  \n",
       "8                            Bengaluru  \n",
       "9        Chennai, Bengaluru, Hyderabad  "
      ]
     },
     "execution_count": 26,
     "metadata": {},
     "output_type": "execute_result"
    }
   ],
   "source": [
    "Naukri_DA_Scrape=pd.DataFrame({})\n",
    "Naukri_DA_Scrape['Job Title']=titles[0:10]\n",
    "Naukri_DA_Scrape['Company Name']=company[0:10]\n",
    "Naukri_DA_Scrape['Experience Required']=experience[0:10]\n",
    "Naukri_DA_Scrape['Location']=location[0:10]\n",
    "Naukri_DA_Scrape"
   ]
  },
  {
   "cell_type": "code",
   "execution_count": 27,
   "metadata": {},
   "outputs": [],
   "source": [
    "#Naukri_DA_Scrape.to_csv(\"Naukri_1\")"
   ]
  },
  {
   "cell_type": "markdown",
   "metadata": {},
   "source": [
    "### 2. Naukri- Data Scientist"
   ]
  },
  {
   "cell_type": "code",
   "execution_count": 30,
   "metadata": {},
   "outputs": [],
   "source": [
    "driver=webdriver.Chrome(\"D:\\Drivers\\chrome\\chromedriver.exe\")\n",
    "url=\"https://www.naukri.com/\"\n",
    "driver.get(url)\n",
    "driver.find_element_by_xpath('//input[@class=\"sugInp\"]').send_keys(\"Data Scientist\")\n",
    "driver.find_element_by_xpath('//input[@id=\"qsb-location-sugg\"]').send_keys(\"Bangalore\")\n",
    "driver.find_element_by_xpath('//div[@class=\"search-btn\"]').click()"
   ]
  },
  {
   "cell_type": "code",
   "execution_count": 32,
   "metadata": {},
   "outputs": [],
   "source": [
    "titles1=[]\n",
    "location1=[]\n",
    "company1=[]\n",
    "description=[]"
   ]
  },
  {
   "cell_type": "code",
   "execution_count": 33,
   "metadata": {},
   "outputs": [],
   "source": [
    "title_tags=driver.find_elements_by_xpath('//a[@class=\"title fw500 ellipsis\"]')"
   ]
  },
  {
   "cell_type": "code",
   "execution_count": 34,
   "metadata": {},
   "outputs": [
    {
     "data": {
      "text/plain": [
       "['Fresher Data Engineer / Data Scientist / Data Analyst Requirements',\n",
       " 'Immediate opening For Data Scientist/Data Analyst',\n",
       " 'Lead Data Scientist - Machine Learning/ Data Mining',\n",
       " 'Data Scientist / Data Analyst']"
      ]
     },
     "execution_count": 34,
     "metadata": {},
     "output_type": "execute_result"
    }
   ],
   "source": [
    "for i in title_tags:\n",
    "    title=i.text\n",
    "    titles1.append(title)\n",
    "titles1[0:4]"
   ]
  },
  {
   "cell_type": "code",
   "execution_count": 35,
   "metadata": {},
   "outputs": [],
   "source": [
    "company_tags=driver.find_elements_by_xpath('//a[@class=\"subTitle ellipsis fleft\"]')"
   ]
  },
  {
   "cell_type": "code",
   "execution_count": 36,
   "metadata": {},
   "outputs": [
    {
     "data": {
      "text/plain": [
       "['ACHYUTAS SOFT PRIVATE LIMITED',\n",
       " 'CAIA-Center For Artificial Intelligence & Advanced Analytics',\n",
       " 'Wrackle Technologies Pvt Ltd',\n",
       " 'Altimetrik India Pvt. Ltd']"
      ]
     },
     "execution_count": 36,
     "metadata": {},
     "output_type": "execute_result"
    }
   ],
   "source": [
    "for i in company_tags:\n",
    "    companynames=i.text\n",
    "    company1.append(companynames)\n",
    "company1[0:4]"
   ]
  },
  {
   "cell_type": "code",
   "execution_count": 38,
   "metadata": {},
   "outputs": [],
   "source": [
    "loc_tags=driver.find_elements_by_xpath('//li[@class=\"fleft grey-text br2 placeHolderLi location\"]')"
   ]
  },
  {
   "cell_type": "code",
   "execution_count": 40,
   "metadata": {},
   "outputs": [],
   "source": [
    "for i in loc_tags:\n",
    "    locations=i.text\n",
    "    location1.append(locations)"
   ]
  },
  {
   "cell_type": "code",
   "execution_count": 66,
   "metadata": {},
   "outputs": [],
   "source": [
    "desc=driver.find_elements_by_xpath('//div[@class=\"job-description fs12 grey-text\"]')"
   ]
  },
  {
   "cell_type": "code",
   "execution_count": 68,
   "metadata": {},
   "outputs": [],
   "source": [
    "for i in desc:\n",
    "    descrip=i.text\n",
    "    description.append(descrip)"
   ]
  },
  {
   "cell_type": "code",
   "execution_count": 69,
   "metadata": {},
   "outputs": [
    {
     "data": {
      "text/plain": [
       "['Building and iterating reports (with eventual design collaboration) based around a larg...',\n",
       " 'In case you are trying to shift your career to Analytics and / or AI domain please do c...',\n",
       " 'BS / MS/PhD in Computer Science, Statistics, Applied Math, or related areas from Premie...',\n",
       " 'data analytics, or business intelligence experience Experience with conducting Experien...',\n",
       " 'Hands-on python programming with experience designing data science products Hands-on ex...',\n",
       " 'Proficiency in Python or R, Tableu especially on data wrangling, analysis, and modeling...',\n",
       " 'PhD / Masters / BTech in computer science, computer engineering with 7+ years of demons...',\n",
       " 'The Technology & Operations Risk (TOR) organization at Morgan Stanley has the following...',\n",
       " 'medical voice of customer feedback, customer listening, feedback from surveys and resea...',\n",
       " 'Experience working with enterprise architecture for the complex solutions solving busin...',\n",
       " 'Preferably expertise Deep Learning, Bayesian Learning Experience of developing advanced...',\n",
       " 'The main responsibilities are as follows: Research and develop analytical solutions for...',\n",
       " 'PhD / Masters / BTech in computer science, computer engineering with 10+ years of demon...',\n",
       " 'The main responsibilities are as follows: Research and develop analytical solutions for...',\n",
       " 'The ideal candidate is an experienced technology leader with program development experi...',\n",
       " 'We are looking for an highly skilled, experienced and passionate data-scientist who can...',\n",
       " 'Candidate should be:The ideal candidate will come with hands-on experience as a Data Sc...',\n",
       " 'Roles and Responsibilities:* Selecting features, building and optimizing classifiers us...',\n",
       " 'Candidate must have a strong statistics background, be highly proficient in SQL, R and ...',\n",
       " 'Good written and verbal communication skillsExperience developing enterprise-class solu...']"
      ]
     },
     "execution_count": 69,
     "metadata": {},
     "output_type": "execute_result"
    }
   ],
   "source": [
    "description"
   ]
  },
  {
   "cell_type": "code",
   "execution_count": 70,
   "metadata": {},
   "outputs": [
    {
     "data": {
      "text/html": [
       "<div>\n",
       "<style scoped>\n",
       "    .dataframe tbody tr th:only-of-type {\n",
       "        vertical-align: middle;\n",
       "    }\n",
       "\n",
       "    .dataframe tbody tr th {\n",
       "        vertical-align: top;\n",
       "    }\n",
       "\n",
       "    .dataframe thead th {\n",
       "        text-align: right;\n",
       "    }\n",
       "</style>\n",
       "<table border=\"1\" class=\"dataframe\">\n",
       "  <thead>\n",
       "    <tr style=\"text-align: right;\">\n",
       "      <th></th>\n",
       "      <th>Job Title</th>\n",
       "      <th>Company Name</th>\n",
       "      <th>Description</th>\n",
       "      <th>Location</th>\n",
       "    </tr>\n",
       "  </thead>\n",
       "  <tbody>\n",
       "    <tr>\n",
       "      <th>0</th>\n",
       "      <td>Fresher Data Engineer / Data Scientist / Data ...</td>\n",
       "      <td>ACHYUTAS SOFT PRIVATE LIMITED</td>\n",
       "      <td>Building and iterating reports (with eventual ...</td>\n",
       "      <td>Delhi NCR, Bengaluru, Hyderabad</td>\n",
       "    </tr>\n",
       "    <tr>\n",
       "      <th>1</th>\n",
       "      <td>Immediate opening For Data Scientist/Data Analyst</td>\n",
       "      <td>CAIA-Center For Artificial Intelligence &amp; Adva...</td>\n",
       "      <td>In case you are trying to shift your career to...</td>\n",
       "      <td>Chennai, Pune, Bengaluru, Hyderabad</td>\n",
       "    </tr>\n",
       "    <tr>\n",
       "      <th>2</th>\n",
       "      <td>Lead Data Scientist - Machine Learning/ Data M...</td>\n",
       "      <td>Wrackle Technologies Pvt Ltd</td>\n",
       "      <td>BS / MS/PhD in Computer Science, Statistics, A...</td>\n",
       "      <td>Bengaluru</td>\n",
       "    </tr>\n",
       "    <tr>\n",
       "      <th>3</th>\n",
       "      <td>Data Scientist / Data Analyst</td>\n",
       "      <td>Altimetrik India Pvt. Ltd</td>\n",
       "      <td>data analytics, or business intelligence exper...</td>\n",
       "      <td>Bengaluru</td>\n",
       "    </tr>\n",
       "    <tr>\n",
       "      <th>4</th>\n",
       "      <td>Explore job openings on Data Scientist!!</td>\n",
       "      <td>Bristlecone India Limited</td>\n",
       "      <td>Hands-on python programming with experience de...</td>\n",
       "      <td>Pune, Mumbai, Bengaluru</td>\n",
       "    </tr>\n",
       "    <tr>\n",
       "      <th>5</th>\n",
       "      <td>Senior Principal Software Engineer - IT ( Data...</td>\n",
       "      <td>Dell International Services IndiaPrivate Limited</td>\n",
       "      <td>Proficiency in Python or R, Tableu especially ...</td>\n",
       "      <td>Bengaluru</td>\n",
       "    </tr>\n",
       "    <tr>\n",
       "      <th>6</th>\n",
       "      <td>Senior Data Scientist</td>\n",
       "      <td>Signify</td>\n",
       "      <td>PhD / Masters / BTech in computer science, com...</td>\n",
       "      <td>Bengaluru</td>\n",
       "    </tr>\n",
       "    <tr>\n",
       "      <th>7</th>\n",
       "      <td>Machine Learning Lead / Data Scientist</td>\n",
       "      <td>Morgan Stanley Advantage Services</td>\n",
       "      <td>The Technology &amp; Operations Risk (TOR) organiz...</td>\n",
       "      <td>Bengaluru</td>\n",
       "    </tr>\n",
       "    <tr>\n",
       "      <th>8</th>\n",
       "      <td>Global Medical Data Scientist</td>\n",
       "      <td>GlaxoSmithKline Pharmaceuticals Limited</td>\n",
       "      <td>medical voice of customer feedback, customer l...</td>\n",
       "      <td>Bengaluru</td>\n",
       "    </tr>\n",
       "    <tr>\n",
       "      <th>9</th>\n",
       "      <td>Advanced Architect - Data Scientist</td>\n",
       "      <td>Mphasis Limited</td>\n",
       "      <td>Experience working with enterprise architectur...</td>\n",
       "      <td>Bengaluru</td>\n",
       "    </tr>\n",
       "  </tbody>\n",
       "</table>\n",
       "</div>"
      ],
      "text/plain": [
       "                                           Job Title  \\\n",
       "0  Fresher Data Engineer / Data Scientist / Data ...   \n",
       "1  Immediate opening For Data Scientist/Data Analyst   \n",
       "2  Lead Data Scientist - Machine Learning/ Data M...   \n",
       "3                      Data Scientist / Data Analyst   \n",
       "4           Explore job openings on Data Scientist!!   \n",
       "5  Senior Principal Software Engineer - IT ( Data...   \n",
       "6                              Senior Data Scientist   \n",
       "7             Machine Learning Lead / Data Scientist   \n",
       "8                      Global Medical Data Scientist   \n",
       "9                Advanced Architect - Data Scientist   \n",
       "\n",
       "                                        Company Name  \\\n",
       "0                      ACHYUTAS SOFT PRIVATE LIMITED   \n",
       "1  CAIA-Center For Artificial Intelligence & Adva...   \n",
       "2                       Wrackle Technologies Pvt Ltd   \n",
       "3                          Altimetrik India Pvt. Ltd   \n",
       "4                          Bristlecone India Limited   \n",
       "5   Dell International Services IndiaPrivate Limited   \n",
       "6                                            Signify   \n",
       "7                  Morgan Stanley Advantage Services   \n",
       "8            GlaxoSmithKline Pharmaceuticals Limited   \n",
       "9                                    Mphasis Limited   \n",
       "\n",
       "                                         Description  \\\n",
       "0  Building and iterating reports (with eventual ...   \n",
       "1  In case you are trying to shift your career to...   \n",
       "2  BS / MS/PhD in Computer Science, Statistics, A...   \n",
       "3  data analytics, or business intelligence exper...   \n",
       "4  Hands-on python programming with experience de...   \n",
       "5  Proficiency in Python or R, Tableu especially ...   \n",
       "6  PhD / Masters / BTech in computer science, com...   \n",
       "7  The Technology & Operations Risk (TOR) organiz...   \n",
       "8  medical voice of customer feedback, customer l...   \n",
       "9  Experience working with enterprise architectur...   \n",
       "\n",
       "                              Location  \n",
       "0      Delhi NCR, Bengaluru, Hyderabad  \n",
       "1  Chennai, Pune, Bengaluru, Hyderabad  \n",
       "2                            Bengaluru  \n",
       "3                            Bengaluru  \n",
       "4              Pune, Mumbai, Bengaluru  \n",
       "5                            Bengaluru  \n",
       "6                            Bengaluru  \n",
       "7                            Bengaluru  \n",
       "8                            Bengaluru  \n",
       "9                            Bengaluru  "
      ]
     },
     "execution_count": 70,
     "metadata": {},
     "output_type": "execute_result"
    }
   ],
   "source": [
    "Naukri_DS_Scrape=pd.DataFrame({})\n",
    "Naukri_DS_Scrape['Job Title']=titles1[0:10]\n",
    "Naukri_DS_Scrape['Company Name']=company1[0:10]\n",
    "Naukri_DS_Scrape['Description']=description[0:10]\n",
    "Naukri_DS_Scrape['Location']=location1[0:10]\n",
    "Naukri_DS_Scrape"
   ]
  },
  {
   "cell_type": "code",
   "execution_count": 71,
   "metadata": {},
   "outputs": [],
   "source": [
    "#Naukri_DS_Scrape.to_csv(\"Naukri_2\")"
   ]
  },
  {
   "cell_type": "markdown",
   "metadata": {},
   "source": [
    "### 3. Naukri_3"
   ]
  },
  {
   "cell_type": "code",
   "execution_count": 3,
   "metadata": {},
   "outputs": [],
   "source": [
    "driver=webdriver.Chrome(\"D:\\Drivers\\chrome\\chromedriver.exe\")\n",
    "url=\"https://www.naukri.com/\"\n",
    "driver.get(url)\n",
    "driver.find_element_by_xpath('//input[@class=\"sugInp\"]').send_keys(\"Data Scientist\")\n",
    "driver.find_element_by_xpath('//div[@class=\"search-btn\"]').click()"
   ]
  },
  {
   "cell_type": "code",
   "execution_count": 8,
   "metadata": {},
   "outputs": [],
   "source": [
    "d1=driver.find_elements_by_id('chk-Delhi/NCR-cityType-')"
   ]
  },
  {
   "cell_type": "code",
   "execution_count": 9,
   "metadata": {},
   "outputs": [
    {
     "data": {
      "text/plain": [
       "[<selenium.webdriver.remote.webelement.WebElement (session=\"cdef6ba91a5bdfe9584635ea008a8ab0\", element=\"be4af0f2-1341-488d-bf8f-9ce304ea728c\")>]"
      ]
     },
     "execution_count": 9,
     "metadata": {},
     "output_type": "execute_result"
    }
   ],
   "source": [
    "d1"
   ]
  },
  {
   "cell_type": "code",
   "execution_count": 10,
   "metadata": {},
   "outputs": [],
   "source": [
    "driver.find_element_by_xpath('//div[@class=\"mt-8 chckBoxCont\"][2]').click()"
   ]
  },
  {
   "cell_type": "code",
   "execution_count": 12,
   "metadata": {},
   "outputs": [],
   "source": [
    "driver.find_element_by_xpath('//div[@class=\"filterContainer bgWhite br4\"][3]/div[2]/div[2]').click()"
   ]
  },
  {
   "cell_type": "code",
   "execution_count": 13,
   "metadata": {},
   "outputs": [],
   "source": [
    "titles=[]\n",
    "location=[]\n",
    "company=[]\n",
    "experience=[]"
   ]
  },
  {
   "cell_type": "code",
   "execution_count": 14,
   "metadata": {},
   "outputs": [],
   "source": [
    "title_tags=driver.find_elements_by_xpath('//a[@class=\"title fw500 ellipsis\"]')"
   ]
  },
  {
   "cell_type": "code",
   "execution_count": 16,
   "metadata": {},
   "outputs": [
    {
     "data": {
      "text/plain": [
       "['Fresher Data Engineer / Data Scientist / Data Analyst Requirements',\n",
       " 'Data Scientist - Python/Machine Learning',\n",
       " 'Data Scientist',\n",
       " 'Only Fresher / Data Scientist / Data Analyst / Business Analytics- MNC']"
      ]
     },
     "execution_count": 16,
     "metadata": {},
     "output_type": "execute_result"
    }
   ],
   "source": [
    "for i in title_tags:\n",
    "    title=i.text\n",
    "    titles.append(title)\n",
    "titles[0:4]"
   ]
  },
  {
   "cell_type": "code",
   "execution_count": 17,
   "metadata": {},
   "outputs": [],
   "source": [
    "company_tags=driver.find_elements_by_xpath('//a[@class=\"subTitle ellipsis fleft\"]')"
   ]
  },
  {
   "cell_type": "code",
   "execution_count": 18,
   "metadata": {},
   "outputs": [
    {
     "data": {
      "text/plain": [
       "['ACHYUTAS SOFT PRIVATE LIMITED',\n",
       " 'Jubna',\n",
       " 'IBM India Pvt. Limited',\n",
       " 'GABA Consultancy services']"
      ]
     },
     "execution_count": 18,
     "metadata": {},
     "output_type": "execute_result"
    }
   ],
   "source": [
    "for i in company_tags:\n",
    "    companynames=i.text\n",
    "    company.append(companynames)\n",
    "company[0:4]"
   ]
  },
  {
   "cell_type": "code",
   "execution_count": 19,
   "metadata": {},
   "outputs": [],
   "source": [
    "exp_tags=driver.find_elements_by_xpath('//li[@class=\"fleft grey-text br2 placeHolderLi experience\"]')"
   ]
  },
  {
   "cell_type": "code",
   "execution_count": 20,
   "metadata": {},
   "outputs": [
    {
     "data": {
      "text/plain": [
       "['0-2 Yrs', '5-8 Yrs', '4-8 Yrs', '0-0 Yrs']"
      ]
     },
     "execution_count": 20,
     "metadata": {},
     "output_type": "execute_result"
    }
   ],
   "source": [
    "for i in exp_tags:\n",
    "    exper=i.text\n",
    "    experience.append(exper)\n",
    "experience[0:4]"
   ]
  },
  {
   "cell_type": "code",
   "execution_count": 21,
   "metadata": {},
   "outputs": [],
   "source": [
    "loc_tags=driver.find_elements_by_xpath('//li[@class=\"fleft grey-text br2 placeHolderLi location\"]')"
   ]
  },
  {
   "cell_type": "code",
   "execution_count": 22,
   "metadata": {},
   "outputs": [
    {
     "data": {
      "text/plain": [
       "['Delhi NCR, Bengaluru, Hyderabad',\n",
       " 'Noida',\n",
       " 'Gurgaon Gurugram',\n",
       " 'Delhi NCR, Noida, Gurgaon']"
      ]
     },
     "execution_count": 22,
     "metadata": {},
     "output_type": "execute_result"
    }
   ],
   "source": [
    "for i in loc_tags:\n",
    "    locations=i.text\n",
    "    location.append(locations)\n",
    "location[0:4]"
   ]
  },
  {
   "cell_type": "code",
   "execution_count": 23,
   "metadata": {},
   "outputs": [
    {
     "data": {
      "text/html": [
       "<div>\n",
       "<style scoped>\n",
       "    .dataframe tbody tr th:only-of-type {\n",
       "        vertical-align: middle;\n",
       "    }\n",
       "\n",
       "    .dataframe tbody tr th {\n",
       "        vertical-align: top;\n",
       "    }\n",
       "\n",
       "    .dataframe thead th {\n",
       "        text-align: right;\n",
       "    }\n",
       "</style>\n",
       "<table border=\"1\" class=\"dataframe\">\n",
       "  <thead>\n",
       "    <tr style=\"text-align: right;\">\n",
       "      <th></th>\n",
       "      <th>Job Title</th>\n",
       "      <th>Company Name</th>\n",
       "      <th>Experience Required</th>\n",
       "      <th>Location</th>\n",
       "    </tr>\n",
       "  </thead>\n",
       "  <tbody>\n",
       "    <tr>\n",
       "      <th>0</th>\n",
       "      <td>Fresher Data Engineer / Data Scientist / Data ...</td>\n",
       "      <td>ACHYUTAS SOFT PRIVATE LIMITED</td>\n",
       "      <td>0-2 Yrs</td>\n",
       "      <td>Delhi NCR, Bengaluru, Hyderabad</td>\n",
       "    </tr>\n",
       "    <tr>\n",
       "      <th>1</th>\n",
       "      <td>Data Scientist - Python/Machine Learning</td>\n",
       "      <td>Jubna</td>\n",
       "      <td>5-8 Yrs</td>\n",
       "      <td>Noida</td>\n",
       "    </tr>\n",
       "    <tr>\n",
       "      <th>2</th>\n",
       "      <td>Data Scientist</td>\n",
       "      <td>IBM India Pvt. Limited</td>\n",
       "      <td>4-8 Yrs</td>\n",
       "      <td>Gurgaon Gurugram</td>\n",
       "    </tr>\n",
       "    <tr>\n",
       "      <th>3</th>\n",
       "      <td>Only Fresher / Data Scientist / Data Analyst /...</td>\n",
       "      <td>GABA Consultancy services</td>\n",
       "      <td>0-0 Yrs</td>\n",
       "      <td>Delhi NCR, Noida, Gurgaon</td>\n",
       "    </tr>\n",
       "    <tr>\n",
       "      <th>4</th>\n",
       "      <td>Data Scientist</td>\n",
       "      <td>PureSoftware Pvt Ltd.</td>\n",
       "      <td>5-9 Yrs</td>\n",
       "      <td>Gurgaon</td>\n",
       "    </tr>\n",
       "    <tr>\n",
       "      <th>5</th>\n",
       "      <td>Only Fresher / Data Scientist / Data Analyst /...</td>\n",
       "      <td>GABA Consultancy services</td>\n",
       "      <td>0-0 Yrs</td>\n",
       "      <td>Delhi NCR, Greater Noida, Noida</td>\n",
       "    </tr>\n",
       "    <tr>\n",
       "      <th>6</th>\n",
       "      <td>Data Scientist</td>\n",
       "      <td>Air Asia India Limited</td>\n",
       "      <td>1-4 Yrs</td>\n",
       "      <td>Delhi NCR, Gurgaon</td>\n",
       "    </tr>\n",
       "    <tr>\n",
       "      <th>7</th>\n",
       "      <td>Lead Data Scientist</td>\n",
       "      <td>NEC CORPORATION INDIA PRIVATE LTD</td>\n",
       "      <td>9-14 Yrs</td>\n",
       "      <td>Delhi NCR, Noida(Sector-142 Noida)</td>\n",
       "    </tr>\n",
       "    <tr>\n",
       "      <th>8</th>\n",
       "      <td>Excellent opportunity For Lead Data Scientist ...</td>\n",
       "      <td>NEC CORPORATION INDIA PRIVATE LTD</td>\n",
       "      <td>9-14 Yrs</td>\n",
       "      <td>Delhi NCR(Sector-142 Noida), Noida</td>\n",
       "    </tr>\n",
       "    <tr>\n",
       "      <th>9</th>\n",
       "      <td>Lead Data Scientist</td>\n",
       "      <td>NEC CORPORATION INDIA PRIVATE LTD</td>\n",
       "      <td>9-14 Yrs</td>\n",
       "      <td>Delhi NCR, Noida(Sector-142 Noida)</td>\n",
       "    </tr>\n",
       "  </tbody>\n",
       "</table>\n",
       "</div>"
      ],
      "text/plain": [
       "                                           Job Title  \\\n",
       "0  Fresher Data Engineer / Data Scientist / Data ...   \n",
       "1           Data Scientist - Python/Machine Learning   \n",
       "2                                     Data Scientist   \n",
       "3  Only Fresher / Data Scientist / Data Analyst /...   \n",
       "4                                     Data Scientist   \n",
       "5  Only Fresher / Data Scientist / Data Analyst /...   \n",
       "6                                     Data Scientist   \n",
       "7                                Lead Data Scientist   \n",
       "8  Excellent opportunity For Lead Data Scientist ...   \n",
       "9                                Lead Data Scientist   \n",
       "\n",
       "                        Company Name Experience Required  \\\n",
       "0      ACHYUTAS SOFT PRIVATE LIMITED             0-2 Yrs   \n",
       "1                              Jubna             5-8 Yrs   \n",
       "2             IBM India Pvt. Limited             4-8 Yrs   \n",
       "3          GABA Consultancy services             0-0 Yrs   \n",
       "4              PureSoftware Pvt Ltd.             5-9 Yrs   \n",
       "5          GABA Consultancy services             0-0 Yrs   \n",
       "6             Air Asia India Limited             1-4 Yrs   \n",
       "7  NEC CORPORATION INDIA PRIVATE LTD            9-14 Yrs   \n",
       "8  NEC CORPORATION INDIA PRIVATE LTD            9-14 Yrs   \n",
       "9  NEC CORPORATION INDIA PRIVATE LTD            9-14 Yrs   \n",
       "\n",
       "                             Location  \n",
       "0     Delhi NCR, Bengaluru, Hyderabad  \n",
       "1                               Noida  \n",
       "2                    Gurgaon Gurugram  \n",
       "3           Delhi NCR, Noida, Gurgaon  \n",
       "4                             Gurgaon  \n",
       "5     Delhi NCR, Greater Noida, Noida  \n",
       "6                  Delhi NCR, Gurgaon  \n",
       "7  Delhi NCR, Noida(Sector-142 Noida)  \n",
       "8  Delhi NCR(Sector-142 Noida), Noida  \n",
       "9  Delhi NCR, Noida(Sector-142 Noida)  "
      ]
     },
     "execution_count": 23,
     "metadata": {},
     "output_type": "execute_result"
    }
   ],
   "source": [
    "Naukri_DA_Fil=pd.DataFrame({})\n",
    "Naukri_DA_Fil['Job Title']=titles[0:10]\n",
    "Naukri_DA_Fil['Company Name']=company[0:10]\n",
    "Naukri_DA_Fil['Experience Required']=experience[0:10]\n",
    "Naukri_DA_Fil['Location']=location[0:10]\n",
    "Naukri_DA_Fil"
   ]
  },
  {
   "cell_type": "markdown",
   "metadata": {},
   "source": [
    "### 4. GlassDoor_ DS_Noida"
   ]
  },
  {
   "cell_type": "code",
   "execution_count": 3,
   "metadata": {},
   "outputs": [],
   "source": [
    "driver=webdriver.Chrome(\"D:\\Drivers\\chrome\\chromedriver.exe\")\n",
    "url=\"https://www.glassdoor.co.in/index.htm\"\n",
    "driver.get(url)"
   ]
  },
  {
   "cell_type": "code",
   "execution_count": 9,
   "metadata": {},
   "outputs": [],
   "source": [
    "driver.find_element_by_xpath('//input[@id=\"sc.keyword\"]').send_keys(\"Data Scientist\")\n",
    "#driver.find_element_by_xpath('//div[@class=\"search-btn\"]').click()"
   ]
  },
  {
   "cell_type": "code",
   "execution_count": 10,
   "metadata": {},
   "outputs": [],
   "source": [
    "driver.find_element_by_xpath('//input[@id=\"sc.location\"]').send_keys(\"Noida\")"
   ]
  },
  {
   "cell_type": "code",
   "execution_count": 11,
   "metadata": {},
   "outputs": [],
   "source": [
    "driver.find_element_by_xpath('//button[@class=\"gd-ui-button ml-std col-auto SearchStyles__newSearchButton css-iixdfr\"]').click()"
   ]
  },
  {
   "cell_type": "code",
   "execution_count": 12,
   "metadata": {},
   "outputs": [],
   "source": [
    "name=[]\n",
    "days=[]\n",
    "rating=[]"
   ]
  },
  {
   "cell_type": "code",
   "execution_count": 13,
   "metadata": {},
   "outputs": [],
   "source": [
    "name_tags=driver.find_elements_by_xpath('//a[@class=\" css-10l5u4p e1n63ojh0 jobLink\"]/span')"
   ]
  },
  {
   "cell_type": "code",
   "execution_count": 14,
   "metadata": {},
   "outputs": [
    {
     "data": {
      "text/plain": [
       "['Genpact', 'IHS Markit', 'Techlive', 'Biz2Credit Inc']"
      ]
     },
     "execution_count": 14,
     "metadata": {},
     "output_type": "execute_result"
    }
   ],
   "source": [
    "for i in name_tags:\n",
    "    names=i.text\n",
    "    name.append(names)\n",
    "name[0:4]"
   ]
  },
  {
   "cell_type": "code",
   "execution_count": 15,
   "metadata": {},
   "outputs": [],
   "source": [
    "days_tags=driver.find_elements_by_xpath('//div[@class=\"d-flex align-items-end pl-std css-mi55ob\"]')"
   ]
  },
  {
   "cell_type": "code",
   "execution_count": 17,
   "metadata": {},
   "outputs": [
    {
     "data": {
      "text/plain": [
       "['27d', '2d', '24h', '2d']"
      ]
     },
     "execution_count": 17,
     "metadata": {},
     "output_type": "execute_result"
    }
   ],
   "source": [
    "for i in days_tags:\n",
    "    day=i.text\n",
    "    days.append(day)\n",
    "days[0:4]"
   ]
  },
  {
   "cell_type": "code",
   "execution_count": 18,
   "metadata": {},
   "outputs": [],
   "source": [
    "rating_tags=driver.find_elements_by_xpath('//span[@class=\"compactStars \"]')"
   ]
  },
  {
   "cell_type": "code",
   "execution_count": 19,
   "metadata": {},
   "outputs": [
    {
     "data": {
      "text/plain": [
       "['3.8', '4', '5', '3.7']"
      ]
     },
     "execution_count": 19,
     "metadata": {},
     "output_type": "execute_result"
    }
   ],
   "source": [
    "for i in rating_tags:\n",
    "    ratings=i.text\n",
    "    rating.append(ratings)\n",
    "rating[0:4]"
   ]
  },
  {
   "cell_type": "code",
   "execution_count": 20,
   "metadata": {
    "scrolled": true
   },
   "outputs": [
    {
     "data": {
      "text/html": [
       "<div>\n",
       "<style scoped>\n",
       "    .dataframe tbody tr th:only-of-type {\n",
       "        vertical-align: middle;\n",
       "    }\n",
       "\n",
       "    .dataframe tbody tr th {\n",
       "        vertical-align: top;\n",
       "    }\n",
       "\n",
       "    .dataframe thead th {\n",
       "        text-align: right;\n",
       "    }\n",
       "</style>\n",
       "<table border=\"1\" class=\"dataframe\">\n",
       "  <thead>\n",
       "    <tr style=\"text-align: right;\">\n",
       "      <th></th>\n",
       "      <th>Comapny Name</th>\n",
       "      <th>Days_since_Posted</th>\n",
       "      <th>Rating</th>\n",
       "    </tr>\n",
       "  </thead>\n",
       "  <tbody>\n",
       "    <tr>\n",
       "      <th>0</th>\n",
       "      <td>Genpact</td>\n",
       "      <td>27d</td>\n",
       "      <td>3.8</td>\n",
       "    </tr>\n",
       "    <tr>\n",
       "      <th>1</th>\n",
       "      <td>IHS Markit</td>\n",
       "      <td>2d</td>\n",
       "      <td>4</td>\n",
       "    </tr>\n",
       "    <tr>\n",
       "      <th>2</th>\n",
       "      <td>Techlive</td>\n",
       "      <td>24h</td>\n",
       "      <td>5</td>\n",
       "    </tr>\n",
       "    <tr>\n",
       "      <th>3</th>\n",
       "      <td>Biz2Credit Inc</td>\n",
       "      <td>2d</td>\n",
       "      <td>3.7</td>\n",
       "    </tr>\n",
       "    <tr>\n",
       "      <th>4</th>\n",
       "      <td>Algoscale</td>\n",
       "      <td>21d</td>\n",
       "      <td>3.7</td>\n",
       "    </tr>\n",
       "    <tr>\n",
       "      <th>5</th>\n",
       "      <td>Gauge Data Solutions</td>\n",
       "      <td>21d</td>\n",
       "      <td>3.1</td>\n",
       "    </tr>\n",
       "    <tr>\n",
       "      <th>6</th>\n",
       "      <td>Priority Vendor</td>\n",
       "      <td>21d</td>\n",
       "      <td>4</td>\n",
       "    </tr>\n",
       "    <tr>\n",
       "      <th>7</th>\n",
       "      <td>SearchUrCollege</td>\n",
       "      <td>21d</td>\n",
       "      <td>4.4</td>\n",
       "    </tr>\n",
       "    <tr>\n",
       "      <th>8</th>\n",
       "      <td>Axslogic</td>\n",
       "      <td>20d</td>\n",
       "      <td>4.1</td>\n",
       "    </tr>\n",
       "    <tr>\n",
       "      <th>9</th>\n",
       "      <td>Ank Aha</td>\n",
       "      <td>21d</td>\n",
       "      <td>4</td>\n",
       "    </tr>\n",
       "  </tbody>\n",
       "</table>\n",
       "</div>"
      ],
      "text/plain": [
       "           Comapny Name Days_since_Posted Rating\n",
       "0               Genpact               27d    3.8\n",
       "1            IHS Markit                2d      4\n",
       "2              Techlive               24h      5\n",
       "3        Biz2Credit Inc                2d    3.7\n",
       "4             Algoscale               21d    3.7\n",
       "5  Gauge Data Solutions               21d    3.1\n",
       "6       Priority Vendor               21d      4\n",
       "7       SearchUrCollege               21d    4.4\n",
       "8              Axslogic               20d    4.1\n",
       "9               Ank Aha               21d      4"
      ]
     },
     "execution_count": 20,
     "metadata": {},
     "output_type": "execute_result"
    }
   ],
   "source": [
    "GlassDoor_DS=pd.DataFrame({})\n",
    "GlassDoor_DS['Comapny Name']=name[0:10]\n",
    "GlassDoor_DS['Days_since_Posted']=days[0:10]\n",
    "GlassDoor_DS['Rating']=rating[0:10]\n",
    "GlassDoor_DS"
   ]
  },
  {
   "cell_type": "markdown",
   "metadata": {},
   "source": [
    "### 5. GlassDoor-Salary"
   ]
  },
  {
   "cell_type": "code",
   "execution_count": 21,
   "metadata": {},
   "outputs": [],
   "source": [
    "driver=webdriver.Chrome(\"D:\\Drivers\\chrome\\chromedriver.exe\")\n",
    "url=\"https://www.glassdoor.co.in/Salaries/index.htm\"\n",
    "driver.get(url)"
   ]
  },
  {
   "cell_type": "code",
   "execution_count": 23,
   "metadata": {},
   "outputs": [],
   "source": [
    "driver.find_element_by_xpath('//input[@name=\"sc.keyword\"]').send_keys(\"Data Scientist\")"
   ]
  },
  {
   "cell_type": "code",
   "execution_count": 24,
   "metadata": {},
   "outputs": [],
   "source": [
    "driver.find_element_by_xpath('//input[@id=\"LocationSearch\"]').send_keys(\"Noida\")"
   ]
  },
  {
   "cell_type": "code",
   "execution_count": 25,
   "metadata": {},
   "outputs": [],
   "source": [
    "driver.find_element_by_xpath('//button[@class=\"gd-btn-mkt\"]').click()"
   ]
  },
  {
   "cell_type": "code",
   "execution_count": 26,
   "metadata": {},
   "outputs": [],
   "source": [
    "company=[]\n",
    "mini=[]\n",
    "maxi=[]\n",
    "avg=[]"
   ]
  },
  {
   "cell_type": "code",
   "execution_count": 30,
   "metadata": {},
   "outputs": [],
   "source": [
    "comp_tag=driver.find_elements_by_xpath('//div[@class=\"d-flex\"]/div[2]/p[2]')"
   ]
  },
  {
   "cell_type": "code",
   "execution_count": 31,
   "metadata": {},
   "outputs": [
    {
     "data": {
      "text/plain": [
       "['Delhivery', 'Accenture', 'IBM', 'Ericsson-Worldwide']"
      ]
     },
     "execution_count": 31,
     "metadata": {},
     "output_type": "execute_result"
    }
   ],
   "source": [
    "for i in comp_tag:\n",
    "    companies=i.text\n",
    "    company.append(companies)\n",
    "company[0:4]"
   ]
  },
  {
   "cell_type": "code",
   "execution_count": 32,
   "metadata": {},
   "outputs": [],
   "source": [
    "mini_tag=driver.find_elements_by_xpath('//div[@class=\"common__RangeBarStyle__values common__flex__justifySpaceBetween common__flex__container \"]/span[1]')"
   ]
  },
  {
   "cell_type": "code",
   "execution_count": 33,
   "metadata": {},
   "outputs": [
    {
     "data": {
      "text/plain": [
       "['₹705K', '₹571K', '₹580K', '₹468K']"
      ]
     },
     "execution_count": 33,
     "metadata": {},
     "output_type": "execute_result"
    }
   ],
   "source": [
    "for i in mini_tag:\n",
    "    minim=i.text\n",
    "    mini.append(minim)\n",
    "mini[0:4]"
   ]
  },
  {
   "cell_type": "code",
   "execution_count": 34,
   "metadata": {},
   "outputs": [],
   "source": [
    "maxi_tag=driver.find_elements_by_xpath('//div[@class=\"common__RangeBarStyle__values common__flex__justifySpaceBetween common__flex__container \"]/span[2]')"
   ]
  },
  {
   "cell_type": "code",
   "execution_count": 35,
   "metadata": {},
   "outputs": [
    {
     "data": {
      "text/plain": [
       "['₹11,495K', '₹2,200K', '₹2,700K', '₹1,595K']"
      ]
     },
     "execution_count": 35,
     "metadata": {},
     "output_type": "execute_result"
    }
   ],
   "source": [
    "for i in maxi_tag:\n",
    "    maxim=i.text\n",
    "    maxi.append(maxim)\n",
    "maxi[0:4]"
   ]
  },
  {
   "cell_type": "code",
   "execution_count": 36,
   "metadata": {},
   "outputs": [],
   "source": [
    "avg_tag=driver.find_elements_by_xpath('//div[@class=\"col-2 d-none d-md-flex flex-row justify-content-end\"]/strong')"
   ]
  },
  {
   "cell_type": "code",
   "execution_count": 37,
   "metadata": {},
   "outputs": [
    {
     "data": {
      "text/plain": [
       "['₹ 12,83,026', '₹ 11,19,272', '₹ 7,52,445', '₹ 8,28,000']"
      ]
     },
     "execution_count": 37,
     "metadata": {},
     "output_type": "execute_result"
    }
   ],
   "source": [
    "for i in avg_tag:\n",
    "    avgs=i.text\n",
    "    avg.append(avgs)\n",
    "avg[0:4]"
   ]
  },
  {
   "cell_type": "code",
   "execution_count": 38,
   "metadata": {},
   "outputs": [
    {
     "data": {
      "text/html": [
       "<div>\n",
       "<style scoped>\n",
       "    .dataframe tbody tr th:only-of-type {\n",
       "        vertical-align: middle;\n",
       "    }\n",
       "\n",
       "    .dataframe tbody tr th {\n",
       "        vertical-align: top;\n",
       "    }\n",
       "\n",
       "    .dataframe thead th {\n",
       "        text-align: right;\n",
       "    }\n",
       "</style>\n",
       "<table border=\"1\" class=\"dataframe\">\n",
       "  <thead>\n",
       "    <tr style=\"text-align: right;\">\n",
       "      <th></th>\n",
       "      <th>Comapny Name</th>\n",
       "      <th>Minimum Salary</th>\n",
       "      <th>Maximum Salary</th>\n",
       "      <th>Average Salary</th>\n",
       "    </tr>\n",
       "  </thead>\n",
       "  <tbody>\n",
       "    <tr>\n",
       "      <th>0</th>\n",
       "      <td>Delhivery</td>\n",
       "      <td>₹705K</td>\n",
       "      <td>₹11,495K</td>\n",
       "      <td>₹ 12,83,026</td>\n",
       "    </tr>\n",
       "    <tr>\n",
       "      <th>1</th>\n",
       "      <td>Accenture</td>\n",
       "      <td>₹571K</td>\n",
       "      <td>₹2,200K</td>\n",
       "      <td>₹ 11,19,272</td>\n",
       "    </tr>\n",
       "    <tr>\n",
       "      <th>2</th>\n",
       "      <td>IBM</td>\n",
       "      <td>₹580K</td>\n",
       "      <td>₹2,700K</td>\n",
       "      <td>₹ 7,52,445</td>\n",
       "    </tr>\n",
       "    <tr>\n",
       "      <th>3</th>\n",
       "      <td>Ericsson-Worldwide</td>\n",
       "      <td>₹468K</td>\n",
       "      <td>₹1,595K</td>\n",
       "      <td>₹ 8,28,000</td>\n",
       "    </tr>\n",
       "    <tr>\n",
       "      <th>4</th>\n",
       "      <td>UnitedHealth Group</td>\n",
       "      <td>₹708K</td>\n",
       "      <td>₹1,557K</td>\n",
       "      <td>₹ 13,21,601</td>\n",
       "    </tr>\n",
       "    <tr>\n",
       "      <th>5</th>\n",
       "      <td>Analytics Vidhya</td>\n",
       "      <td>₹14K</td>\n",
       "      <td>₹22K</td>\n",
       "      <td>₹ 20,889</td>\n",
       "    </tr>\n",
       "    <tr>\n",
       "      <th>6</th>\n",
       "      <td>Tata Consultancy Services</td>\n",
       "      <td>₹488K</td>\n",
       "      <td>₹1,000K</td>\n",
       "      <td>₹ 6,33,432</td>\n",
       "    </tr>\n",
       "    <tr>\n",
       "      <th>7</th>\n",
       "      <td>Cognizant Technology Solutions</td>\n",
       "      <td>₹784K</td>\n",
       "      <td>₹1,250K</td>\n",
       "      <td>₹ 9,96,446</td>\n",
       "    </tr>\n",
       "    <tr>\n",
       "      <th>8</th>\n",
       "      <td>Valiance Solutions</td>\n",
       "      <td>₹496K</td>\n",
       "      <td>₹1,138K</td>\n",
       "      <td>₹ 7,71,320</td>\n",
       "    </tr>\n",
       "    <tr>\n",
       "      <th>9</th>\n",
       "      <td>Vidooly Media Tech</td>\n",
       "      <td>₹8K</td>\n",
       "      <td>₹20K</td>\n",
       "      <td>₹ 12,669</td>\n",
       "    </tr>\n",
       "  </tbody>\n",
       "</table>\n",
       "</div>"
      ],
      "text/plain": [
       "                     Comapny Name Minimum Salary Maximum Salary Average Salary\n",
       "0                       Delhivery          ₹705K       ₹11,495K    ₹ 12,83,026\n",
       "1                       Accenture          ₹571K        ₹2,200K    ₹ 11,19,272\n",
       "2                             IBM          ₹580K        ₹2,700K     ₹ 7,52,445\n",
       "3              Ericsson-Worldwide          ₹468K        ₹1,595K     ₹ 8,28,000\n",
       "4              UnitedHealth Group          ₹708K        ₹1,557K    ₹ 13,21,601\n",
       "5                Analytics Vidhya           ₹14K           ₹22K       ₹ 20,889\n",
       "6       Tata Consultancy Services          ₹488K        ₹1,000K     ₹ 6,33,432\n",
       "7  Cognizant Technology Solutions          ₹784K        ₹1,250K     ₹ 9,96,446\n",
       "8              Valiance Solutions          ₹496K        ₹1,138K     ₹ 7,71,320\n",
       "9              Vidooly Media Tech            ₹8K           ₹20K       ₹ 12,669"
      ]
     },
     "execution_count": 38,
     "metadata": {},
     "output_type": "execute_result"
    }
   ],
   "source": [
    "GlassDoor_DS_Sal=pd.DataFrame({})\n",
    "GlassDoor_DS_Sal['Comapny Name']=company[0:10]\n",
    "GlassDoor_DS_Sal['Minimum Salary']=mini[0:10]\n",
    "GlassDoor_DS_Sal['Maximum Salary']=maxi[0:10]\n",
    "GlassDoor_DS_Sal['Average Salary']=avg[0:10]\n",
    "GlassDoor_DS_Sal"
   ]
  },
  {
   "cell_type": "markdown",
   "metadata": {},
   "source": [
    "### 6. Flipkart- SunGlasses"
   ]
  },
  {
   "cell_type": "code",
   "execution_count": 3,
   "metadata": {},
   "outputs": [],
   "source": [
    "driver=webdriver.Chrome(\"D:\\Drivers\\chrome\\chromedriver.exe\")\n",
    "url=\"https://www.flipkart.com/\"\n",
    "driver.get(url)"
   ]
  },
  {
   "cell_type": "code",
   "execution_count": 4,
   "metadata": {},
   "outputs": [],
   "source": [
    "driver.find_element_by_xpath('//input[@type=\"text\"]').send_keys('sunglasses')"
   ]
  },
  {
   "cell_type": "code",
   "execution_count": 5,
   "metadata": {},
   "outputs": [],
   "source": [
    "driver.find_element_by_xpath('//button[@class=\"L0Z3Pu\"]').click()"
   ]
  },
  {
   "cell_type": "code",
   "execution_count": 6,
   "metadata": {},
   "outputs": [],
   "source": [
    "brand=[]\n",
    "descr=[]\n",
    "price=[]\n",
    "disc=[]"
   ]
  },
  {
   "cell_type": "code",
   "execution_count": 7,
   "metadata": {},
   "outputs": [],
   "source": [
    "brand_tags=driver.find_elements_by_xpath('//div[@class=\"_2WkVRV\"]')"
   ]
  },
  {
   "cell_type": "code",
   "execution_count": 8,
   "metadata": {},
   "outputs": [
    {
     "data": {
      "text/plain": [
       "['Spexra', 'ROYAL SON', 'FDA COLLECTION', 'JOHAENA']"
      ]
     },
     "execution_count": 8,
     "metadata": {},
     "output_type": "execute_result"
    }
   ],
   "source": [
    "for i in brand_tags:\n",
    "    brands=i.text\n",
    "    brand.append(brands)\n",
    "brand[0:4]"
   ]
  },
  {
   "cell_type": "code",
   "execution_count": 9,
   "metadata": {},
   "outputs": [],
   "source": [
    "desc_tags=driver.find_elements_by_xpath('//a[@class=\"_2B099V\"]')"
   ]
  },
  {
   "cell_type": "code",
   "execution_count": 10,
   "metadata": {},
   "outputs": [
    {
     "data": {
      "text/plain": [
       "['UV Protection Retro Square Sunglasses (88)',\n",
       " 'Gradient, Mirrored, UV Protection Round, Round, Round S...',\n",
       " 'Gradient, Mirrored, UV Protection Round, Round, Round S...',\n",
       " 'Gradient, Mirrored, UV Protection, Polarized Round, Rou...']"
      ]
     },
     "execution_count": 10,
     "metadata": {},
     "output_type": "execute_result"
    }
   ],
   "source": [
    "for i in desc_tags:\n",
    "    descrip=i.text\n",
    "    desc.append(descrip)\n",
    "desc[0:4]"
   ]
  },
  {
   "cell_type": "code",
   "execution_count": 11,
   "metadata": {},
   "outputs": [],
   "source": [
    "price_tags=driver.find_elements_by_xpath('//div[@class=\"_30jeq3\"]')"
   ]
  },
  {
   "cell_type": "code",
   "execution_count": 12,
   "metadata": {},
   "outputs": [
    {
     "data": {
      "text/plain": [
       "['₹569', '₹664', '₹199', '₹188']"
      ]
     },
     "execution_count": 12,
     "metadata": {},
     "output_type": "execute_result"
    }
   ],
   "source": [
    "for i in price_tags:\n",
    "    prices=i.text\n",
    "    price.append(prices)\n",
    "price[0:4]"
   ]
  },
  {
   "cell_type": "code",
   "execution_count": 13,
   "metadata": {},
   "outputs": [],
   "source": [
    "disc_tags=driver.find_elements_by_xpath('//div[@class=\"_3Ay6Sb\"]')"
   ]
  },
  {
   "cell_type": "code",
   "execution_count": 14,
   "metadata": {},
   "outputs": [
    {
     "data": {
      "text/plain": [
       "['71% off', '66% off', '84% off', '87% off']"
      ]
     },
     "execution_count": 14,
     "metadata": {},
     "output_type": "execute_result"
    }
   ],
   "source": [
    "for i in disc_tags:\n",
    "    discounts=i.text\n",
    "    disc.append(discounts)\n",
    "disc[0:4]"
   ]
  },
  {
   "cell_type": "code",
   "execution_count": 19,
   "metadata": {},
   "outputs": [
    {
     "data": {
      "text/plain": [
       "27"
      ]
     },
     "execution_count": 19,
     "metadata": {},
     "output_type": "execute_result"
    }
   ],
   "source": [
    "len(desc)"
   ]
  },
  {
   "cell_type": "code",
   "execution_count": 20,
   "metadata": {},
   "outputs": [
    {
     "data": {
      "text/html": [
       "<div>\n",
       "<style scoped>\n",
       "    .dataframe tbody tr th:only-of-type {\n",
       "        vertical-align: middle;\n",
       "    }\n",
       "\n",
       "    .dataframe tbody tr th {\n",
       "        vertical-align: top;\n",
       "    }\n",
       "\n",
       "    .dataframe thead th {\n",
       "        text-align: right;\n",
       "    }\n",
       "</style>\n",
       "<table border=\"1\" class=\"dataframe\">\n",
       "  <thead>\n",
       "    <tr style=\"text-align: right;\">\n",
       "      <th></th>\n",
       "      <th>Brand</th>\n",
       "      <th>Description</th>\n",
       "      <th>Price</th>\n",
       "      <th>Discount</th>\n",
       "    </tr>\n",
       "  </thead>\n",
       "  <tbody>\n",
       "    <tr>\n",
       "      <th>0</th>\n",
       "      <td>ROYAL SON</td>\n",
       "      <td>UV Protection Retro Square Sunglasses (88)</td>\n",
       "      <td>₹569</td>\n",
       "      <td>71% off</td>\n",
       "    </tr>\n",
       "    <tr>\n",
       "      <th>1</th>\n",
       "      <td>Royal Son</td>\n",
       "      <td>Gradient, Mirrored, UV Protection Round, Round...</td>\n",
       "      <td>₹664</td>\n",
       "      <td>66% off</td>\n",
       "    </tr>\n",
       "    <tr>\n",
       "      <th>2</th>\n",
       "      <td>FDA COLLECTION</td>\n",
       "      <td>Gradient, Mirrored, UV Protection Round, Round...</td>\n",
       "      <td>₹199</td>\n",
       "      <td>84% off</td>\n",
       "    </tr>\n",
       "    <tr>\n",
       "      <th>3</th>\n",
       "      <td>FDA COLLECTION</td>\n",
       "      <td>Gradient, Mirrored, UV Protection, Polarized R...</td>\n",
       "      <td>₹188</td>\n",
       "      <td>87% off</td>\n",
       "    </tr>\n",
       "    <tr>\n",
       "      <th>4</th>\n",
       "      <td>FDA COLLECTION</td>\n",
       "      <td>UV Protection Wayfarer Sunglasses (Free Size)</td>\n",
       "      <td>₹161</td>\n",
       "      <td>83% off</td>\n",
       "    </tr>\n",
       "    <tr>\n",
       "      <th>5</th>\n",
       "      <td>Fastrack</td>\n",
       "      <td>Riding Glasses, UV Protection Oval Sunglasses ...</td>\n",
       "      <td>₹674</td>\n",
       "      <td>25% off</td>\n",
       "    </tr>\n",
       "    <tr>\n",
       "      <th>6</th>\n",
       "      <td>JOHAENA</td>\n",
       "      <td>Others Round Sunglasses (50)</td>\n",
       "      <td>₹165</td>\n",
       "      <td>87% off</td>\n",
       "    </tr>\n",
       "    <tr>\n",
       "      <th>7</th>\n",
       "      <td>Fossil</td>\n",
       "      <td>UV Protection Rectangular Sunglasses (Free Size)</td>\n",
       "      <td>₹2,070</td>\n",
       "      <td>52% off</td>\n",
       "    </tr>\n",
       "    <tr>\n",
       "      <th>8</th>\n",
       "      <td>Rozzetta Craft</td>\n",
       "      <td>UV Protection Round Sunglasses (54)</td>\n",
       "      <td>₹398</td>\n",
       "      <td>73% off</td>\n",
       "    </tr>\n",
       "    <tr>\n",
       "      <th>9</th>\n",
       "      <td>Winsome</td>\n",
       "      <td>UV Protection, Mirrored, Night Vision, Riding ...</td>\n",
       "      <td>₹158</td>\n",
       "      <td>84% off</td>\n",
       "    </tr>\n",
       "    <tr>\n",
       "      <th>10</th>\n",
       "      <td>shadz</td>\n",
       "      <td>UV Protection Round Sunglasses (Free Size)</td>\n",
       "      <td>₹99</td>\n",
       "      <td>85% off</td>\n",
       "    </tr>\n",
       "    <tr>\n",
       "      <th>11</th>\n",
       "      <td>NuVew</td>\n",
       "      <td>Gradient, UV Protection Wayfarer Sunglasses (F...</td>\n",
       "      <td>₹364</td>\n",
       "      <td>60% off</td>\n",
       "    </tr>\n",
       "    <tr>\n",
       "      <th>12</th>\n",
       "      <td>shah collections</td>\n",
       "      <td>UV Protection, Polarized Retro Square Sunglass...</td>\n",
       "      <td>₹312</td>\n",
       "      <td>75% off</td>\n",
       "    </tr>\n",
       "    <tr>\n",
       "      <th>13</th>\n",
       "      <td>Fastrack</td>\n",
       "      <td>Polarized Aviator Sunglasses (54)</td>\n",
       "      <td>₹559</td>\n",
       "      <td>30% off</td>\n",
       "    </tr>\n",
       "    <tr>\n",
       "      <th>14</th>\n",
       "      <td>shadz</td>\n",
       "      <td>Gradient, UV Protection Aviator Sunglasses (99)</td>\n",
       "      <td>₹189</td>\n",
       "      <td>85% off</td>\n",
       "    </tr>\n",
       "    <tr>\n",
       "      <th>15</th>\n",
       "      <td>Specsmakers</td>\n",
       "      <td>UV Protection, Mirrored, Gradient Retro Square...</td>\n",
       "      <td>₹693</td>\n",
       "      <td>65% off</td>\n",
       "    </tr>\n",
       "    <tr>\n",
       "      <th>16</th>\n",
       "      <td>DAHAAZIL</td>\n",
       "      <td>UV Protection, Mirrored, Gradient Round Sungla...</td>\n",
       "      <td>₹115</td>\n",
       "      <td>76% off</td>\n",
       "    </tr>\n",
       "    <tr>\n",
       "      <th>17</th>\n",
       "      <td>I Flash</td>\n",
       "      <td>UV Protection Aviator Sunglasses (58)</td>\n",
       "      <td>₹165</td>\n",
       "      <td>86% off</td>\n",
       "    </tr>\n",
       "    <tr>\n",
       "      <th>18</th>\n",
       "      <td>ETRG</td>\n",
       "      <td>Mirrored Aviator Sunglasses (58)</td>\n",
       "      <td>₹188</td>\n",
       "      <td>76% off</td>\n",
       "    </tr>\n",
       "    <tr>\n",
       "      <th>19</th>\n",
       "      <td>STYLISH GUYS</td>\n",
       "      <td>UV Protection Spectacle Sunglasses (Free Size)</td>\n",
       "      <td>₹798</td>\n",
       "      <td>77% off</td>\n",
       "    </tr>\n",
       "  </tbody>\n",
       "</table>\n",
       "</div>"
      ],
      "text/plain": [
       "               Brand                                        Description  \\\n",
       "0          ROYAL SON         UV Protection Retro Square Sunglasses (88)   \n",
       "1          Royal Son  Gradient, Mirrored, UV Protection Round, Round...   \n",
       "2     FDA COLLECTION  Gradient, Mirrored, UV Protection Round, Round...   \n",
       "3     FDA COLLECTION  Gradient, Mirrored, UV Protection, Polarized R...   \n",
       "4     FDA COLLECTION      UV Protection Wayfarer Sunglasses (Free Size)   \n",
       "5           Fastrack  Riding Glasses, UV Protection Oval Sunglasses ...   \n",
       "6            JOHAENA                       Others Round Sunglasses (50)   \n",
       "7             Fossil   UV Protection Rectangular Sunglasses (Free Size)   \n",
       "8     Rozzetta Craft                UV Protection Round Sunglasses (54)   \n",
       "9            Winsome  UV Protection, Mirrored, Night Vision, Riding ...   \n",
       "10             shadz         UV Protection Round Sunglasses (Free Size)   \n",
       "11             NuVew  Gradient, UV Protection Wayfarer Sunglasses (F...   \n",
       "12  shah collections  UV Protection, Polarized Retro Square Sunglass...   \n",
       "13          Fastrack                  Polarized Aviator Sunglasses (54)   \n",
       "14             shadz    Gradient, UV Protection Aviator Sunglasses (99)   \n",
       "15       Specsmakers  UV Protection, Mirrored, Gradient Retro Square...   \n",
       "16          DAHAAZIL  UV Protection, Mirrored, Gradient Round Sungla...   \n",
       "17           I Flash              UV Protection Aviator Sunglasses (58)   \n",
       "18              ETRG                   Mirrored Aviator Sunglasses (58)   \n",
       "19      STYLISH GUYS     UV Protection Spectacle Sunglasses (Free Size)   \n",
       "\n",
       "     Price Discount  \n",
       "0     ₹569  71% off  \n",
       "1     ₹664  66% off  \n",
       "2     ₹199  84% off  \n",
       "3     ₹188  87% off  \n",
       "4     ₹161  83% off  \n",
       "5     ₹674  25% off  \n",
       "6     ₹165  87% off  \n",
       "7   ₹2,070  52% off  \n",
       "8     ₹398  73% off  \n",
       "9     ₹158  84% off  \n",
       "10     ₹99  85% off  \n",
       "11    ₹364  60% off  \n",
       "12    ₹312  75% off  \n",
       "13    ₹559  30% off  \n",
       "14    ₹189  85% off  \n",
       "15    ₹693  65% off  \n",
       "16    ₹115  76% off  \n",
       "17    ₹165  86% off  \n",
       "18    ₹188  76% off  \n",
       "19    ₹798  77% off  "
      ]
     },
     "execution_count": 20,
     "metadata": {},
     "output_type": "execute_result"
    }
   ],
   "source": [
    "fk_sunglass=pd.DataFrame({})\n",
    "fk_sunglass['Brand']=brand[0:20]\n",
    "fk_sunglass['Description']=desc[0:20]\n",
    "fk_sunglass['Price']=price[0:20]\n",
    "fk_sunglass['Discount']=disc[0:20]\n",
    "fk_sunglass"
   ]
  },
  {
   "cell_type": "code",
   "execution_count": null,
   "metadata": {},
   "outputs": [],
   "source": []
  }
 ],
 "metadata": {
  "kernelspec": {
   "display_name": "Python 3",
   "language": "python",
   "name": "python3"
  },
  "language_info": {
   "codemirror_mode": {
    "name": "ipython",
    "version": 3
   },
   "file_extension": ".py",
   "mimetype": "text/x-python",
   "name": "python",
   "nbconvert_exporter": "python",
   "pygments_lexer": "ipython3",
   "version": "3.8.3"
  }
 },
 "nbformat": 4,
 "nbformat_minor": 4
}
